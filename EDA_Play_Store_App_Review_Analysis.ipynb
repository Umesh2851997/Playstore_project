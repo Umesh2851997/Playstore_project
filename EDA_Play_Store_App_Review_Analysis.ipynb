{
  "nbformat": 4,
  "nbformat_minor": 0,
  "metadata": {
    "colab": {
      "provenance": [],
      "collapsed_sections": [
        "yQaldy8SH6Dl",
        "tb3IE7fSDSmF",
        "MSa1f5Uengrz",
        "0wOQAZs5pc--",
        "K5QZ13OEpz2H",
        "lQ7QKXXCp7Bj",
        "448CDAPjqfQr",
        "KSlN3yHqYklG",
        "t6dVpIINYklI",
        "ijmpgYnKYklI",
        "-JiQyfWJYklI",
        "EM7whBJCYoAo",
        "fge-S5ZAYoAp",
        "85gYPyotYoAp",
        "RoGjAbkUYoAp",
        "4Of9eVA-YrdM",
        "iky9q4vBYrdO",
        "F6T5p64dYrdO",
        "y-Ehk30pYrdP",
        "bamQiAODYuh1",
        "QHF8YVU7Yuh3",
        "GwzvFGzlYuh3",
        "qYpmQ266Yuh3",
        "OH-pJp9IphqM",
        "bbFf2-_FphqN",
        "_ouA3fa0phqN",
        "Seke61FWphqN",
        "PIIx-8_IphqN",
        "t27r6nlMphqO",
        "r2jJGEOYphqO",
        "b0JNsNcRphqO",
        "BZR9WyysphqO",
        "jj7wYXLtphqO",
        "eZrbJ2SmphqO",
        "rFu4xreNphqO",
        "YJ55k-q6phqO",
        "U2RJ9gkRphqQ",
        "NC_X3p0fY2L0",
        "gIfDvo9L0UH2"
      ],
      "include_colab_link": true
    },
    "kernelspec": {
      "name": "python3",
      "display_name": "Python 3"
    },
    "language_info": {
      "name": "python"
    }
  },
  "cells": [
    {
      "cell_type": "markdown",
      "metadata": {
        "id": "view-in-github",
        "colab_type": "text"
      },
      "source": [
        "<a href=\"https://colab.research.google.com/github/Umesh2851997/Playstore_project/blob/main/EDA_Play_Store_App_Review_Analysis.ipynb\" target=\"_parent\"><img src=\"https://colab.research.google.com/assets/colab-badge.svg\" alt=\"Open In Colab\"/></a>"
      ]
    },
    {
      "cell_type": "markdown",
      "source": [
        "# **Project Name**    -  Play Store App Review Analysis\n",
        "\n"
      ],
      "metadata": {
        "id": "vncDsAP0Gaoa"
      }
    },
    {
      "cell_type": "markdown",
      "source": [
        "##### **Project Type**    - EDA (Exploratory Data Analysis)\n",
        "##### **Contribution**    - Team\n",
        "##### **Team Member 1 -**  Umesh Makkar\n",
        "##### **Team Member 2 -**  Soni Verma\n",
        "##### **Team Member 3 -**  Tanmay"
      ],
      "metadata": {
        "id": "beRrZCGUAJYm"
      }
    },
    {
      "cell_type": "markdown",
      "source": [
        "# **Project Details -**"
      ],
      "metadata": {
        "id": "FJNUwmbgGyua"
      }
    },
    {
      "cell_type": "markdown",
      "source": [
        "The Play Store apps data has enormous potential to drive app-making businesses to success. Actionable insights an be drawn for developers to work on and capture the Android market. Each app(row) has values for category, ratin, size, and more. Another dataset contains customer reviews of teh android apps. Explore and analyse the data to discover key factors responsible for app engagement and success."
      ],
      "metadata": {
        "id": "F6v_1wHtG2nS"
      }
    },
    {
      "cell_type": "markdown",
      "source": [
        "# **Project Summary -**\n",
        "\n"
      ],
      "metadata": {
        "id": "tTPC34q63rDm"
      }
    },
    {
      "cell_type": "markdown",
      "source": [
        "The Play Store apps data has enormous potential to drive app-making businesses to success. Actionable insights can be drawn for developers to work on and capture the Android market. Each app(row) has values for category, rating, size, and more. Another dataset contains customer reviews of the android apps. In this project we explored and analysed the data to discover key factors responsible for app engagement and success.\n",
        "\n",
        "We started the projects by understanding our datasets and at the same time cleaning it. However, cleaning the data was a tedious task. We encountered null values, wrong values and some outliers as well. We cleaned the data by dropping the null values or replacing them with mode or mean, as per the need of the situation.\n",
        "\n",
        "After cleaning the data, we started the analysing our data sets keeping business perspective in mind. The insights we drawn were then represented with the help of questions. Those questions were then answered with help of suitable plots followed by subsequent comments in form of questions and answers. Choice of plots were done keeping in mind the ease of depicting the trends in data, without infusing with unnecessary details. We made use of python modules like pandas, NumPy, matplotlib and seaborn to achieve our objectives.\n",
        "\n",
        "After the process of preparing, cleaning, plotting, changing and saving(showing), our EDA on play store data analysis project completed. It helped in understanding the data more comprehensively and presenting our insights in lucid manner."
      ],
      "metadata": {
        "id": "KanaICE95Ikd"
      }
    },
    {
      "cell_type": "markdown",
      "source": [
        "# **GitHub Link -**"
      ],
      "metadata": {
        "id": "w6K7xa23Elo4"
      }
    },
    {
      "cell_type": "markdown",
      "source": [
        "https://github.com/Umesh2851997/Playstore_project/blob/main/EDA_Play_Store_App_Review_Analysis.ipynb"
      ],
      "metadata": {
        "id": "h1o69JH3Eqqn"
      }
    },
    {
      "cell_type": "markdown",
      "source": [
        "#**Problem Summary & Business Objective**\n"
      ],
      "metadata": {
        "id": "yQaldy8SH6Dl"
      }
    },
    {
      "cell_type": "markdown",
      "source": [
        "\"Many businesses and developers face challenges in understanding user sentiments, feedback, and preferences from the vast amount of reviews posted on the Google Play Store for their mobile applications. Extracting meaningful insights from these reviews manually is time-consuming and often lacks accuracy. As a result, there is a need to develop an automated solution using natural language processing (NLP) and sentiment analysis techniques to efficiently analyze app reviews. The objective is to gain actionable insights that can help improve app quality, enhance user satisfaction, prioritize feature development, and make data-driven decisions to boost user acquisition and retention. The solution should provide an efficient, scalable, and accurate means of processing and categorizing large volumes of reviews to aid in brand reputation management, competitive analysis, and product roadmap planning.\""
      ],
      "metadata": {
        "id": "DpeJGUA3kjGy"
      }
    },
    {
      "cell_type": "markdown",
      "source": [
        "#### **Define Your Business Objective?**"
      ],
      "metadata": {
        "id": "PH-0ReGfmX4f"
      }
    },
    {
      "cell_type": "markdown",
      "source": [
        "The business objective of conducting Play Store app review analysis is to gain valuable insights and feedback from users who have used or are currently using a particular app. By analyzing the reviews and feedback left by users, businesses can achieve several goals:\n",
        "\n",
        "1 Improve App Quality: App reviews often contain feedback about bugs, crashes, and other issues. Analyzing these reviews can help developers identify problems and make improvements to enhance the overall app quality.\n",
        "\n",
        "2 User Satisfaction: Understanding user sentiments and preferences expressed in reviews can help businesses gauge user satisfaction levels. Positive reviews can highlight features users love, while negative reviews can shed light on areas that need improvement.\n",
        "\n",
        "3 Feature Prioritization: Analyzing reviews can help businesses identify popular features and functionalities that users appreciate the most. This data can be used to prioritize future development efforts.\n",
        "\n",
        "4 Competitive Analysis: Comparing app reviews with those of competitors can offer valuable insights into strengths and weaknesses. This can help businesses identify opportunities to differentiate themselves and improve their market position.\n",
        "\n",
        "5 User Acquisition and Retention: Positive reviews and high ratings can attract more users to download the app, improving user acquisition. Additionally, addressing negative reviews and resolving user issues can lead to higher user retention rates."
      ],
      "metadata": {
        "id": "PhDvGCAqmjP1"
      }
    },
    {
      "cell_type": "markdown",
      "source": [
        "#**Introduction of Data**"
      ],
      "metadata": {
        "id": "O_i_v8NEhb9l"
      }
    },
    {
      "cell_type": "markdown",
      "source": [
        "Mobile applications are widely available. They are simple to make and may be profitable. These two reasons have led to an increase in the number of apps being created. In this notebook, we'll compare more than 10,000 Google Play apps from various categories to conduct a thorough analysis of the Android app industry. In order to develop strategies to promote growth and retention, we will search the data for insights.\n",
        "\n",
        "Let's examine the data, which consists of the following two files:\n",
        "\n",
        "datasets/play_store_data.csv\n",
        "\n",
        "This file contains all the details of the apps on Google Play. There are 13 features that describe a given app.\n",
        "\n",
        "*   **App**: Name of the app\n",
        "*   **Category**: Category of the app. Some examples are: ART_AND_DESIGN, FINANCE, COMICS, BEAUTY etc.\n",
        "*   **Rating**: The current average rating (out of 5) of the app on Google Play\n",
        "*   **Reviews**: Number of user reviews given on the app\n",
        "*   **Size**: Size of the app in MB (megabytes)\n",
        "*   **Installs**: Number of times the app was downloaded from Google Play\n",
        "*   **Type**: Whether the app is paid or free\n",
        "*   **Price**: Price of the app in US$\n",
        "*   **Content Rating**: A content rating (also known as maturity rating) rates the suitability of TV broadcasts, movies, comic books, or video games to its audience.To show which age group is suitable to view media and entertainment.\n",
        "*   **Genres**: A category of artistic, musical, or literary composition characterized by a particular style, form, or content\n",
        "*   **Last Updated**: Date on which the app was last updated on Google Play\n",
        "*   **Current Ver**: Current Version means a version of the software that is currently being supported by its publisher.\n",
        "*   **Android Ver**: Android versions (codenames) are used to describe the various updates for the open source Android mobile operating system.\n",
        "\n",
        "datasets/user_reviews.csv\n",
        "\n",
        "This document showcases a selection of the top 100 first-user evaluations for each app. Each category's distribution of favorable and unfavorable reviews has been pre-processed and run through a sentiment analyzer.\n",
        "\n",
        "* **App**: Name of the app on which the user review was provided. Matches the App column of the play_store_data.csv file\n",
        "* **Translated Review**: The pre-processed user review text.\n",
        "* **Sentiment**: Sentiment category of the user review - Positive, Negative or Neutral.\n",
        "* **Sentiment Polarity**: Sentiment score of the user review.\n",
        "\n"
      ],
      "metadata": {
        "id": "4uMSy8Y5AeLW"
      }
    },
    {
      "cell_type": "markdown",
      "source": [
        "# Import Libraries"
      ],
      "metadata": {
        "id": "Y3lxredqlCYt"
      }
    },
    {
      "cell_type": "code",
      "source": [
        "# Import Libraries\n",
        "import numpy as np\n",
        "import pandas as pd\n",
        "import matplotlib.pyplot as plt\n",
        "import seaborn as sns\n",
        "from datetime import datetime"
      ],
      "metadata": {
        "id": "M8Vqi-pPk-HR"
      },
      "execution_count": 50,
      "outputs": []
    },
    {
      "cell_type": "markdown",
      "source": [
        "### Dataset Loading"
      ],
      "metadata": {
        "id": "3RnN4peoiCZX"
      }
    },
    {
      "cell_type": "code",
      "source": [
        "# Mount the Drive\n",
        "from google.colab import drive\n",
        "drive.mount('/content/drive')"
      ],
      "metadata": {
        "id": "6SncfiRdAR1K",
        "colab": {
          "base_uri": "https://localhost:8080/"
        },
        "outputId": "5d532f4c-3c5c-4108-f283-e16fd98c6967"
      },
      "execution_count": 51,
      "outputs": [
        {
          "output_type": "stream",
          "name": "stdout",
          "text": [
            "Drive already mounted at /content/drive; to attempt to forcibly remount, call drive.mount(\"/content/drive\", force_remount=True).\n"
          ]
        }
      ]
    },
    {
      "cell_type": "code",
      "source": [
        "# Read the data\n",
        "playstore_data = \"/content/drive/MyDrive/My_new_numpy/Play Store Data.csv\"\n",
        "user_data = \"/content/drive/MyDrive/My_new_numpy/User Reviews.csv\"\n",
        "\n",
        "playstoredf = pd.read_csv(playstore_data)\n",
        "userdf = pd.read_csv(user_data)\n",
        "\n"
      ],
      "metadata": {
        "id": "LWNFOSvLl09H"
      },
      "execution_count": 52,
      "outputs": []
    },
    {
      "cell_type": "markdown",
      "source": [
        "### Datasets First View"
      ],
      "metadata": {
        "id": "tb3IE7fSDSmF"
      }
    },
    {
      "cell_type": "code",
      "source": [
        "playstoredf.head() #Display the first 5 row of the Playstoredf"
      ],
      "metadata": {
        "id": "V5bYqahoPj3t",
        "colab": {
          "base_uri": "https://localhost:8080/",
          "height": 0
        },
        "outputId": "f5d0491a-8577-443e-e1d0-0224b6d15516"
      },
      "execution_count": 53,
      "outputs": [
        {
          "output_type": "execute_result",
          "data": {
            "text/plain": [
              "                                                 App        Category  Rating  \\\n",
              "0     Photo Editor & Candy Camera & Grid & ScrapBook  ART_AND_DESIGN     4.1   \n",
              "1                                Coloring book moana  ART_AND_DESIGN     3.9   \n",
              "2  U Launcher Lite – FREE Live Cool Themes, Hide ...  ART_AND_DESIGN     4.7   \n",
              "3                              Sketch - Draw & Paint  ART_AND_DESIGN     4.5   \n",
              "4              Pixel Draw - Number Art Coloring Book  ART_AND_DESIGN     4.3   \n",
              "\n",
              "  Reviews  Size     Installs  Type Price Content Rating  \\\n",
              "0     159   19M      10,000+  Free     0       Everyone   \n",
              "1     967   14M     500,000+  Free     0       Everyone   \n",
              "2   87510  8.7M   5,000,000+  Free     0       Everyone   \n",
              "3  215644   25M  50,000,000+  Free     0           Teen   \n",
              "4     967  2.8M     100,000+  Free     0       Everyone   \n",
              "\n",
              "                      Genres      Last Updated         Current Ver  \\\n",
              "0               Art & Design   January 7, 2018               1.0.0   \n",
              "1  Art & Design;Pretend Play  January 15, 2018               2.0.0   \n",
              "2               Art & Design    August 1, 2018               1.2.4   \n",
              "3               Art & Design      June 8, 2018  Varies with device   \n",
              "4    Art & Design;Creativity     June 20, 2018                 1.1   \n",
              "\n",
              "    Android Ver  \n",
              "0  4.0.3 and up  \n",
              "1  4.0.3 and up  \n",
              "2  4.0.3 and up  \n",
              "3    4.2 and up  \n",
              "4    4.4 and up  "
            ],
            "text/html": [
              "\n",
              "\n",
              "  <div id=\"df-5d80e7b5-f34f-45fa-80a8-1cb99b08ea57\">\n",
              "    <div class=\"colab-df-container\">\n",
              "      <div>\n",
              "<style scoped>\n",
              "    .dataframe tbody tr th:only-of-type {\n",
              "        vertical-align: middle;\n",
              "    }\n",
              "\n",
              "    .dataframe tbody tr th {\n",
              "        vertical-align: top;\n",
              "    }\n",
              "\n",
              "    .dataframe thead th {\n",
              "        text-align: right;\n",
              "    }\n",
              "</style>\n",
              "<table border=\"1\" class=\"dataframe\">\n",
              "  <thead>\n",
              "    <tr style=\"text-align: right;\">\n",
              "      <th></th>\n",
              "      <th>App</th>\n",
              "      <th>Category</th>\n",
              "      <th>Rating</th>\n",
              "      <th>Reviews</th>\n",
              "      <th>Size</th>\n",
              "      <th>Installs</th>\n",
              "      <th>Type</th>\n",
              "      <th>Price</th>\n",
              "      <th>Content Rating</th>\n",
              "      <th>Genres</th>\n",
              "      <th>Last Updated</th>\n",
              "      <th>Current Ver</th>\n",
              "      <th>Android Ver</th>\n",
              "    </tr>\n",
              "  </thead>\n",
              "  <tbody>\n",
              "    <tr>\n",
              "      <th>0</th>\n",
              "      <td>Photo Editor &amp; Candy Camera &amp; Grid &amp; ScrapBook</td>\n",
              "      <td>ART_AND_DESIGN</td>\n",
              "      <td>4.1</td>\n",
              "      <td>159</td>\n",
              "      <td>19M</td>\n",
              "      <td>10,000+</td>\n",
              "      <td>Free</td>\n",
              "      <td>0</td>\n",
              "      <td>Everyone</td>\n",
              "      <td>Art &amp; Design</td>\n",
              "      <td>January 7, 2018</td>\n",
              "      <td>1.0.0</td>\n",
              "      <td>4.0.3 and up</td>\n",
              "    </tr>\n",
              "    <tr>\n",
              "      <th>1</th>\n",
              "      <td>Coloring book moana</td>\n",
              "      <td>ART_AND_DESIGN</td>\n",
              "      <td>3.9</td>\n",
              "      <td>967</td>\n",
              "      <td>14M</td>\n",
              "      <td>500,000+</td>\n",
              "      <td>Free</td>\n",
              "      <td>0</td>\n",
              "      <td>Everyone</td>\n",
              "      <td>Art &amp; Design;Pretend Play</td>\n",
              "      <td>January 15, 2018</td>\n",
              "      <td>2.0.0</td>\n",
              "      <td>4.0.3 and up</td>\n",
              "    </tr>\n",
              "    <tr>\n",
              "      <th>2</th>\n",
              "      <td>U Launcher Lite – FREE Live Cool Themes, Hide ...</td>\n",
              "      <td>ART_AND_DESIGN</td>\n",
              "      <td>4.7</td>\n",
              "      <td>87510</td>\n",
              "      <td>8.7M</td>\n",
              "      <td>5,000,000+</td>\n",
              "      <td>Free</td>\n",
              "      <td>0</td>\n",
              "      <td>Everyone</td>\n",
              "      <td>Art &amp; Design</td>\n",
              "      <td>August 1, 2018</td>\n",
              "      <td>1.2.4</td>\n",
              "      <td>4.0.3 and up</td>\n",
              "    </tr>\n",
              "    <tr>\n",
              "      <th>3</th>\n",
              "      <td>Sketch - Draw &amp; Paint</td>\n",
              "      <td>ART_AND_DESIGN</td>\n",
              "      <td>4.5</td>\n",
              "      <td>215644</td>\n",
              "      <td>25M</td>\n",
              "      <td>50,000,000+</td>\n",
              "      <td>Free</td>\n",
              "      <td>0</td>\n",
              "      <td>Teen</td>\n",
              "      <td>Art &amp; Design</td>\n",
              "      <td>June 8, 2018</td>\n",
              "      <td>Varies with device</td>\n",
              "      <td>4.2 and up</td>\n",
              "    </tr>\n",
              "    <tr>\n",
              "      <th>4</th>\n",
              "      <td>Pixel Draw - Number Art Coloring Book</td>\n",
              "      <td>ART_AND_DESIGN</td>\n",
              "      <td>4.3</td>\n",
              "      <td>967</td>\n",
              "      <td>2.8M</td>\n",
              "      <td>100,000+</td>\n",
              "      <td>Free</td>\n",
              "      <td>0</td>\n",
              "      <td>Everyone</td>\n",
              "      <td>Art &amp; Design;Creativity</td>\n",
              "      <td>June 20, 2018</td>\n",
              "      <td>1.1</td>\n",
              "      <td>4.4 and up</td>\n",
              "    </tr>\n",
              "  </tbody>\n",
              "</table>\n",
              "</div>\n",
              "      <button class=\"colab-df-convert\" onclick=\"convertToInteractive('df-5d80e7b5-f34f-45fa-80a8-1cb99b08ea57')\"\n",
              "              title=\"Convert this dataframe to an interactive table.\"\n",
              "              style=\"display:none;\">\n",
              "\n",
              "  <svg xmlns=\"http://www.w3.org/2000/svg\" height=\"24px\"viewBox=\"0 0 24 24\"\n",
              "       width=\"24px\">\n",
              "    <path d=\"M0 0h24v24H0V0z\" fill=\"none\"/>\n",
              "    <path d=\"M18.56 5.44l.94 2.06.94-2.06 2.06-.94-2.06-.94-.94-2.06-.94 2.06-2.06.94zm-11 1L8.5 8.5l.94-2.06 2.06-.94-2.06-.94L8.5 2.5l-.94 2.06-2.06.94zm10 10l.94 2.06.94-2.06 2.06-.94-2.06-.94-.94-2.06-.94 2.06-2.06.94z\"/><path d=\"M17.41 7.96l-1.37-1.37c-.4-.4-.92-.59-1.43-.59-.52 0-1.04.2-1.43.59L10.3 9.45l-7.72 7.72c-.78.78-.78 2.05 0 2.83L4 21.41c.39.39.9.59 1.41.59.51 0 1.02-.2 1.41-.59l7.78-7.78 2.81-2.81c.8-.78.8-2.07 0-2.86zM5.41 20L4 18.59l7.72-7.72 1.47 1.35L5.41 20z\"/>\n",
              "  </svg>\n",
              "      </button>\n",
              "\n",
              "\n",
              "\n",
              "    <div id=\"df-59a5f4f3-d1c2-4286-a942-852856cd0ef4\">\n",
              "      <button class=\"colab-df-quickchart\" onclick=\"quickchart('df-59a5f4f3-d1c2-4286-a942-852856cd0ef4')\"\n",
              "              title=\"Suggest charts.\"\n",
              "              style=\"display:none;\">\n",
              "\n",
              "<svg xmlns=\"http://www.w3.org/2000/svg\" height=\"24px\"viewBox=\"0 0 24 24\"\n",
              "     width=\"24px\">\n",
              "    <g>\n",
              "        <path d=\"M19 3H5c-1.1 0-2 .9-2 2v14c0 1.1.9 2 2 2h14c1.1 0 2-.9 2-2V5c0-1.1-.9-2-2-2zM9 17H7v-7h2v7zm4 0h-2V7h2v10zm4 0h-2v-4h2v4z\"/>\n",
              "    </g>\n",
              "</svg>\n",
              "      </button>\n",
              "    </div>\n",
              "\n",
              "<style>\n",
              "  .colab-df-quickchart {\n",
              "    background-color: #E8F0FE;\n",
              "    border: none;\n",
              "    border-radius: 50%;\n",
              "    cursor: pointer;\n",
              "    display: none;\n",
              "    fill: #1967D2;\n",
              "    height: 32px;\n",
              "    padding: 0 0 0 0;\n",
              "    width: 32px;\n",
              "  }\n",
              "\n",
              "  .colab-df-quickchart:hover {\n",
              "    background-color: #E2EBFA;\n",
              "    box-shadow: 0px 1px 2px rgba(60, 64, 67, 0.3), 0px 1px 3px 1px rgba(60, 64, 67, 0.15);\n",
              "    fill: #174EA6;\n",
              "  }\n",
              "\n",
              "  [theme=dark] .colab-df-quickchart {\n",
              "    background-color: #3B4455;\n",
              "    fill: #D2E3FC;\n",
              "  }\n",
              "\n",
              "  [theme=dark] .colab-df-quickchart:hover {\n",
              "    background-color: #434B5C;\n",
              "    box-shadow: 0px 1px 3px 1px rgba(0, 0, 0, 0.15);\n",
              "    filter: drop-shadow(0px 1px 2px rgba(0, 0, 0, 0.3));\n",
              "    fill: #FFFFFF;\n",
              "  }\n",
              "</style>\n",
              "\n",
              "    <script>\n",
              "      async function quickchart(key) {\n",
              "        const containerElement = document.querySelector('#' + key);\n",
              "        const charts = await google.colab.kernel.invokeFunction(\n",
              "            'suggestCharts', [key], {});\n",
              "      }\n",
              "    </script>\n",
              "\n",
              "      <script>\n",
              "\n",
              "function displayQuickchartButton(domScope) {\n",
              "  let quickchartButtonEl =\n",
              "    domScope.querySelector('#df-59a5f4f3-d1c2-4286-a942-852856cd0ef4 button.colab-df-quickchart');\n",
              "  quickchartButtonEl.style.display =\n",
              "    google.colab.kernel.accessAllowed ? 'block' : 'none';\n",
              "}\n",
              "\n",
              "        displayQuickchartButton(document);\n",
              "      </script>\n",
              "      <style>\n",
              "    .colab-df-container {\n",
              "      display:flex;\n",
              "      flex-wrap:wrap;\n",
              "      gap: 12px;\n",
              "    }\n",
              "\n",
              "    .colab-df-convert {\n",
              "      background-color: #E8F0FE;\n",
              "      border: none;\n",
              "      border-radius: 50%;\n",
              "      cursor: pointer;\n",
              "      display: none;\n",
              "      fill: #1967D2;\n",
              "      height: 32px;\n",
              "      padding: 0 0 0 0;\n",
              "      width: 32px;\n",
              "    }\n",
              "\n",
              "    .colab-df-convert:hover {\n",
              "      background-color: #E2EBFA;\n",
              "      box-shadow: 0px 1px 2px rgba(60, 64, 67, 0.3), 0px 1px 3px 1px rgba(60, 64, 67, 0.15);\n",
              "      fill: #174EA6;\n",
              "    }\n",
              "\n",
              "    [theme=dark] .colab-df-convert {\n",
              "      background-color: #3B4455;\n",
              "      fill: #D2E3FC;\n",
              "    }\n",
              "\n",
              "    [theme=dark] .colab-df-convert:hover {\n",
              "      background-color: #434B5C;\n",
              "      box-shadow: 0px 1px 3px 1px rgba(0, 0, 0, 0.15);\n",
              "      filter: drop-shadow(0px 1px 2px rgba(0, 0, 0, 0.3));\n",
              "      fill: #FFFFFF;\n",
              "    }\n",
              "  </style>\n",
              "\n",
              "      <script>\n",
              "        const buttonEl =\n",
              "          document.querySelector('#df-5d80e7b5-f34f-45fa-80a8-1cb99b08ea57 button.colab-df-convert');\n",
              "        buttonEl.style.display =\n",
              "          google.colab.kernel.accessAllowed ? 'block' : 'none';\n",
              "\n",
              "        async function convertToInteractive(key) {\n",
              "          const element = document.querySelector('#df-5d80e7b5-f34f-45fa-80a8-1cb99b08ea57');\n",
              "          const dataTable =\n",
              "            await google.colab.kernel.invokeFunction('convertToInteractive',\n",
              "                                                     [key], {});\n",
              "          if (!dataTable) return;\n",
              "\n",
              "          const docLinkHtml = 'Like what you see? Visit the ' +\n",
              "            '<a target=\"_blank\" href=https://colab.research.google.com/notebooks/data_table.ipynb>data table notebook</a>'\n",
              "            + ' to learn more about interactive tables.';\n",
              "          element.innerHTML = '';\n",
              "          dataTable['output_type'] = 'display_data';\n",
              "          await google.colab.output.renderOutput(dataTable, element);\n",
              "          const docLink = document.createElement('div');\n",
              "          docLink.innerHTML = docLinkHtml;\n",
              "          element.appendChild(docLink);\n",
              "        }\n",
              "      </script>\n",
              "    </div>\n",
              "  </div>\n"
            ]
          },
          "metadata": {},
          "execution_count": 53
        }
      ]
    },
    {
      "cell_type": "code",
      "source": [
        "#Display the first 5 row of the userdf\n",
        "userdf.head()"
      ],
      "metadata": {
        "id": "FEgqYeLWPm0B",
        "colab": {
          "base_uri": "https://localhost:8080/",
          "height": 0
        },
        "outputId": "efdbce12-60d6-462f-de2f-edcddc0f2e0c"
      },
      "execution_count": 54,
      "outputs": [
        {
          "output_type": "execute_result",
          "data": {
            "text/plain": [
              "                     App                                  Translated_Review  \\\n",
              "0  10 Best Foods for You  I like eat delicious food. That's I'm cooking ...   \n",
              "1  10 Best Foods for You    This help eating healthy exercise regular basis   \n",
              "2  10 Best Foods for You                                                NaN   \n",
              "3  10 Best Foods for You         Works great especially going grocery store   \n",
              "4  10 Best Foods for You                                       Best idea us   \n",
              "\n",
              "  Sentiment  Sentiment_Polarity  Sentiment_Subjectivity  \n",
              "0  Positive                1.00                0.533333  \n",
              "1  Positive                0.25                0.288462  \n",
              "2       NaN                 NaN                     NaN  \n",
              "3  Positive                0.40                0.875000  \n",
              "4  Positive                1.00                0.300000  "
            ],
            "text/html": [
              "\n",
              "\n",
              "  <div id=\"df-4de77607-c3f8-49ff-a224-33f730c2c784\">\n",
              "    <div class=\"colab-df-container\">\n",
              "      <div>\n",
              "<style scoped>\n",
              "    .dataframe tbody tr th:only-of-type {\n",
              "        vertical-align: middle;\n",
              "    }\n",
              "\n",
              "    .dataframe tbody tr th {\n",
              "        vertical-align: top;\n",
              "    }\n",
              "\n",
              "    .dataframe thead th {\n",
              "        text-align: right;\n",
              "    }\n",
              "</style>\n",
              "<table border=\"1\" class=\"dataframe\">\n",
              "  <thead>\n",
              "    <tr style=\"text-align: right;\">\n",
              "      <th></th>\n",
              "      <th>App</th>\n",
              "      <th>Translated_Review</th>\n",
              "      <th>Sentiment</th>\n",
              "      <th>Sentiment_Polarity</th>\n",
              "      <th>Sentiment_Subjectivity</th>\n",
              "    </tr>\n",
              "  </thead>\n",
              "  <tbody>\n",
              "    <tr>\n",
              "      <th>0</th>\n",
              "      <td>10 Best Foods for You</td>\n",
              "      <td>I like eat delicious food. That's I'm cooking ...</td>\n",
              "      <td>Positive</td>\n",
              "      <td>1.00</td>\n",
              "      <td>0.533333</td>\n",
              "    </tr>\n",
              "    <tr>\n",
              "      <th>1</th>\n",
              "      <td>10 Best Foods for You</td>\n",
              "      <td>This help eating healthy exercise regular basis</td>\n",
              "      <td>Positive</td>\n",
              "      <td>0.25</td>\n",
              "      <td>0.288462</td>\n",
              "    </tr>\n",
              "    <tr>\n",
              "      <th>2</th>\n",
              "      <td>10 Best Foods for You</td>\n",
              "      <td>NaN</td>\n",
              "      <td>NaN</td>\n",
              "      <td>NaN</td>\n",
              "      <td>NaN</td>\n",
              "    </tr>\n",
              "    <tr>\n",
              "      <th>3</th>\n",
              "      <td>10 Best Foods for You</td>\n",
              "      <td>Works great especially going grocery store</td>\n",
              "      <td>Positive</td>\n",
              "      <td>0.40</td>\n",
              "      <td>0.875000</td>\n",
              "    </tr>\n",
              "    <tr>\n",
              "      <th>4</th>\n",
              "      <td>10 Best Foods for You</td>\n",
              "      <td>Best idea us</td>\n",
              "      <td>Positive</td>\n",
              "      <td>1.00</td>\n",
              "      <td>0.300000</td>\n",
              "    </tr>\n",
              "  </tbody>\n",
              "</table>\n",
              "</div>\n",
              "      <button class=\"colab-df-convert\" onclick=\"convertToInteractive('df-4de77607-c3f8-49ff-a224-33f730c2c784')\"\n",
              "              title=\"Convert this dataframe to an interactive table.\"\n",
              "              style=\"display:none;\">\n",
              "\n",
              "  <svg xmlns=\"http://www.w3.org/2000/svg\" height=\"24px\"viewBox=\"0 0 24 24\"\n",
              "       width=\"24px\">\n",
              "    <path d=\"M0 0h24v24H0V0z\" fill=\"none\"/>\n",
              "    <path d=\"M18.56 5.44l.94 2.06.94-2.06 2.06-.94-2.06-.94-.94-2.06-.94 2.06-2.06.94zm-11 1L8.5 8.5l.94-2.06 2.06-.94-2.06-.94L8.5 2.5l-.94 2.06-2.06.94zm10 10l.94 2.06.94-2.06 2.06-.94-2.06-.94-.94-2.06-.94 2.06-2.06.94z\"/><path d=\"M17.41 7.96l-1.37-1.37c-.4-.4-.92-.59-1.43-.59-.52 0-1.04.2-1.43.59L10.3 9.45l-7.72 7.72c-.78.78-.78 2.05 0 2.83L4 21.41c.39.39.9.59 1.41.59.51 0 1.02-.2 1.41-.59l7.78-7.78 2.81-2.81c.8-.78.8-2.07 0-2.86zM5.41 20L4 18.59l7.72-7.72 1.47 1.35L5.41 20z\"/>\n",
              "  </svg>\n",
              "      </button>\n",
              "\n",
              "\n",
              "\n",
              "    <div id=\"df-97cdeb96-7669-42ff-97f5-e3007a51ec71\">\n",
              "      <button class=\"colab-df-quickchart\" onclick=\"quickchart('df-97cdeb96-7669-42ff-97f5-e3007a51ec71')\"\n",
              "              title=\"Suggest charts.\"\n",
              "              style=\"display:none;\">\n",
              "\n",
              "<svg xmlns=\"http://www.w3.org/2000/svg\" height=\"24px\"viewBox=\"0 0 24 24\"\n",
              "     width=\"24px\">\n",
              "    <g>\n",
              "        <path d=\"M19 3H5c-1.1 0-2 .9-2 2v14c0 1.1.9 2 2 2h14c1.1 0 2-.9 2-2V5c0-1.1-.9-2-2-2zM9 17H7v-7h2v7zm4 0h-2V7h2v10zm4 0h-2v-4h2v4z\"/>\n",
              "    </g>\n",
              "</svg>\n",
              "      </button>\n",
              "    </div>\n",
              "\n",
              "<style>\n",
              "  .colab-df-quickchart {\n",
              "    background-color: #E8F0FE;\n",
              "    border: none;\n",
              "    border-radius: 50%;\n",
              "    cursor: pointer;\n",
              "    display: none;\n",
              "    fill: #1967D2;\n",
              "    height: 32px;\n",
              "    padding: 0 0 0 0;\n",
              "    width: 32px;\n",
              "  }\n",
              "\n",
              "  .colab-df-quickchart:hover {\n",
              "    background-color: #E2EBFA;\n",
              "    box-shadow: 0px 1px 2px rgba(60, 64, 67, 0.3), 0px 1px 3px 1px rgba(60, 64, 67, 0.15);\n",
              "    fill: #174EA6;\n",
              "  }\n",
              "\n",
              "  [theme=dark] .colab-df-quickchart {\n",
              "    background-color: #3B4455;\n",
              "    fill: #D2E3FC;\n",
              "  }\n",
              "\n",
              "  [theme=dark] .colab-df-quickchart:hover {\n",
              "    background-color: #434B5C;\n",
              "    box-shadow: 0px 1px 3px 1px rgba(0, 0, 0, 0.15);\n",
              "    filter: drop-shadow(0px 1px 2px rgba(0, 0, 0, 0.3));\n",
              "    fill: #FFFFFF;\n",
              "  }\n",
              "</style>\n",
              "\n",
              "    <script>\n",
              "      async function quickchart(key) {\n",
              "        const containerElement = document.querySelector('#' + key);\n",
              "        const charts = await google.colab.kernel.invokeFunction(\n",
              "            'suggestCharts', [key], {});\n",
              "      }\n",
              "    </script>\n",
              "\n",
              "      <script>\n",
              "\n",
              "function displayQuickchartButton(domScope) {\n",
              "  let quickchartButtonEl =\n",
              "    domScope.querySelector('#df-97cdeb96-7669-42ff-97f5-e3007a51ec71 button.colab-df-quickchart');\n",
              "  quickchartButtonEl.style.display =\n",
              "    google.colab.kernel.accessAllowed ? 'block' : 'none';\n",
              "}\n",
              "\n",
              "        displayQuickchartButton(document);\n",
              "      </script>\n",
              "      <style>\n",
              "    .colab-df-container {\n",
              "      display:flex;\n",
              "      flex-wrap:wrap;\n",
              "      gap: 12px;\n",
              "    }\n",
              "\n",
              "    .colab-df-convert {\n",
              "      background-color: #E8F0FE;\n",
              "      border: none;\n",
              "      border-radius: 50%;\n",
              "      cursor: pointer;\n",
              "      display: none;\n",
              "      fill: #1967D2;\n",
              "      height: 32px;\n",
              "      padding: 0 0 0 0;\n",
              "      width: 32px;\n",
              "    }\n",
              "\n",
              "    .colab-df-convert:hover {\n",
              "      background-color: #E2EBFA;\n",
              "      box-shadow: 0px 1px 2px rgba(60, 64, 67, 0.3), 0px 1px 3px 1px rgba(60, 64, 67, 0.15);\n",
              "      fill: #174EA6;\n",
              "    }\n",
              "\n",
              "    [theme=dark] .colab-df-convert {\n",
              "      background-color: #3B4455;\n",
              "      fill: #D2E3FC;\n",
              "    }\n",
              "\n",
              "    [theme=dark] .colab-df-convert:hover {\n",
              "      background-color: #434B5C;\n",
              "      box-shadow: 0px 1px 3px 1px rgba(0, 0, 0, 0.15);\n",
              "      filter: drop-shadow(0px 1px 2px rgba(0, 0, 0, 0.3));\n",
              "      fill: #FFFFFF;\n",
              "    }\n",
              "  </style>\n",
              "\n",
              "      <script>\n",
              "        const buttonEl =\n",
              "          document.querySelector('#df-4de77607-c3f8-49ff-a224-33f730c2c784 button.colab-df-convert');\n",
              "        buttonEl.style.display =\n",
              "          google.colab.kernel.accessAllowed ? 'block' : 'none';\n",
              "\n",
              "        async function convertToInteractive(key) {\n",
              "          const element = document.querySelector('#df-4de77607-c3f8-49ff-a224-33f730c2c784');\n",
              "          const dataTable =\n",
              "            await google.colab.kernel.invokeFunction('convertToInteractive',\n",
              "                                                     [key], {});\n",
              "          if (!dataTable) return;\n",
              "\n",
              "          const docLinkHtml = 'Like what you see? Visit the ' +\n",
              "            '<a target=\"_blank\" href=https://colab.research.google.com/notebooks/data_table.ipynb>data table notebook</a>'\n",
              "            + ' to learn more about interactive tables.';\n",
              "          element.innerHTML = '';\n",
              "          dataTable['output_type'] = 'display_data';\n",
              "          await google.colab.output.renderOutput(dataTable, element);\n",
              "          const docLink = document.createElement('div');\n",
              "          docLink.innerHTML = docLinkHtml;\n",
              "          element.appendChild(docLink);\n",
              "        }\n",
              "      </script>\n",
              "    </div>\n",
              "  </div>\n"
            ]
          },
          "metadata": {},
          "execution_count": 54
        }
      ]
    },
    {
      "cell_type": "markdown",
      "source": [
        "### Explore the Both Datasets"
      ],
      "metadata": {
        "id": "VRrJ_TGSIhVJ"
      }
    },
    {
      "cell_type": "code",
      "source": [
        "#Play Store App Data\n",
        "print(\"Total number of row and columns in the dataset\", playstoredf.shape)\n",
        "print(\"Total number of Unique apps in the dataset:\", playstoredf['App'].nunique())"
      ],
      "metadata": {
        "id": "_Z0uK0stkCL3",
        "colab": {
          "base_uri": "https://localhost:8080/"
        },
        "outputId": "66f1287b-5396-46f3-fab2-fefbb6911228"
      },
      "execution_count": 55,
      "outputs": [
        {
          "output_type": "stream",
          "name": "stdout",
          "text": [
            "Total number of row and columns in the dataset (10841, 13)\n",
            "Total number of Unique apps in the dataset: 9660\n"
          ]
        }
      ]
    },
    {
      "cell_type": "code",
      "source": [
        "#user reviews Data\n",
        "print(\"Total of row and columns in User review data\", userdf.shape)\n",
        "print(\"Total number of unique apps in the dataset\", userdf['App'].nunique())"
      ],
      "metadata": {
        "id": "64gIE2SjkHtj",
        "colab": {
          "base_uri": "https://localhost:8080/"
        },
        "outputId": "a51a5f11-8f0c-4c98-acb7-9b3d218582ed"
      },
      "execution_count": 56,
      "outputs": [
        {
          "output_type": "stream",
          "name": "stdout",
          "text": [
            "Total of row and columns in User review data (64295, 5)\n",
            "Total number of unique apps in the dataset 1074\n"
          ]
        }
      ]
    },
    {
      "cell_type": "code",
      "source": [
        "# Summary of the playstore Dataset\n",
        "playstoredf.info()"
      ],
      "metadata": {
        "id": "e9hRXRi6meOf",
        "colab": {
          "base_uri": "https://localhost:8080/"
        },
        "outputId": "c7953359-7de2-4692-8b0c-6170427c3aa6"
      },
      "execution_count": 57,
      "outputs": [
        {
          "output_type": "stream",
          "name": "stdout",
          "text": [
            "<class 'pandas.core.frame.DataFrame'>\n",
            "RangeIndex: 10841 entries, 0 to 10840\n",
            "Data columns (total 13 columns):\n",
            " #   Column          Non-Null Count  Dtype  \n",
            "---  ------          --------------  -----  \n",
            " 0   App             10841 non-null  object \n",
            " 1   Category        10841 non-null  object \n",
            " 2   Rating          9367 non-null   float64\n",
            " 3   Reviews         10841 non-null  object \n",
            " 4   Size            10841 non-null  object \n",
            " 5   Installs        10841 non-null  object \n",
            " 6   Type            10840 non-null  object \n",
            " 7   Price           10841 non-null  object \n",
            " 8   Content Rating  10840 non-null  object \n",
            " 9   Genres          10841 non-null  object \n",
            " 10  Last Updated    10841 non-null  object \n",
            " 11  Current Ver     10833 non-null  object \n",
            " 12  Android Ver     10838 non-null  object \n",
            "dtypes: float64(1), object(12)\n",
            "memory usage: 1.1+ MB\n"
          ]
        }
      ]
    },
    {
      "cell_type": "code",
      "source": [
        "#summary of user review data\n",
        "userdf.info()"
      ],
      "metadata": {
        "id": "LUwP7EnzQXZm",
        "colab": {
          "base_uri": "https://localhost:8080/"
        },
        "outputId": "bd28a665-fe54-41c0-a3c7-bc666741f62d"
      },
      "execution_count": 58,
      "outputs": [
        {
          "output_type": "stream",
          "name": "stdout",
          "text": [
            "<class 'pandas.core.frame.DataFrame'>\n",
            "RangeIndex: 64295 entries, 0 to 64294\n",
            "Data columns (total 5 columns):\n",
            " #   Column                  Non-Null Count  Dtype  \n",
            "---  ------                  --------------  -----  \n",
            " 0   App                     64295 non-null  object \n",
            " 1   Translated_Review       37427 non-null  object \n",
            " 2   Sentiment               37432 non-null  object \n",
            " 3   Sentiment_Polarity      37432 non-null  float64\n",
            " 4   Sentiment_Subjectivity  37432 non-null  float64\n",
            "dtypes: float64(2), object(3)\n",
            "memory usage: 2.5+ MB\n"
          ]
        }
      ]
    },
    {
      "cell_type": "markdown",
      "source": [
        "# Data Cleaning/Manipulation/Data Wrangling\n",
        "\n",
        "---"
      ],
      "metadata": {
        "id": "WhRPhU3vkd7u"
      }
    },
    {
      "cell_type": "markdown",
      "source": [
        "##Playstore Dataset"
      ],
      "metadata": {
        "id": "PyjSay6A6dCw"
      }
    },
    {
      "cell_type": "markdown",
      "source": [
        "### 1. Check the Null values in dataset\n",
        "\n",
        "The first step is to find the Missing/Null Values in the Playstore dataset."
      ],
      "metadata": {
        "id": "LJQxdLqQN8I4"
      }
    },
    {
      "cell_type": "code",
      "source": [
        "playstoredf.isna().sum()"
      ],
      "metadata": {
        "id": "JVMXyDh2pwFd",
        "colab": {
          "base_uri": "https://localhost:8080/"
        },
        "outputId": "abe8a679-f044-48f4-e30f-dba8bea8c74b"
      },
      "execution_count": 59,
      "outputs": [
        {
          "output_type": "execute_result",
          "data": {
            "text/plain": [
              "App                  0\n",
              "Category             0\n",
              "Rating            1474\n",
              "Reviews              0\n",
              "Size                 0\n",
              "Installs             0\n",
              "Type                 1\n",
              "Price                0\n",
              "Content Rating       1\n",
              "Genres               0\n",
              "Last Updated         0\n",
              "Current Ver          8\n",
              "Android Ver          3\n",
              "dtype: int64"
            ]
          },
          "metadata": {},
          "execution_count": 59
        }
      ]
    },
    {
      "cell_type": "code",
      "source": [
        "playstoredf.sort_values(by = 'Rating', ascending = False)"
      ],
      "metadata": {
        "id": "eE0e0n_JaWl3",
        "colab": {
          "base_uri": "https://localhost:8080/",
          "height": 659
        },
        "outputId": "94598299-c897-4dea-bb60-1e5ce1cd6d40"
      },
      "execution_count": 60,
      "outputs": [
        {
          "output_type": "execute_result",
          "data": {
            "text/plain": [
              "                                           App             Category  Rating  \\\n",
              "10472  Life Made WI-Fi Touchscreen Photo Frame                  1.9    19.0   \n",
              "9511                  Ek Bander Ne Kholi Dukan               FAMILY     5.0   \n",
              "10166                     FA Player Essentials               SPORTS     5.0   \n",
              "7895                Dine In CT - Food Delivery             SHOPPING     5.0   \n",
              "5118                          Eternal Light AG               SOCIAL     5.0   \n",
              "...                                        ...                  ...     ...   \n",
              "10824                                Cardio-FR              MEDICAL     NaN   \n",
              "10825                       Naruto & Boruto FR               SOCIAL     NaN   \n",
              "10831                 payermonstationnement.fr  MAPS_AND_NAVIGATION     NaN   \n",
              "10835                                 FR Forms             BUSINESS     NaN   \n",
              "10838                   Parkinson Exercices FR              MEDICAL     NaN   \n",
              "\n",
              "      Reviews    Size Installs  Type     Price Content Rating  \\\n",
              "10472    3.0M  1,000+     Free     0  Everyone            NaN   \n",
              "9511       10    3.0M  10,000+  Free         0       Everyone   \n",
              "10166       7     68M     100+  Free         0       Everyone   \n",
              "7895        4    1.6M   1,000+  Free         0       Everyone   \n",
              "5118       30     13M     100+  Free         0           Teen   \n",
              "...       ...     ...      ...   ...       ...            ...   \n",
              "10824      67     82M  10,000+  Free         0       Everyone   \n",
              "10825       7    7.7M     100+  Free         0           Teen   \n",
              "10831      38    9.8M   5,000+  Free         0       Everyone   \n",
              "10835       0    9.6M      10+  Free         0       Everyone   \n",
              "10838       3    9.5M   1,000+  Free         0       Everyone   \n",
              "\n",
              "                  Genres        Last Updated Current Ver   Android Ver  \n",
              "10472  February 11, 2018              1.0.19  4.0 and up           NaN  \n",
              "9511       Entertainment       June 26, 2017       1.0.9    4.0 and up  \n",
              "10166             Sports       July 23, 2018       1.6.0  4.0.3 and up  \n",
              "7895            Shopping        May 16, 2016         1.3    4.0 and up  \n",
              "5118              Social        May 19, 2018        1.04  4.0.3 and up  \n",
              "...                  ...                 ...         ...           ...  \n",
              "10824            Medical       July 31, 2018       2.2.2    4.4 and up  \n",
              "10825             Social    February 2, 2018         1.0    4.0 and up  \n",
              "10831  Maps & Navigation       June 13, 2018   2.0.148.0    4.0 and up  \n",
              "10835           Business  September 29, 2016       1.1.5    4.0 and up  \n",
              "10838            Medical    January 20, 2017         1.0    2.2 and up  \n",
              "\n",
              "[10841 rows x 13 columns]"
            ],
            "text/html": [
              "\n",
              "\n",
              "  <div id=\"df-7b9994b1-4515-42e7-acf4-967a0a26be22\">\n",
              "    <div class=\"colab-df-container\">\n",
              "      <div>\n",
              "<style scoped>\n",
              "    .dataframe tbody tr th:only-of-type {\n",
              "        vertical-align: middle;\n",
              "    }\n",
              "\n",
              "    .dataframe tbody tr th {\n",
              "        vertical-align: top;\n",
              "    }\n",
              "\n",
              "    .dataframe thead th {\n",
              "        text-align: right;\n",
              "    }\n",
              "</style>\n",
              "<table border=\"1\" class=\"dataframe\">\n",
              "  <thead>\n",
              "    <tr style=\"text-align: right;\">\n",
              "      <th></th>\n",
              "      <th>App</th>\n",
              "      <th>Category</th>\n",
              "      <th>Rating</th>\n",
              "      <th>Reviews</th>\n",
              "      <th>Size</th>\n",
              "      <th>Installs</th>\n",
              "      <th>Type</th>\n",
              "      <th>Price</th>\n",
              "      <th>Content Rating</th>\n",
              "      <th>Genres</th>\n",
              "      <th>Last Updated</th>\n",
              "      <th>Current Ver</th>\n",
              "      <th>Android Ver</th>\n",
              "    </tr>\n",
              "  </thead>\n",
              "  <tbody>\n",
              "    <tr>\n",
              "      <th>10472</th>\n",
              "      <td>Life Made WI-Fi Touchscreen Photo Frame</td>\n",
              "      <td>1.9</td>\n",
              "      <td>19.0</td>\n",
              "      <td>3.0M</td>\n",
              "      <td>1,000+</td>\n",
              "      <td>Free</td>\n",
              "      <td>0</td>\n",
              "      <td>Everyone</td>\n",
              "      <td>NaN</td>\n",
              "      <td>February 11, 2018</td>\n",
              "      <td>1.0.19</td>\n",
              "      <td>4.0 and up</td>\n",
              "      <td>NaN</td>\n",
              "    </tr>\n",
              "    <tr>\n",
              "      <th>9511</th>\n",
              "      <td>Ek Bander Ne Kholi Dukan</td>\n",
              "      <td>FAMILY</td>\n",
              "      <td>5.0</td>\n",
              "      <td>10</td>\n",
              "      <td>3.0M</td>\n",
              "      <td>10,000+</td>\n",
              "      <td>Free</td>\n",
              "      <td>0</td>\n",
              "      <td>Everyone</td>\n",
              "      <td>Entertainment</td>\n",
              "      <td>June 26, 2017</td>\n",
              "      <td>1.0.9</td>\n",
              "      <td>4.0 and up</td>\n",
              "    </tr>\n",
              "    <tr>\n",
              "      <th>10166</th>\n",
              "      <td>FA Player Essentials</td>\n",
              "      <td>SPORTS</td>\n",
              "      <td>5.0</td>\n",
              "      <td>7</td>\n",
              "      <td>68M</td>\n",
              "      <td>100+</td>\n",
              "      <td>Free</td>\n",
              "      <td>0</td>\n",
              "      <td>Everyone</td>\n",
              "      <td>Sports</td>\n",
              "      <td>July 23, 2018</td>\n",
              "      <td>1.6.0</td>\n",
              "      <td>4.0.3 and up</td>\n",
              "    </tr>\n",
              "    <tr>\n",
              "      <th>7895</th>\n",
              "      <td>Dine In CT - Food Delivery</td>\n",
              "      <td>SHOPPING</td>\n",
              "      <td>5.0</td>\n",
              "      <td>4</td>\n",
              "      <td>1.6M</td>\n",
              "      <td>1,000+</td>\n",
              "      <td>Free</td>\n",
              "      <td>0</td>\n",
              "      <td>Everyone</td>\n",
              "      <td>Shopping</td>\n",
              "      <td>May 16, 2016</td>\n",
              "      <td>1.3</td>\n",
              "      <td>4.0 and up</td>\n",
              "    </tr>\n",
              "    <tr>\n",
              "      <th>5118</th>\n",
              "      <td>Eternal Light AG</td>\n",
              "      <td>SOCIAL</td>\n",
              "      <td>5.0</td>\n",
              "      <td>30</td>\n",
              "      <td>13M</td>\n",
              "      <td>100+</td>\n",
              "      <td>Free</td>\n",
              "      <td>0</td>\n",
              "      <td>Teen</td>\n",
              "      <td>Social</td>\n",
              "      <td>May 19, 2018</td>\n",
              "      <td>1.04</td>\n",
              "      <td>4.0.3 and up</td>\n",
              "    </tr>\n",
              "    <tr>\n",
              "      <th>...</th>\n",
              "      <td>...</td>\n",
              "      <td>...</td>\n",
              "      <td>...</td>\n",
              "      <td>...</td>\n",
              "      <td>...</td>\n",
              "      <td>...</td>\n",
              "      <td>...</td>\n",
              "      <td>...</td>\n",
              "      <td>...</td>\n",
              "      <td>...</td>\n",
              "      <td>...</td>\n",
              "      <td>...</td>\n",
              "      <td>...</td>\n",
              "    </tr>\n",
              "    <tr>\n",
              "      <th>10824</th>\n",
              "      <td>Cardio-FR</td>\n",
              "      <td>MEDICAL</td>\n",
              "      <td>NaN</td>\n",
              "      <td>67</td>\n",
              "      <td>82M</td>\n",
              "      <td>10,000+</td>\n",
              "      <td>Free</td>\n",
              "      <td>0</td>\n",
              "      <td>Everyone</td>\n",
              "      <td>Medical</td>\n",
              "      <td>July 31, 2018</td>\n",
              "      <td>2.2.2</td>\n",
              "      <td>4.4 and up</td>\n",
              "    </tr>\n",
              "    <tr>\n",
              "      <th>10825</th>\n",
              "      <td>Naruto &amp; Boruto FR</td>\n",
              "      <td>SOCIAL</td>\n",
              "      <td>NaN</td>\n",
              "      <td>7</td>\n",
              "      <td>7.7M</td>\n",
              "      <td>100+</td>\n",
              "      <td>Free</td>\n",
              "      <td>0</td>\n",
              "      <td>Teen</td>\n",
              "      <td>Social</td>\n",
              "      <td>February 2, 2018</td>\n",
              "      <td>1.0</td>\n",
              "      <td>4.0 and up</td>\n",
              "    </tr>\n",
              "    <tr>\n",
              "      <th>10831</th>\n",
              "      <td>payermonstationnement.fr</td>\n",
              "      <td>MAPS_AND_NAVIGATION</td>\n",
              "      <td>NaN</td>\n",
              "      <td>38</td>\n",
              "      <td>9.8M</td>\n",
              "      <td>5,000+</td>\n",
              "      <td>Free</td>\n",
              "      <td>0</td>\n",
              "      <td>Everyone</td>\n",
              "      <td>Maps &amp; Navigation</td>\n",
              "      <td>June 13, 2018</td>\n",
              "      <td>2.0.148.0</td>\n",
              "      <td>4.0 and up</td>\n",
              "    </tr>\n",
              "    <tr>\n",
              "      <th>10835</th>\n",
              "      <td>FR Forms</td>\n",
              "      <td>BUSINESS</td>\n",
              "      <td>NaN</td>\n",
              "      <td>0</td>\n",
              "      <td>9.6M</td>\n",
              "      <td>10+</td>\n",
              "      <td>Free</td>\n",
              "      <td>0</td>\n",
              "      <td>Everyone</td>\n",
              "      <td>Business</td>\n",
              "      <td>September 29, 2016</td>\n",
              "      <td>1.1.5</td>\n",
              "      <td>4.0 and up</td>\n",
              "    </tr>\n",
              "    <tr>\n",
              "      <th>10838</th>\n",
              "      <td>Parkinson Exercices FR</td>\n",
              "      <td>MEDICAL</td>\n",
              "      <td>NaN</td>\n",
              "      <td>3</td>\n",
              "      <td>9.5M</td>\n",
              "      <td>1,000+</td>\n",
              "      <td>Free</td>\n",
              "      <td>0</td>\n",
              "      <td>Everyone</td>\n",
              "      <td>Medical</td>\n",
              "      <td>January 20, 2017</td>\n",
              "      <td>1.0</td>\n",
              "      <td>2.2 and up</td>\n",
              "    </tr>\n",
              "  </tbody>\n",
              "</table>\n",
              "<p>10841 rows × 13 columns</p>\n",
              "</div>\n",
              "      <button class=\"colab-df-convert\" onclick=\"convertToInteractive('df-7b9994b1-4515-42e7-acf4-967a0a26be22')\"\n",
              "              title=\"Convert this dataframe to an interactive table.\"\n",
              "              style=\"display:none;\">\n",
              "\n",
              "  <svg xmlns=\"http://www.w3.org/2000/svg\" height=\"24px\"viewBox=\"0 0 24 24\"\n",
              "       width=\"24px\">\n",
              "    <path d=\"M0 0h24v24H0V0z\" fill=\"none\"/>\n",
              "    <path d=\"M18.56 5.44l.94 2.06.94-2.06 2.06-.94-2.06-.94-.94-2.06-.94 2.06-2.06.94zm-11 1L8.5 8.5l.94-2.06 2.06-.94-2.06-.94L8.5 2.5l-.94 2.06-2.06.94zm10 10l.94 2.06.94-2.06 2.06-.94-2.06-.94-.94-2.06-.94 2.06-2.06.94z\"/><path d=\"M17.41 7.96l-1.37-1.37c-.4-.4-.92-.59-1.43-.59-.52 0-1.04.2-1.43.59L10.3 9.45l-7.72 7.72c-.78.78-.78 2.05 0 2.83L4 21.41c.39.39.9.59 1.41.59.51 0 1.02-.2 1.41-.59l7.78-7.78 2.81-2.81c.8-.78.8-2.07 0-2.86zM5.41 20L4 18.59l7.72-7.72 1.47 1.35L5.41 20z\"/>\n",
              "  </svg>\n",
              "      </button>\n",
              "\n",
              "\n",
              "\n",
              "    <div id=\"df-ffe2fd3b-a8e1-4c38-9488-bebcf7fd887b\">\n",
              "      <button class=\"colab-df-quickchart\" onclick=\"quickchart('df-ffe2fd3b-a8e1-4c38-9488-bebcf7fd887b')\"\n",
              "              title=\"Suggest charts.\"\n",
              "              style=\"display:none;\">\n",
              "\n",
              "<svg xmlns=\"http://www.w3.org/2000/svg\" height=\"24px\"viewBox=\"0 0 24 24\"\n",
              "     width=\"24px\">\n",
              "    <g>\n",
              "        <path d=\"M19 3H5c-1.1 0-2 .9-2 2v14c0 1.1.9 2 2 2h14c1.1 0 2-.9 2-2V5c0-1.1-.9-2-2-2zM9 17H7v-7h2v7zm4 0h-2V7h2v10zm4 0h-2v-4h2v4z\"/>\n",
              "    </g>\n",
              "</svg>\n",
              "      </button>\n",
              "    </div>\n",
              "\n",
              "<style>\n",
              "  .colab-df-quickchart {\n",
              "    background-color: #E8F0FE;\n",
              "    border: none;\n",
              "    border-radius: 50%;\n",
              "    cursor: pointer;\n",
              "    display: none;\n",
              "    fill: #1967D2;\n",
              "    height: 32px;\n",
              "    padding: 0 0 0 0;\n",
              "    width: 32px;\n",
              "  }\n",
              "\n",
              "  .colab-df-quickchart:hover {\n",
              "    background-color: #E2EBFA;\n",
              "    box-shadow: 0px 1px 2px rgba(60, 64, 67, 0.3), 0px 1px 3px 1px rgba(60, 64, 67, 0.15);\n",
              "    fill: #174EA6;\n",
              "  }\n",
              "\n",
              "  [theme=dark] .colab-df-quickchart {\n",
              "    background-color: #3B4455;\n",
              "    fill: #D2E3FC;\n",
              "  }\n",
              "\n",
              "  [theme=dark] .colab-df-quickchart:hover {\n",
              "    background-color: #434B5C;\n",
              "    box-shadow: 0px 1px 3px 1px rgba(0, 0, 0, 0.15);\n",
              "    filter: drop-shadow(0px 1px 2px rgba(0, 0, 0, 0.3));\n",
              "    fill: #FFFFFF;\n",
              "  }\n",
              "</style>\n",
              "\n",
              "    <script>\n",
              "      async function quickchart(key) {\n",
              "        const containerElement = document.querySelector('#' + key);\n",
              "        const charts = await google.colab.kernel.invokeFunction(\n",
              "            'suggestCharts', [key], {});\n",
              "      }\n",
              "    </script>\n",
              "\n",
              "      <script>\n",
              "\n",
              "function displayQuickchartButton(domScope) {\n",
              "  let quickchartButtonEl =\n",
              "    domScope.querySelector('#df-ffe2fd3b-a8e1-4c38-9488-bebcf7fd887b button.colab-df-quickchart');\n",
              "  quickchartButtonEl.style.display =\n",
              "    google.colab.kernel.accessAllowed ? 'block' : 'none';\n",
              "}\n",
              "\n",
              "        displayQuickchartButton(document);\n",
              "      </script>\n",
              "      <style>\n",
              "    .colab-df-container {\n",
              "      display:flex;\n",
              "      flex-wrap:wrap;\n",
              "      gap: 12px;\n",
              "    }\n",
              "\n",
              "    .colab-df-convert {\n",
              "      background-color: #E8F0FE;\n",
              "      border: none;\n",
              "      border-radius: 50%;\n",
              "      cursor: pointer;\n",
              "      display: none;\n",
              "      fill: #1967D2;\n",
              "      height: 32px;\n",
              "      padding: 0 0 0 0;\n",
              "      width: 32px;\n",
              "    }\n",
              "\n",
              "    .colab-df-convert:hover {\n",
              "      background-color: #E2EBFA;\n",
              "      box-shadow: 0px 1px 2px rgba(60, 64, 67, 0.3), 0px 1px 3px 1px rgba(60, 64, 67, 0.15);\n",
              "      fill: #174EA6;\n",
              "    }\n",
              "\n",
              "    [theme=dark] .colab-df-convert {\n",
              "      background-color: #3B4455;\n",
              "      fill: #D2E3FC;\n",
              "    }\n",
              "\n",
              "    [theme=dark] .colab-df-convert:hover {\n",
              "      background-color: #434B5C;\n",
              "      box-shadow: 0px 1px 3px 1px rgba(0, 0, 0, 0.15);\n",
              "      filter: drop-shadow(0px 1px 2px rgba(0, 0, 0, 0.3));\n",
              "      fill: #FFFFFF;\n",
              "    }\n",
              "  </style>\n",
              "\n",
              "      <script>\n",
              "        const buttonEl =\n",
              "          document.querySelector('#df-7b9994b1-4515-42e7-acf4-967a0a26be22 button.colab-df-convert');\n",
              "        buttonEl.style.display =\n",
              "          google.colab.kernel.accessAllowed ? 'block' : 'none';\n",
              "\n",
              "        async function convertToInteractive(key) {\n",
              "          const element = document.querySelector('#df-7b9994b1-4515-42e7-acf4-967a0a26be22');\n",
              "          const dataTable =\n",
              "            await google.colab.kernel.invokeFunction('convertToInteractive',\n",
              "                                                     [key], {});\n",
              "          if (!dataTable) return;\n",
              "\n",
              "          const docLinkHtml = 'Like what you see? Visit the ' +\n",
              "            '<a target=\"_blank\" href=https://colab.research.google.com/notebooks/data_table.ipynb>data table notebook</a>'\n",
              "            + ' to learn more about interactive tables.';\n",
              "          element.innerHTML = '';\n",
              "          dataTable['output_type'] = 'display_data';\n",
              "          await google.colab.output.renderOutput(dataTable, element);\n",
              "          const docLink = document.createElement('div');\n",
              "          docLink.innerHTML = docLinkHtml;\n",
              "          element.appendChild(docLink);\n",
              "        }\n",
              "      </script>\n",
              "    </div>\n",
              "  </div>\n"
            ]
          },
          "metadata": {},
          "execution_count": 60
        }
      ]
    },
    {
      "cell_type": "code",
      "source": [
        "#Drop the null Values\n",
        "playstoredf.dropna(subset =['Rating'], inplace = True)\n"
      ],
      "metadata": {
        "id": "opi6w9eEp7RI"
      },
      "execution_count": 61,
      "outputs": []
    },
    {
      "cell_type": "code",
      "source": [
        "#Fill the Columns which has <.05 Null values using most comman value of mode\n",
        "playstoredf['Current Ver'] = playstoredf['Current Ver'].fillna(playstoredf['Current Ver'].mode()[0])\n",
        "playstoredf['Android Ver'] = playstoredf['Android Ver'].fillna(playstoredf['Android Ver'].mode()[0])\n",
        "playstoredf['Content Rating'] = playstoredf['Content Rating'].fillna(playstoredf['Content Rating'].mode()[0])"
      ],
      "metadata": {
        "id": "AMO8QkTMS_n3"
      },
      "execution_count": 62,
      "outputs": []
    },
    {
      "cell_type": "code",
      "source": [
        "playstoredf.isna().any()"
      ],
      "metadata": {
        "id": "xiGKKjyPS1gj",
        "colab": {
          "base_uri": "https://localhost:8080/"
        },
        "outputId": "5ed67afc-eac8-4bf3-e8af-150499921078"
      },
      "execution_count": 63,
      "outputs": [
        {
          "output_type": "execute_result",
          "data": {
            "text/plain": [
              "App               False\n",
              "Category          False\n",
              "Rating            False\n",
              "Reviews           False\n",
              "Size              False\n",
              "Installs          False\n",
              "Type              False\n",
              "Price             False\n",
              "Content Rating    False\n",
              "Genres            False\n",
              "Last Updated      False\n",
              "Current Ver       False\n",
              "Android Ver       False\n",
              "dtype: bool"
            ]
          },
          "metadata": {},
          "execution_count": 63
        }
      ]
    },
    {
      "cell_type": "markdown",
      "source": [
        "### 2. Check Duplicates"
      ],
      "metadata": {
        "id": "Y2PXVsQDQ-8m"
      }
    },
    {
      "cell_type": "code",
      "source": [
        "## Drop the duplicates in the \"App\" column\n",
        "playstoredf.drop_duplicates(subset='App', inplace=True)\n",
        "print(playstoredf.shape)"
      ],
      "metadata": {
        "id": "LLkKBi7PRDmN",
        "colab": {
          "base_uri": "https://localhost:8080/"
        },
        "outputId": "90b1c6d8-8658-4f65-c27a-b5f28714351f"
      },
      "execution_count": 64,
      "outputs": [
        {
          "output_type": "stream",
          "name": "stdout",
          "text": [
            "(8197, 13)\n"
          ]
        }
      ]
    },
    {
      "cell_type": "markdown",
      "source": [
        "### 3. Check the outliers"
      ],
      "metadata": {
        "id": "Ev1l6oP5SIim"
      }
    },
    {
      "cell_type": "code",
      "source": [
        "playstoredf['Rating'].unique()"
      ],
      "metadata": {
        "id": "aG61EjnkSLeS",
        "colab": {
          "base_uri": "https://localhost:8080/"
        },
        "outputId": "fc81f07e-2178-4553-b80f-9f2b0e2aff27"
      },
      "execution_count": 65,
      "outputs": [
        {
          "output_type": "execute_result",
          "data": {
            "text/plain": [
              "array([ 4.1,  3.9,  4.7,  4.5,  4.3,  4.4,  3.8,  4.2,  4.6,  3.2,  4. ,\n",
              "        4.8,  4.9,  3.6,  3.7,  3.3,  3.4,  3.5,  3.1,  5. ,  2.6,  3. ,\n",
              "        1.9,  2.5,  2.8,  2.7,  1. ,  2.9,  2.3,  2.2,  1.7,  2. ,  1.8,\n",
              "        2.4,  1.6,  2.1,  1.4,  1.5,  1.2, 19. ])"
            ]
          },
          "metadata": {},
          "execution_count": 65
        }
      ]
    },
    {
      "cell_type": "code",
      "source": [
        "playstoredf[playstoredf['Rating']==19.0]"
      ],
      "metadata": {
        "id": "L2gvqNfVSHEm",
        "colab": {
          "base_uri": "https://localhost:8080/",
          "height": 159
        },
        "outputId": "3a2ad1f1-dbf6-429a-d2ba-3be27ce6f302"
      },
      "execution_count": 66,
      "outputs": [
        {
          "output_type": "execute_result",
          "data": {
            "text/plain": [
              "                                           App Category  Rating Reviews  \\\n",
              "10472  Life Made WI-Fi Touchscreen Photo Frame      1.9    19.0    3.0M   \n",
              "\n",
              "         Size Installs Type     Price Content Rating             Genres  \\\n",
              "10472  1,000+     Free    0  Everyone       Everyone  February 11, 2018   \n",
              "\n",
              "      Last Updated Current Ver Android Ver  \n",
              "10472       1.0.19  4.0 and up  4.1 and up  "
            ],
            "text/html": [
              "\n",
              "\n",
              "  <div id=\"df-d3a5608d-9c7a-40a1-aa26-d52a427f393e\">\n",
              "    <div class=\"colab-df-container\">\n",
              "      <div>\n",
              "<style scoped>\n",
              "    .dataframe tbody tr th:only-of-type {\n",
              "        vertical-align: middle;\n",
              "    }\n",
              "\n",
              "    .dataframe tbody tr th {\n",
              "        vertical-align: top;\n",
              "    }\n",
              "\n",
              "    .dataframe thead th {\n",
              "        text-align: right;\n",
              "    }\n",
              "</style>\n",
              "<table border=\"1\" class=\"dataframe\">\n",
              "  <thead>\n",
              "    <tr style=\"text-align: right;\">\n",
              "      <th></th>\n",
              "      <th>App</th>\n",
              "      <th>Category</th>\n",
              "      <th>Rating</th>\n",
              "      <th>Reviews</th>\n",
              "      <th>Size</th>\n",
              "      <th>Installs</th>\n",
              "      <th>Type</th>\n",
              "      <th>Price</th>\n",
              "      <th>Content Rating</th>\n",
              "      <th>Genres</th>\n",
              "      <th>Last Updated</th>\n",
              "      <th>Current Ver</th>\n",
              "      <th>Android Ver</th>\n",
              "    </tr>\n",
              "  </thead>\n",
              "  <tbody>\n",
              "    <tr>\n",
              "      <th>10472</th>\n",
              "      <td>Life Made WI-Fi Touchscreen Photo Frame</td>\n",
              "      <td>1.9</td>\n",
              "      <td>19.0</td>\n",
              "      <td>3.0M</td>\n",
              "      <td>1,000+</td>\n",
              "      <td>Free</td>\n",
              "      <td>0</td>\n",
              "      <td>Everyone</td>\n",
              "      <td>Everyone</td>\n",
              "      <td>February 11, 2018</td>\n",
              "      <td>1.0.19</td>\n",
              "      <td>4.0 and up</td>\n",
              "      <td>4.1 and up</td>\n",
              "    </tr>\n",
              "  </tbody>\n",
              "</table>\n",
              "</div>\n",
              "      <button class=\"colab-df-convert\" onclick=\"convertToInteractive('df-d3a5608d-9c7a-40a1-aa26-d52a427f393e')\"\n",
              "              title=\"Convert this dataframe to an interactive table.\"\n",
              "              style=\"display:none;\">\n",
              "\n",
              "  <svg xmlns=\"http://www.w3.org/2000/svg\" height=\"24px\"viewBox=\"0 0 24 24\"\n",
              "       width=\"24px\">\n",
              "    <path d=\"M0 0h24v24H0V0z\" fill=\"none\"/>\n",
              "    <path d=\"M18.56 5.44l.94 2.06.94-2.06 2.06-.94-2.06-.94-.94-2.06-.94 2.06-2.06.94zm-11 1L8.5 8.5l.94-2.06 2.06-.94-2.06-.94L8.5 2.5l-.94 2.06-2.06.94zm10 10l.94 2.06.94-2.06 2.06-.94-2.06-.94-.94-2.06-.94 2.06-2.06.94z\"/><path d=\"M17.41 7.96l-1.37-1.37c-.4-.4-.92-.59-1.43-.59-.52 0-1.04.2-1.43.59L10.3 9.45l-7.72 7.72c-.78.78-.78 2.05 0 2.83L4 21.41c.39.39.9.59 1.41.59.51 0 1.02-.2 1.41-.59l7.78-7.78 2.81-2.81c.8-.78.8-2.07 0-2.86zM5.41 20L4 18.59l7.72-7.72 1.47 1.35L5.41 20z\"/>\n",
              "  </svg>\n",
              "      </button>\n",
              "\n",
              "\n",
              "\n",
              "    <div id=\"df-28c4aefb-f8cb-4a0a-8e64-d726ace4c743\">\n",
              "      <button class=\"colab-df-quickchart\" onclick=\"quickchart('df-28c4aefb-f8cb-4a0a-8e64-d726ace4c743')\"\n",
              "              title=\"Suggest charts.\"\n",
              "              style=\"display:none;\">\n",
              "\n",
              "<svg xmlns=\"http://www.w3.org/2000/svg\" height=\"24px\"viewBox=\"0 0 24 24\"\n",
              "     width=\"24px\">\n",
              "    <g>\n",
              "        <path d=\"M19 3H5c-1.1 0-2 .9-2 2v14c0 1.1.9 2 2 2h14c1.1 0 2-.9 2-2V5c0-1.1-.9-2-2-2zM9 17H7v-7h2v7zm4 0h-2V7h2v10zm4 0h-2v-4h2v4z\"/>\n",
              "    </g>\n",
              "</svg>\n",
              "      </button>\n",
              "    </div>\n",
              "\n",
              "<style>\n",
              "  .colab-df-quickchart {\n",
              "    background-color: #E8F0FE;\n",
              "    border: none;\n",
              "    border-radius: 50%;\n",
              "    cursor: pointer;\n",
              "    display: none;\n",
              "    fill: #1967D2;\n",
              "    height: 32px;\n",
              "    padding: 0 0 0 0;\n",
              "    width: 32px;\n",
              "  }\n",
              "\n",
              "  .colab-df-quickchart:hover {\n",
              "    background-color: #E2EBFA;\n",
              "    box-shadow: 0px 1px 2px rgba(60, 64, 67, 0.3), 0px 1px 3px 1px rgba(60, 64, 67, 0.15);\n",
              "    fill: #174EA6;\n",
              "  }\n",
              "\n",
              "  [theme=dark] .colab-df-quickchart {\n",
              "    background-color: #3B4455;\n",
              "    fill: #D2E3FC;\n",
              "  }\n",
              "\n",
              "  [theme=dark] .colab-df-quickchart:hover {\n",
              "    background-color: #434B5C;\n",
              "    box-shadow: 0px 1px 3px 1px rgba(0, 0, 0, 0.15);\n",
              "    filter: drop-shadow(0px 1px 2px rgba(0, 0, 0, 0.3));\n",
              "    fill: #FFFFFF;\n",
              "  }\n",
              "</style>\n",
              "\n",
              "    <script>\n",
              "      async function quickchart(key) {\n",
              "        const containerElement = document.querySelector('#' + key);\n",
              "        const charts = await google.colab.kernel.invokeFunction(\n",
              "            'suggestCharts', [key], {});\n",
              "      }\n",
              "    </script>\n",
              "\n",
              "      <script>\n",
              "\n",
              "function displayQuickchartButton(domScope) {\n",
              "  let quickchartButtonEl =\n",
              "    domScope.querySelector('#df-28c4aefb-f8cb-4a0a-8e64-d726ace4c743 button.colab-df-quickchart');\n",
              "  quickchartButtonEl.style.display =\n",
              "    google.colab.kernel.accessAllowed ? 'block' : 'none';\n",
              "}\n",
              "\n",
              "        displayQuickchartButton(document);\n",
              "      </script>\n",
              "      <style>\n",
              "    .colab-df-container {\n",
              "      display:flex;\n",
              "      flex-wrap:wrap;\n",
              "      gap: 12px;\n",
              "    }\n",
              "\n",
              "    .colab-df-convert {\n",
              "      background-color: #E8F0FE;\n",
              "      border: none;\n",
              "      border-radius: 50%;\n",
              "      cursor: pointer;\n",
              "      display: none;\n",
              "      fill: #1967D2;\n",
              "      height: 32px;\n",
              "      padding: 0 0 0 0;\n",
              "      width: 32px;\n",
              "    }\n",
              "\n",
              "    .colab-df-convert:hover {\n",
              "      background-color: #E2EBFA;\n",
              "      box-shadow: 0px 1px 2px rgba(60, 64, 67, 0.3), 0px 1px 3px 1px rgba(60, 64, 67, 0.15);\n",
              "      fill: #174EA6;\n",
              "    }\n",
              "\n",
              "    [theme=dark] .colab-df-convert {\n",
              "      background-color: #3B4455;\n",
              "      fill: #D2E3FC;\n",
              "    }\n",
              "\n",
              "    [theme=dark] .colab-df-convert:hover {\n",
              "      background-color: #434B5C;\n",
              "      box-shadow: 0px 1px 3px 1px rgba(0, 0, 0, 0.15);\n",
              "      filter: drop-shadow(0px 1px 2px rgba(0, 0, 0, 0.3));\n",
              "      fill: #FFFFFF;\n",
              "    }\n",
              "  </style>\n",
              "\n",
              "      <script>\n",
              "        const buttonEl =\n",
              "          document.querySelector('#df-d3a5608d-9c7a-40a1-aa26-d52a427f393e button.colab-df-convert');\n",
              "        buttonEl.style.display =\n",
              "          google.colab.kernel.accessAllowed ? 'block' : 'none';\n",
              "\n",
              "        async function convertToInteractive(key) {\n",
              "          const element = document.querySelector('#df-d3a5608d-9c7a-40a1-aa26-d52a427f393e');\n",
              "          const dataTable =\n",
              "            await google.colab.kernel.invokeFunction('convertToInteractive',\n",
              "                                                     [key], {});\n",
              "          if (!dataTable) return;\n",
              "\n",
              "          const docLinkHtml = 'Like what you see? Visit the ' +\n",
              "            '<a target=\"_blank\" href=https://colab.research.google.com/notebooks/data_table.ipynb>data table notebook</a>'\n",
              "            + ' to learn more about interactive tables.';\n",
              "          element.innerHTML = '';\n",
              "          dataTable['output_type'] = 'display_data';\n",
              "          await google.colab.output.renderOutput(dataTable, element);\n",
              "          const docLink = document.createElement('div');\n",
              "          docLink.innerHTML = docLinkHtml;\n",
              "          element.appendChild(docLink);\n",
              "        }\n",
              "      </script>\n",
              "    </div>\n",
              "  </div>\n"
            ]
          },
          "metadata": {},
          "execution_count": 66
        }
      ]
    },
    {
      "cell_type": "code",
      "source": [
        "## Drop the row that has incorrect values\n",
        "playstoredf.drop([10472], inplace = True)\n"
      ],
      "metadata": {
        "id": "yi9BAYyiVIYT"
      },
      "execution_count": 67,
      "outputs": []
    },
    {
      "cell_type": "markdown",
      "source": [
        "### 4. Updating the Datatype for following columns for EDA"
      ],
      "metadata": {
        "id": "GV1AiXa4XBf9"
      }
    },
    {
      "cell_type": "markdown",
      "source": [
        "Installs"
      ],
      "metadata": {
        "id": "P2jA81YOXdSe"
      }
    },
    {
      "cell_type": "code",
      "source": [
        "playstoredf['Installs'].unique()"
      ],
      "metadata": {
        "id": "NVmlb_6MXbeT",
        "colab": {
          "base_uri": "https://localhost:8080/"
        },
        "outputId": "f5956df0-bc8a-47da-b045-2091e75c880a"
      },
      "execution_count": 68,
      "outputs": [
        {
          "output_type": "execute_result",
          "data": {
            "text/plain": [
              "array(['10,000+', '500,000+', '5,000,000+', '50,000,000+', '100,000+',\n",
              "       '50,000+', '1,000,000+', '10,000,000+', '5,000+', '100,000,000+',\n",
              "       '1,000,000,000+', '1,000+', '500,000,000+', '100+', '500+', '10+',\n",
              "       '5+', '50+', '1+'], dtype=object)"
            ]
          },
          "metadata": {},
          "execution_count": 68
        }
      ]
    },
    {
      "cell_type": "code",
      "source": [
        "#Let's remove some , + from Installs for easy analysis\n",
        "playstoredf['Installs'] = playstoredf['Installs'].apply(lambda x: x.replace('+', '') if '+' in str(x) else x) #remove '+' to ''\n",
        "playstoredf['Installs'] = playstoredf['Installs'].apply(lambda x: x.replace(',', '') if ',' in str(x) else x) #remove ',' to ''\n",
        "playstoredf['Installs'] = playstoredf['Installs'].apply(lambda x:int(x)) #it will convert data type into int64"
      ],
      "metadata": {
        "id": "sklRSxDuX7JK"
      },
      "execution_count": 69,
      "outputs": []
    },
    {
      "cell_type": "code",
      "source": [
        "playstoredf['Installs'].dtype"
      ],
      "metadata": {
        "id": "fqwYvkqGR_nv",
        "colab": {
          "base_uri": "https://localhost:8080/"
        },
        "outputId": "14becebf-f3e2-41fd-889f-7875539ada72"
      },
      "execution_count": 70,
      "outputs": [
        {
          "output_type": "execute_result",
          "data": {
            "text/plain": [
              "dtype('int64')"
            ]
          },
          "metadata": {},
          "execution_count": 70
        }
      ]
    },
    {
      "cell_type": "markdown",
      "source": [
        "Size\n",
        "  "
      ],
      "metadata": {
        "id": "MQhVXeyyYXO3"
      }
    },
    {
      "cell_type": "code",
      "source": [
        "playstoredf['Size'].unique()"
      ],
      "metadata": {
        "id": "DeIM1xCJYgH1",
        "colab": {
          "base_uri": "https://localhost:8080/"
        },
        "outputId": "b0d8e7a4-f80d-47cf-a698-5ff70e3b1cec"
      },
      "execution_count": 71,
      "outputs": [
        {
          "output_type": "execute_result",
          "data": {
            "text/plain": [
              "array(['19M', '14M', '8.7M', '25M', '2.8M', '5.6M', '29M', '33M', '3.1M',\n",
              "       '28M', '12M', '20M', '21M', '37M', '2.7M', '5.5M', '17M', '39M',\n",
              "       '31M', '4.2M', '23M', '6.0M', '6.1M', '4.6M', '9.2M', '5.2M',\n",
              "       '11M', '24M', 'Varies with device', '9.4M', '15M', '10M', '1.2M',\n",
              "       '26M', '8.0M', '7.9M', '56M', '57M', '35M', '54M', '201k', '3.6M',\n",
              "       '5.7M', '8.6M', '2.4M', '27M', '2.5M', '7.0M', '16M', '3.4M',\n",
              "       '8.9M', '3.9M', '2.9M', '38M', '32M', '5.4M', '18M', '1.1M',\n",
              "       '2.2M', '4.5M', '9.8M', '52M', '9.0M', '6.7M', '30M', '2.6M',\n",
              "       '7.1M', '22M', '6.4M', '3.2M', '8.2M', '4.9M', '9.5M', '5.0M',\n",
              "       '5.9M', '13M', '73M', '6.8M', '3.5M', '4.0M', '2.3M', '2.1M',\n",
              "       '42M', '9.1M', '55M', '23k', '7.3M', '6.5M', '1.5M', '7.5M', '51M',\n",
              "       '41M', '48M', '8.5M', '46M', '8.3M', '4.3M', '4.7M', '3.3M', '40M',\n",
              "       '7.8M', '8.8M', '6.6M', '5.1M', '61M', '66M', '79k', '8.4M',\n",
              "       '3.7M', '118k', '44M', '695k', '1.6M', '6.2M', '53M', '1.4M',\n",
              "       '3.0M', '7.2M', '5.8M', '3.8M', '9.6M', '45M', '63M', '49M', '77M',\n",
              "       '4.4M', '70M', '9.3M', '8.1M', '36M', '6.9M', '7.4M', '84M', '97M',\n",
              "       '2.0M', '1.9M', '1.8M', '5.3M', '47M', '556k', '526k', '76M',\n",
              "       '7.6M', '59M', '9.7M', '78M', '72M', '43M', '7.7M', '6.3M', '334k',\n",
              "       '93M', '65M', '79M', '100M', '58M', '50M', '68M', '64M', '34M',\n",
              "       '67M', '60M', '94M', '9.9M', '232k', '99M', '624k', '95M', '8.5k',\n",
              "       '41k', '292k', '11k', '80M', '1.7M', '10.0M', '74M', '62M', '69M',\n",
              "       '75M', '98M', '85M', '82M', '96M', '87M', '71M', '86M', '91M',\n",
              "       '81M', '92M', '83M', '88M', '704k', '862k', '899k', '378k', '4.8M',\n",
              "       '266k', '375k', '1.3M', '975k', '980k', '4.1M', '89M', '696k',\n",
              "       '544k', '525k', '920k', '779k', '853k', '720k', '713k', '772k',\n",
              "       '318k', '58k', '241k', '196k', '857k', '51k', '953k', '865k',\n",
              "       '251k', '930k', '540k', '313k', '746k', '203k', '26k', '314k',\n",
              "       '239k', '371k', '220k', '730k', '756k', '91k', '293k', '17k',\n",
              "       '74k', '14k', '317k', '78k', '924k', '818k', '81k', '939k', '169k',\n",
              "       '45k', '965k', '90M', '545k', '61k', '283k', '655k', '714k', '93k',\n",
              "       '872k', '121k', '322k', '976k', '206k', '954k', '444k', '717k',\n",
              "       '210k', '609k', '308k', '306k', '175k', '350k', '383k', '454k',\n",
              "       '1.0M', '70k', '812k', '442k', '842k', '417k', '412k', '459k',\n",
              "       '478k', '335k', '782k', '721k', '430k', '429k', '192k', '460k',\n",
              "       '728k', '496k', '816k', '414k', '506k', '887k', '613k', '778k',\n",
              "       '683k', '592k', '186k', '840k', '647k', '373k', '437k', '598k',\n",
              "       '716k', '585k', '982k', '219k', '55k', '323k', '691k', '511k',\n",
              "       '951k', '963k', '25k', '554k', '351k', '27k', '82k', '208k',\n",
              "       '551k', '29k', '103k', '116k', '153k', '209k', '499k', '173k',\n",
              "       '597k', '809k', '122k', '411k', '400k', '801k', '787k', '50k',\n",
              "       '643k', '986k', '516k', '837k', '780k', '20k', '498k', '600k',\n",
              "       '656k', '221k', '228k', '176k', '34k', '259k', '164k', '458k',\n",
              "       '629k', '28k', '288k', '775k', '785k', '636k', '916k', '994k',\n",
              "       '309k', '485k', '914k', '903k', '608k', '500k', '54k', '562k',\n",
              "       '847k', '948k', '811k', '270k', '48k', '523k', '784k', '280k',\n",
              "       '24k', '892k', '154k', '18k', '33k', '860k', '364k', '387k',\n",
              "       '626k', '161k', '879k', '39k', '170k', '141k', '160k', '144k',\n",
              "       '143k', '190k', '376k', '193k', '473k', '246k', '73k', '253k',\n",
              "       '957k', '420k', '72k', '404k', '470k', '226k', '240k', '89k',\n",
              "       '234k', '257k', '861k', '467k', '676k', '552k', '582k', '619k'],\n",
              "      dtype=object)"
            ]
          },
          "metadata": {},
          "execution_count": 71
        }
      ]
    },
    {
      "cell_type": "code",
      "source": [
        "#Remove these Characters ('Varies with device',',','+','k') from the Size Columns\n",
        "playstoredf['Size'] = playstoredf['Size'].apply(lambda x: str(x).replace('Varies with device', 'NaN') if 'Varies with device' in str(x) else x)\n",
        "playstoredf['Size'] = playstoredf['Size'].apply(lambda x: str(x).replace('M', '') if 'M' in str(x) else x)\n",
        "playstoredf['Size'] = playstoredf['Size'].apply(lambda x: str(x).replace(',', '') if 'M' in str(x) else x)\n",
        "playstoredf['Size'] = playstoredf['Size'].apply(lambda x:float(str(x).replace('k', '')) / 1024 if 'k' in str(x) else x) #convert KB to MB"
      ],
      "metadata": {
        "id": "ePzPlSCZgveo"
      },
      "execution_count": 72,
      "outputs": []
    },
    {
      "cell_type": "code",
      "source": [
        "playstoredf['Size'].dtype"
      ],
      "metadata": {
        "id": "uVKwMG_qiZyn",
        "colab": {
          "base_uri": "https://localhost:8080/"
        },
        "outputId": "934e1507-9203-4372-a373-2eaf42ec5c14"
      },
      "execution_count": 73,
      "outputs": [
        {
          "output_type": "execute_result",
          "data": {
            "text/plain": [
              "dtype('O')"
            ]
          },
          "metadata": {},
          "execution_count": 73
        }
      ]
    },
    {
      "cell_type": "markdown",
      "source": [
        "Price & Reviews"
      ],
      "metadata": {
        "id": "LTijJQi2X2tI"
      }
    },
    {
      "cell_type": "code",
      "source": [
        "playstoredf['Price'].unique()"
      ],
      "metadata": {
        "id": "CUYpX-d2YDYL",
        "colab": {
          "base_uri": "https://localhost:8080/"
        },
        "outputId": "0fdc95dd-59bd-42db-93c9-f65031853346"
      },
      "execution_count": 74,
      "outputs": [
        {
          "output_type": "execute_result",
          "data": {
            "text/plain": [
              "array(['0', '$4.99', '$3.99', '$6.99', '$7.99', '$5.99', '$2.99', '$3.49',\n",
              "       '$1.99', '$9.99', '$7.49', '$0.99', '$9.00', '$5.49', '$10.00',\n",
              "       '$24.99', '$11.99', '$79.99', '$16.99', '$14.99', '$29.99',\n",
              "       '$12.99', '$2.49', '$10.99', '$1.50', '$19.99', '$15.99', '$33.99',\n",
              "       '$39.99', '$3.95', '$4.49', '$1.70', '$8.99', '$1.49', '$3.88',\n",
              "       '$399.99', '$17.99', '$400.00', '$3.02', '$1.76', '$4.84', '$4.77',\n",
              "       '$1.61', '$2.50', '$1.59', '$6.49', '$1.29', '$299.99', '$379.99',\n",
              "       '$37.99', '$18.99', '$389.99', '$8.49', '$1.75', '$14.00', '$2.00',\n",
              "       '$3.08', '$2.59', '$19.40', '$3.90', '$4.59', '$15.46', '$3.04',\n",
              "       '$13.99', '$4.29', '$3.28', '$4.60', '$1.00', '$2.95', '$2.90',\n",
              "       '$1.97', '$2.56', '$1.20'], dtype=object)"
            ]
          },
          "metadata": {},
          "execution_count": 74
        }
      ]
    },
    {
      "cell_type": "code",
      "source": [
        "#let's remove $ sign from the Price column\n",
        "playstoredf['Price'] = playstoredf['Price'].apply(lambda x: str(x).replace('$', '') if '$' in str(x) else x)"
      ],
      "metadata": {
        "id": "P7YncVjwZXfT"
      },
      "execution_count": 75,
      "outputs": []
    },
    {
      "cell_type": "code",
      "source": [
        "# Convert the column types to numeric datatype\n",
        "playstoredf['Size'] = playstoredf['Size'].apply(lambda x: float(x))\n",
        "playstoredf['Installs'] = playstoredf['Installs'].apply(lambda x: float(x))\n",
        "playstoredf['Price'] = playstoredf['Price'].apply(lambda x: float(x))\n",
        "playstoredf['Reviews'] = playstoredf['Reviews'].apply(lambda x: int(x))"
      ],
      "metadata": {
        "id": "6zNiLISGaMB5"
      },
      "execution_count": 76,
      "outputs": []
    },
    {
      "cell_type": "code",
      "source": [
        "playstoredf.dtypes"
      ],
      "metadata": {
        "id": "xX7ki9M1agJA",
        "colab": {
          "base_uri": "https://localhost:8080/"
        },
        "outputId": "f7a26dae-7628-426b-ccac-857bbdaac8c1"
      },
      "execution_count": 77,
      "outputs": [
        {
          "output_type": "execute_result",
          "data": {
            "text/plain": [
              "App                object\n",
              "Category           object\n",
              "Rating            float64\n",
              "Reviews             int64\n",
              "Size              float64\n",
              "Installs          float64\n",
              "Type               object\n",
              "Price             float64\n",
              "Content Rating     object\n",
              "Genres             object\n",
              "Last Updated       object\n",
              "Current Ver        object\n",
              "Android Ver        object\n",
              "dtype: object"
            ]
          },
          "metadata": {},
          "execution_count": 77
        }
      ]
    },
    {
      "cell_type": "code",
      "source": [
        "playstoredf.describe(include = 'all')"
      ],
      "metadata": {
        "id": "gKsGkABfbHzr",
        "colab": {
          "base_uri": "https://localhost:8080/",
          "height": 490
        },
        "outputId": "4e519d95-2feb-47ab-caa3-bb5075628727"
      },
      "execution_count": 78,
      "outputs": [
        {
          "output_type": "execute_result",
          "data": {
            "text/plain": [
              "                                                   App Category       Rating  \\\n",
              "count                                             8196     8196  8196.000000   \n",
              "unique                                            8196       33          NaN   \n",
              "top     Photo Editor & Candy Camera & Grid & ScrapBook   FAMILY          NaN   \n",
              "freq                                                 1     1608          NaN   \n",
              "mean                                               NaN      NaN     4.173243   \n",
              "std                                                NaN      NaN     0.536625   \n",
              "min                                                NaN      NaN     1.000000   \n",
              "25%                                                NaN      NaN     4.000000   \n",
              "50%                                                NaN      NaN     4.300000   \n",
              "75%                                                NaN      NaN     4.500000   \n",
              "max                                                NaN      NaN     5.000000   \n",
              "\n",
              "             Reviews         Size      Installs  Type        Price  \\\n",
              "count   8.196000e+03  7027.000000  8.196000e+03  8196  8196.000000   \n",
              "unique           NaN          NaN           NaN     2          NaN   \n",
              "top              NaN          NaN           NaN  Free          NaN   \n",
              "freq             NaN          NaN           NaN  7592          NaN   \n",
              "mean    2.552515e+05    21.754060  9.165090e+06   NaN     1.037884   \n",
              "std     1.985594e+06    22.726844  5.825087e+07   NaN    16.857882   \n",
              "min     1.000000e+00     0.008301  1.000000e+00   NaN     0.000000   \n",
              "25%     1.260000e+02     4.900000  1.000000e+04   NaN     0.000000   \n",
              "50%     3.004000e+03    13.000000  1.000000e+05   NaN     0.000000   \n",
              "75%     4.381300e+04    31.000000  1.000000e+06   NaN     0.000000   \n",
              "max     7.815831e+07   100.000000  1.000000e+09   NaN   400.000000   \n",
              "\n",
              "       Content Rating Genres    Last Updated         Current Ver Android Ver  \n",
              "count            8196   8196            8196                8196        8196  \n",
              "unique              6    114            1300                2624          31  \n",
              "top          Everyone  Tools  August 3, 2018  Varies with device  4.1 and up  \n",
              "freq             6618    717             245                1015        1813  \n",
              "mean              NaN    NaN             NaN                 NaN         NaN  \n",
              "std               NaN    NaN             NaN                 NaN         NaN  \n",
              "min               NaN    NaN             NaN                 NaN         NaN  \n",
              "25%               NaN    NaN             NaN                 NaN         NaN  \n",
              "50%               NaN    NaN             NaN                 NaN         NaN  \n",
              "75%               NaN    NaN             NaN                 NaN         NaN  \n",
              "max               NaN    NaN             NaN                 NaN         NaN  "
            ],
            "text/html": [
              "\n",
              "\n",
              "  <div id=\"df-1d38fc45-791e-4d0a-97ad-df3eddd4359c\">\n",
              "    <div class=\"colab-df-container\">\n",
              "      <div>\n",
              "<style scoped>\n",
              "    .dataframe tbody tr th:only-of-type {\n",
              "        vertical-align: middle;\n",
              "    }\n",
              "\n",
              "    .dataframe tbody tr th {\n",
              "        vertical-align: top;\n",
              "    }\n",
              "\n",
              "    .dataframe thead th {\n",
              "        text-align: right;\n",
              "    }\n",
              "</style>\n",
              "<table border=\"1\" class=\"dataframe\">\n",
              "  <thead>\n",
              "    <tr style=\"text-align: right;\">\n",
              "      <th></th>\n",
              "      <th>App</th>\n",
              "      <th>Category</th>\n",
              "      <th>Rating</th>\n",
              "      <th>Reviews</th>\n",
              "      <th>Size</th>\n",
              "      <th>Installs</th>\n",
              "      <th>Type</th>\n",
              "      <th>Price</th>\n",
              "      <th>Content Rating</th>\n",
              "      <th>Genres</th>\n",
              "      <th>Last Updated</th>\n",
              "      <th>Current Ver</th>\n",
              "      <th>Android Ver</th>\n",
              "    </tr>\n",
              "  </thead>\n",
              "  <tbody>\n",
              "    <tr>\n",
              "      <th>count</th>\n",
              "      <td>8196</td>\n",
              "      <td>8196</td>\n",
              "      <td>8196.000000</td>\n",
              "      <td>8.196000e+03</td>\n",
              "      <td>7027.000000</td>\n",
              "      <td>8.196000e+03</td>\n",
              "      <td>8196</td>\n",
              "      <td>8196.000000</td>\n",
              "      <td>8196</td>\n",
              "      <td>8196</td>\n",
              "      <td>8196</td>\n",
              "      <td>8196</td>\n",
              "      <td>8196</td>\n",
              "    </tr>\n",
              "    <tr>\n",
              "      <th>unique</th>\n",
              "      <td>8196</td>\n",
              "      <td>33</td>\n",
              "      <td>NaN</td>\n",
              "      <td>NaN</td>\n",
              "      <td>NaN</td>\n",
              "      <td>NaN</td>\n",
              "      <td>2</td>\n",
              "      <td>NaN</td>\n",
              "      <td>6</td>\n",
              "      <td>114</td>\n",
              "      <td>1300</td>\n",
              "      <td>2624</td>\n",
              "      <td>31</td>\n",
              "    </tr>\n",
              "    <tr>\n",
              "      <th>top</th>\n",
              "      <td>Photo Editor &amp; Candy Camera &amp; Grid &amp; ScrapBook</td>\n",
              "      <td>FAMILY</td>\n",
              "      <td>NaN</td>\n",
              "      <td>NaN</td>\n",
              "      <td>NaN</td>\n",
              "      <td>NaN</td>\n",
              "      <td>Free</td>\n",
              "      <td>NaN</td>\n",
              "      <td>Everyone</td>\n",
              "      <td>Tools</td>\n",
              "      <td>August 3, 2018</td>\n",
              "      <td>Varies with device</td>\n",
              "      <td>4.1 and up</td>\n",
              "    </tr>\n",
              "    <tr>\n",
              "      <th>freq</th>\n",
              "      <td>1</td>\n",
              "      <td>1608</td>\n",
              "      <td>NaN</td>\n",
              "      <td>NaN</td>\n",
              "      <td>NaN</td>\n",
              "      <td>NaN</td>\n",
              "      <td>7592</td>\n",
              "      <td>NaN</td>\n",
              "      <td>6618</td>\n",
              "      <td>717</td>\n",
              "      <td>245</td>\n",
              "      <td>1015</td>\n",
              "      <td>1813</td>\n",
              "    </tr>\n",
              "    <tr>\n",
              "      <th>mean</th>\n",
              "      <td>NaN</td>\n",
              "      <td>NaN</td>\n",
              "      <td>4.173243</td>\n",
              "      <td>2.552515e+05</td>\n",
              "      <td>21.754060</td>\n",
              "      <td>9.165090e+06</td>\n",
              "      <td>NaN</td>\n",
              "      <td>1.037884</td>\n",
              "      <td>NaN</td>\n",
              "      <td>NaN</td>\n",
              "      <td>NaN</td>\n",
              "      <td>NaN</td>\n",
              "      <td>NaN</td>\n",
              "    </tr>\n",
              "    <tr>\n",
              "      <th>std</th>\n",
              "      <td>NaN</td>\n",
              "      <td>NaN</td>\n",
              "      <td>0.536625</td>\n",
              "      <td>1.985594e+06</td>\n",
              "      <td>22.726844</td>\n",
              "      <td>5.825087e+07</td>\n",
              "      <td>NaN</td>\n",
              "      <td>16.857882</td>\n",
              "      <td>NaN</td>\n",
              "      <td>NaN</td>\n",
              "      <td>NaN</td>\n",
              "      <td>NaN</td>\n",
              "      <td>NaN</td>\n",
              "    </tr>\n",
              "    <tr>\n",
              "      <th>min</th>\n",
              "      <td>NaN</td>\n",
              "      <td>NaN</td>\n",
              "      <td>1.000000</td>\n",
              "      <td>1.000000e+00</td>\n",
              "      <td>0.008301</td>\n",
              "      <td>1.000000e+00</td>\n",
              "      <td>NaN</td>\n",
              "      <td>0.000000</td>\n",
              "      <td>NaN</td>\n",
              "      <td>NaN</td>\n",
              "      <td>NaN</td>\n",
              "      <td>NaN</td>\n",
              "      <td>NaN</td>\n",
              "    </tr>\n",
              "    <tr>\n",
              "      <th>25%</th>\n",
              "      <td>NaN</td>\n",
              "      <td>NaN</td>\n",
              "      <td>4.000000</td>\n",
              "      <td>1.260000e+02</td>\n",
              "      <td>4.900000</td>\n",
              "      <td>1.000000e+04</td>\n",
              "      <td>NaN</td>\n",
              "      <td>0.000000</td>\n",
              "      <td>NaN</td>\n",
              "      <td>NaN</td>\n",
              "      <td>NaN</td>\n",
              "      <td>NaN</td>\n",
              "      <td>NaN</td>\n",
              "    </tr>\n",
              "    <tr>\n",
              "      <th>50%</th>\n",
              "      <td>NaN</td>\n",
              "      <td>NaN</td>\n",
              "      <td>4.300000</td>\n",
              "      <td>3.004000e+03</td>\n",
              "      <td>13.000000</td>\n",
              "      <td>1.000000e+05</td>\n",
              "      <td>NaN</td>\n",
              "      <td>0.000000</td>\n",
              "      <td>NaN</td>\n",
              "      <td>NaN</td>\n",
              "      <td>NaN</td>\n",
              "      <td>NaN</td>\n",
              "      <td>NaN</td>\n",
              "    </tr>\n",
              "    <tr>\n",
              "      <th>75%</th>\n",
              "      <td>NaN</td>\n",
              "      <td>NaN</td>\n",
              "      <td>4.500000</td>\n",
              "      <td>4.381300e+04</td>\n",
              "      <td>31.000000</td>\n",
              "      <td>1.000000e+06</td>\n",
              "      <td>NaN</td>\n",
              "      <td>0.000000</td>\n",
              "      <td>NaN</td>\n",
              "      <td>NaN</td>\n",
              "      <td>NaN</td>\n",
              "      <td>NaN</td>\n",
              "      <td>NaN</td>\n",
              "    </tr>\n",
              "    <tr>\n",
              "      <th>max</th>\n",
              "      <td>NaN</td>\n",
              "      <td>NaN</td>\n",
              "      <td>5.000000</td>\n",
              "      <td>7.815831e+07</td>\n",
              "      <td>100.000000</td>\n",
              "      <td>1.000000e+09</td>\n",
              "      <td>NaN</td>\n",
              "      <td>400.000000</td>\n",
              "      <td>NaN</td>\n",
              "      <td>NaN</td>\n",
              "      <td>NaN</td>\n",
              "      <td>NaN</td>\n",
              "      <td>NaN</td>\n",
              "    </tr>\n",
              "  </tbody>\n",
              "</table>\n",
              "</div>\n",
              "      <button class=\"colab-df-convert\" onclick=\"convertToInteractive('df-1d38fc45-791e-4d0a-97ad-df3eddd4359c')\"\n",
              "              title=\"Convert this dataframe to an interactive table.\"\n",
              "              style=\"display:none;\">\n",
              "\n",
              "  <svg xmlns=\"http://www.w3.org/2000/svg\" height=\"24px\"viewBox=\"0 0 24 24\"\n",
              "       width=\"24px\">\n",
              "    <path d=\"M0 0h24v24H0V0z\" fill=\"none\"/>\n",
              "    <path d=\"M18.56 5.44l.94 2.06.94-2.06 2.06-.94-2.06-.94-.94-2.06-.94 2.06-2.06.94zm-11 1L8.5 8.5l.94-2.06 2.06-.94-2.06-.94L8.5 2.5l-.94 2.06-2.06.94zm10 10l.94 2.06.94-2.06 2.06-.94-2.06-.94-.94-2.06-.94 2.06-2.06.94z\"/><path d=\"M17.41 7.96l-1.37-1.37c-.4-.4-.92-.59-1.43-.59-.52 0-1.04.2-1.43.59L10.3 9.45l-7.72 7.72c-.78.78-.78 2.05 0 2.83L4 21.41c.39.39.9.59 1.41.59.51 0 1.02-.2 1.41-.59l7.78-7.78 2.81-2.81c.8-.78.8-2.07 0-2.86zM5.41 20L4 18.59l7.72-7.72 1.47 1.35L5.41 20z\"/>\n",
              "  </svg>\n",
              "      </button>\n",
              "\n",
              "\n",
              "\n",
              "    <div id=\"df-0dd1f28c-acee-4f21-b23c-5ef6da25898e\">\n",
              "      <button class=\"colab-df-quickchart\" onclick=\"quickchart('df-0dd1f28c-acee-4f21-b23c-5ef6da25898e')\"\n",
              "              title=\"Suggest charts.\"\n",
              "              style=\"display:none;\">\n",
              "\n",
              "<svg xmlns=\"http://www.w3.org/2000/svg\" height=\"24px\"viewBox=\"0 0 24 24\"\n",
              "     width=\"24px\">\n",
              "    <g>\n",
              "        <path d=\"M19 3H5c-1.1 0-2 .9-2 2v14c0 1.1.9 2 2 2h14c1.1 0 2-.9 2-2V5c0-1.1-.9-2-2-2zM9 17H7v-7h2v7zm4 0h-2V7h2v10zm4 0h-2v-4h2v4z\"/>\n",
              "    </g>\n",
              "</svg>\n",
              "      </button>\n",
              "    </div>\n",
              "\n",
              "<style>\n",
              "  .colab-df-quickchart {\n",
              "    background-color: #E8F0FE;\n",
              "    border: none;\n",
              "    border-radius: 50%;\n",
              "    cursor: pointer;\n",
              "    display: none;\n",
              "    fill: #1967D2;\n",
              "    height: 32px;\n",
              "    padding: 0 0 0 0;\n",
              "    width: 32px;\n",
              "  }\n",
              "\n",
              "  .colab-df-quickchart:hover {\n",
              "    background-color: #E2EBFA;\n",
              "    box-shadow: 0px 1px 2px rgba(60, 64, 67, 0.3), 0px 1px 3px 1px rgba(60, 64, 67, 0.15);\n",
              "    fill: #174EA6;\n",
              "  }\n",
              "\n",
              "  [theme=dark] .colab-df-quickchart {\n",
              "    background-color: #3B4455;\n",
              "    fill: #D2E3FC;\n",
              "  }\n",
              "\n",
              "  [theme=dark] .colab-df-quickchart:hover {\n",
              "    background-color: #434B5C;\n",
              "    box-shadow: 0px 1px 3px 1px rgba(0, 0, 0, 0.15);\n",
              "    filter: drop-shadow(0px 1px 2px rgba(0, 0, 0, 0.3));\n",
              "    fill: #FFFFFF;\n",
              "  }\n",
              "</style>\n",
              "\n",
              "    <script>\n",
              "      async function quickchart(key) {\n",
              "        const containerElement = document.querySelector('#' + key);\n",
              "        const charts = await google.colab.kernel.invokeFunction(\n",
              "            'suggestCharts', [key], {});\n",
              "      }\n",
              "    </script>\n",
              "\n",
              "      <script>\n",
              "\n",
              "function displayQuickchartButton(domScope) {\n",
              "  let quickchartButtonEl =\n",
              "    domScope.querySelector('#df-0dd1f28c-acee-4f21-b23c-5ef6da25898e button.colab-df-quickchart');\n",
              "  quickchartButtonEl.style.display =\n",
              "    google.colab.kernel.accessAllowed ? 'block' : 'none';\n",
              "}\n",
              "\n",
              "        displayQuickchartButton(document);\n",
              "      </script>\n",
              "      <style>\n",
              "    .colab-df-container {\n",
              "      display:flex;\n",
              "      flex-wrap:wrap;\n",
              "      gap: 12px;\n",
              "    }\n",
              "\n",
              "    .colab-df-convert {\n",
              "      background-color: #E8F0FE;\n",
              "      border: none;\n",
              "      border-radius: 50%;\n",
              "      cursor: pointer;\n",
              "      display: none;\n",
              "      fill: #1967D2;\n",
              "      height: 32px;\n",
              "      padding: 0 0 0 0;\n",
              "      width: 32px;\n",
              "    }\n",
              "\n",
              "    .colab-df-convert:hover {\n",
              "      background-color: #E2EBFA;\n",
              "      box-shadow: 0px 1px 2px rgba(60, 64, 67, 0.3), 0px 1px 3px 1px rgba(60, 64, 67, 0.15);\n",
              "      fill: #174EA6;\n",
              "    }\n",
              "\n",
              "    [theme=dark] .colab-df-convert {\n",
              "      background-color: #3B4455;\n",
              "      fill: #D2E3FC;\n",
              "    }\n",
              "\n",
              "    [theme=dark] .colab-df-convert:hover {\n",
              "      background-color: #434B5C;\n",
              "      box-shadow: 0px 1px 3px 1px rgba(0, 0, 0, 0.15);\n",
              "      filter: drop-shadow(0px 1px 2px rgba(0, 0, 0, 0.3));\n",
              "      fill: #FFFFFF;\n",
              "    }\n",
              "  </style>\n",
              "\n",
              "      <script>\n",
              "        const buttonEl =\n",
              "          document.querySelector('#df-1d38fc45-791e-4d0a-97ad-df3eddd4359c button.colab-df-convert');\n",
              "        buttonEl.style.display =\n",
              "          google.colab.kernel.accessAllowed ? 'block' : 'none';\n",
              "\n",
              "        async function convertToInteractive(key) {\n",
              "          const element = document.querySelector('#df-1d38fc45-791e-4d0a-97ad-df3eddd4359c');\n",
              "          const dataTable =\n",
              "            await google.colab.kernel.invokeFunction('convertToInteractive',\n",
              "                                                     [key], {});\n",
              "          if (!dataTable) return;\n",
              "\n",
              "          const docLinkHtml = 'Like what you see? Visit the ' +\n",
              "            '<a target=\"_blank\" href=https://colab.research.google.com/notebooks/data_table.ipynb>data table notebook</a>'\n",
              "            + ' to learn more about interactive tables.';\n",
              "          element.innerHTML = '';\n",
              "          dataTable['output_type'] = 'display_data';\n",
              "          await google.colab.output.renderOutput(dataTable, element);\n",
              "          const docLink = document.createElement('div');\n",
              "          docLink.innerHTML = docLinkHtml;\n",
              "          element.appendChild(docLink);\n",
              "        }\n",
              "      </script>\n",
              "    </div>\n",
              "  </div>\n"
            ]
          },
          "metadata": {},
          "execution_count": 78
        }
      ]
    },
    {
      "cell_type": "markdown",
      "source": [
        "###Identifying the Statistics from the Dataset"
      ],
      "metadata": {
        "id": "XG6qmCu2chos"
      }
    },
    {
      "cell_type": "code",
      "source": [
        "# finding numerical data\n",
        "\n",
        "numeric_data = playstoredf.select_dtypes(include=np.number)\n",
        "numeric_col = numeric_data.columns\n",
        "\n",
        "\n",
        "# we will store the numeric features in a variable\n",
        "\n",
        "print(\"Numeric Features:\", numeric_data.shape)\n",
        "numeric_data.describe(include='all').T"
      ],
      "metadata": {
        "id": "46lXEGKIc4Js",
        "colab": {
          "base_uri": "https://localhost:8080/",
          "height": 224
        },
        "outputId": "190689d7-0d5a-4c32-ac9c-b6e3172a3fef"
      },
      "execution_count": 79,
      "outputs": [
        {
          "output_type": "stream",
          "name": "stdout",
          "text": [
            "Numeric Features: (8196, 5)\n"
          ]
        },
        {
          "output_type": "execute_result",
          "data": {
            "text/plain": [
              "           count          mean           std       min      25%       50%  \\\n",
              "Rating    8196.0  4.173243e+00  5.366247e-01  1.000000      4.0       4.3   \n",
              "Reviews   8196.0  2.552515e+05  1.985594e+06  1.000000    126.0    3004.0   \n",
              "Size      7027.0  2.175406e+01  2.272684e+01  0.008301      4.9      13.0   \n",
              "Installs  8196.0  9.165090e+06  5.825087e+07  1.000000  10000.0  100000.0   \n",
              "Price     8196.0  1.037884e+00  1.685788e+01  0.000000      0.0       0.0   \n",
              "\n",
              "                75%           max  \n",
              "Rating          4.5  5.000000e+00  \n",
              "Reviews     43813.0  7.815831e+07  \n",
              "Size           31.0  1.000000e+02  \n",
              "Installs  1000000.0  1.000000e+09  \n",
              "Price           0.0  4.000000e+02  "
            ],
            "text/html": [
              "\n",
              "\n",
              "  <div id=\"df-cff39e4d-7a2c-4e28-89cb-0f4e2e13f036\">\n",
              "    <div class=\"colab-df-container\">\n",
              "      <div>\n",
              "<style scoped>\n",
              "    .dataframe tbody tr th:only-of-type {\n",
              "        vertical-align: middle;\n",
              "    }\n",
              "\n",
              "    .dataframe tbody tr th {\n",
              "        vertical-align: top;\n",
              "    }\n",
              "\n",
              "    .dataframe thead th {\n",
              "        text-align: right;\n",
              "    }\n",
              "</style>\n",
              "<table border=\"1\" class=\"dataframe\">\n",
              "  <thead>\n",
              "    <tr style=\"text-align: right;\">\n",
              "      <th></th>\n",
              "      <th>count</th>\n",
              "      <th>mean</th>\n",
              "      <th>std</th>\n",
              "      <th>min</th>\n",
              "      <th>25%</th>\n",
              "      <th>50%</th>\n",
              "      <th>75%</th>\n",
              "      <th>max</th>\n",
              "    </tr>\n",
              "  </thead>\n",
              "  <tbody>\n",
              "    <tr>\n",
              "      <th>Rating</th>\n",
              "      <td>8196.0</td>\n",
              "      <td>4.173243e+00</td>\n",
              "      <td>5.366247e-01</td>\n",
              "      <td>1.000000</td>\n",
              "      <td>4.0</td>\n",
              "      <td>4.3</td>\n",
              "      <td>4.5</td>\n",
              "      <td>5.000000e+00</td>\n",
              "    </tr>\n",
              "    <tr>\n",
              "      <th>Reviews</th>\n",
              "      <td>8196.0</td>\n",
              "      <td>2.552515e+05</td>\n",
              "      <td>1.985594e+06</td>\n",
              "      <td>1.000000</td>\n",
              "      <td>126.0</td>\n",
              "      <td>3004.0</td>\n",
              "      <td>43813.0</td>\n",
              "      <td>7.815831e+07</td>\n",
              "    </tr>\n",
              "    <tr>\n",
              "      <th>Size</th>\n",
              "      <td>7027.0</td>\n",
              "      <td>2.175406e+01</td>\n",
              "      <td>2.272684e+01</td>\n",
              "      <td>0.008301</td>\n",
              "      <td>4.9</td>\n",
              "      <td>13.0</td>\n",
              "      <td>31.0</td>\n",
              "      <td>1.000000e+02</td>\n",
              "    </tr>\n",
              "    <tr>\n",
              "      <th>Installs</th>\n",
              "      <td>8196.0</td>\n",
              "      <td>9.165090e+06</td>\n",
              "      <td>5.825087e+07</td>\n",
              "      <td>1.000000</td>\n",
              "      <td>10000.0</td>\n",
              "      <td>100000.0</td>\n",
              "      <td>1000000.0</td>\n",
              "      <td>1.000000e+09</td>\n",
              "    </tr>\n",
              "    <tr>\n",
              "      <th>Price</th>\n",
              "      <td>8196.0</td>\n",
              "      <td>1.037884e+00</td>\n",
              "      <td>1.685788e+01</td>\n",
              "      <td>0.000000</td>\n",
              "      <td>0.0</td>\n",
              "      <td>0.0</td>\n",
              "      <td>0.0</td>\n",
              "      <td>4.000000e+02</td>\n",
              "    </tr>\n",
              "  </tbody>\n",
              "</table>\n",
              "</div>\n",
              "      <button class=\"colab-df-convert\" onclick=\"convertToInteractive('df-cff39e4d-7a2c-4e28-89cb-0f4e2e13f036')\"\n",
              "              title=\"Convert this dataframe to an interactive table.\"\n",
              "              style=\"display:none;\">\n",
              "\n",
              "  <svg xmlns=\"http://www.w3.org/2000/svg\" height=\"24px\"viewBox=\"0 0 24 24\"\n",
              "       width=\"24px\">\n",
              "    <path d=\"M0 0h24v24H0V0z\" fill=\"none\"/>\n",
              "    <path d=\"M18.56 5.44l.94 2.06.94-2.06 2.06-.94-2.06-.94-.94-2.06-.94 2.06-2.06.94zm-11 1L8.5 8.5l.94-2.06 2.06-.94-2.06-.94L8.5 2.5l-.94 2.06-2.06.94zm10 10l.94 2.06.94-2.06 2.06-.94-2.06-.94-.94-2.06-.94 2.06-2.06.94z\"/><path d=\"M17.41 7.96l-1.37-1.37c-.4-.4-.92-.59-1.43-.59-.52 0-1.04.2-1.43.59L10.3 9.45l-7.72 7.72c-.78.78-.78 2.05 0 2.83L4 21.41c.39.39.9.59 1.41.59.51 0 1.02-.2 1.41-.59l7.78-7.78 2.81-2.81c.8-.78.8-2.07 0-2.86zM5.41 20L4 18.59l7.72-7.72 1.47 1.35L5.41 20z\"/>\n",
              "  </svg>\n",
              "      </button>\n",
              "\n",
              "\n",
              "\n",
              "    <div id=\"df-50f3a770-dbaf-4e01-8cb4-b9dbd198515e\">\n",
              "      <button class=\"colab-df-quickchart\" onclick=\"quickchart('df-50f3a770-dbaf-4e01-8cb4-b9dbd198515e')\"\n",
              "              title=\"Suggest charts.\"\n",
              "              style=\"display:none;\">\n",
              "\n",
              "<svg xmlns=\"http://www.w3.org/2000/svg\" height=\"24px\"viewBox=\"0 0 24 24\"\n",
              "     width=\"24px\">\n",
              "    <g>\n",
              "        <path d=\"M19 3H5c-1.1 0-2 .9-2 2v14c0 1.1.9 2 2 2h14c1.1 0 2-.9 2-2V5c0-1.1-.9-2-2-2zM9 17H7v-7h2v7zm4 0h-2V7h2v10zm4 0h-2v-4h2v4z\"/>\n",
              "    </g>\n",
              "</svg>\n",
              "      </button>\n",
              "    </div>\n",
              "\n",
              "<style>\n",
              "  .colab-df-quickchart {\n",
              "    background-color: #E8F0FE;\n",
              "    border: none;\n",
              "    border-radius: 50%;\n",
              "    cursor: pointer;\n",
              "    display: none;\n",
              "    fill: #1967D2;\n",
              "    height: 32px;\n",
              "    padding: 0 0 0 0;\n",
              "    width: 32px;\n",
              "  }\n",
              "\n",
              "  .colab-df-quickchart:hover {\n",
              "    background-color: #E2EBFA;\n",
              "    box-shadow: 0px 1px 2px rgba(60, 64, 67, 0.3), 0px 1px 3px 1px rgba(60, 64, 67, 0.15);\n",
              "    fill: #174EA6;\n",
              "  }\n",
              "\n",
              "  [theme=dark] .colab-df-quickchart {\n",
              "    background-color: #3B4455;\n",
              "    fill: #D2E3FC;\n",
              "  }\n",
              "\n",
              "  [theme=dark] .colab-df-quickchart:hover {\n",
              "    background-color: #434B5C;\n",
              "    box-shadow: 0px 1px 3px 1px rgba(0, 0, 0, 0.15);\n",
              "    filter: drop-shadow(0px 1px 2px rgba(0, 0, 0, 0.3));\n",
              "    fill: #FFFFFF;\n",
              "  }\n",
              "</style>\n",
              "\n",
              "    <script>\n",
              "      async function quickchart(key) {\n",
              "        const containerElement = document.querySelector('#' + key);\n",
              "        const charts = await google.colab.kernel.invokeFunction(\n",
              "            'suggestCharts', [key], {});\n",
              "      }\n",
              "    </script>\n",
              "\n",
              "      <script>\n",
              "\n",
              "function displayQuickchartButton(domScope) {\n",
              "  let quickchartButtonEl =\n",
              "    domScope.querySelector('#df-50f3a770-dbaf-4e01-8cb4-b9dbd198515e button.colab-df-quickchart');\n",
              "  quickchartButtonEl.style.display =\n",
              "    google.colab.kernel.accessAllowed ? 'block' : 'none';\n",
              "}\n",
              "\n",
              "        displayQuickchartButton(document);\n",
              "      </script>\n",
              "      <style>\n",
              "    .colab-df-container {\n",
              "      display:flex;\n",
              "      flex-wrap:wrap;\n",
              "      gap: 12px;\n",
              "    }\n",
              "\n",
              "    .colab-df-convert {\n",
              "      background-color: #E8F0FE;\n",
              "      border: none;\n",
              "      border-radius: 50%;\n",
              "      cursor: pointer;\n",
              "      display: none;\n",
              "      fill: #1967D2;\n",
              "      height: 32px;\n",
              "      padding: 0 0 0 0;\n",
              "      width: 32px;\n",
              "    }\n",
              "\n",
              "    .colab-df-convert:hover {\n",
              "      background-color: #E2EBFA;\n",
              "      box-shadow: 0px 1px 2px rgba(60, 64, 67, 0.3), 0px 1px 3px 1px rgba(60, 64, 67, 0.15);\n",
              "      fill: #174EA6;\n",
              "    }\n",
              "\n",
              "    [theme=dark] .colab-df-convert {\n",
              "      background-color: #3B4455;\n",
              "      fill: #D2E3FC;\n",
              "    }\n",
              "\n",
              "    [theme=dark] .colab-df-convert:hover {\n",
              "      background-color: #434B5C;\n",
              "      box-shadow: 0px 1px 3px 1px rgba(0, 0, 0, 0.15);\n",
              "      filter: drop-shadow(0px 1px 2px rgba(0, 0, 0, 0.3));\n",
              "      fill: #FFFFFF;\n",
              "    }\n",
              "  </style>\n",
              "\n",
              "      <script>\n",
              "        const buttonEl =\n",
              "          document.querySelector('#df-cff39e4d-7a2c-4e28-89cb-0f4e2e13f036 button.colab-df-convert');\n",
              "        buttonEl.style.display =\n",
              "          google.colab.kernel.accessAllowed ? 'block' : 'none';\n",
              "\n",
              "        async function convertToInteractive(key) {\n",
              "          const element = document.querySelector('#df-cff39e4d-7a2c-4e28-89cb-0f4e2e13f036');\n",
              "          const dataTable =\n",
              "            await google.colab.kernel.invokeFunction('convertToInteractive',\n",
              "                                                     [key], {});\n",
              "          if (!dataTable) return;\n",
              "\n",
              "          const docLinkHtml = 'Like what you see? Visit the ' +\n",
              "            '<a target=\"_blank\" href=https://colab.research.google.com/notebooks/data_table.ipynb>data table notebook</a>'\n",
              "            + ' to learn more about interactive tables.';\n",
              "          element.innerHTML = '';\n",
              "          dataTable['output_type'] = 'display_data';\n",
              "          await google.colab.output.renderOutput(dataTable, element);\n",
              "          const docLink = document.createElement('div');\n",
              "          docLink.innerHTML = docLinkHtml;\n",
              "          element.appendChild(docLink);\n",
              "        }\n",
              "      </script>\n",
              "    </div>\n",
              "  </div>\n"
            ]
          },
          "metadata": {},
          "execution_count": 79
        }
      ]
    },
    {
      "cell_type": "code",
      "source": [
        "# Finding the Categorical data\n",
        "\n",
        "cat_data = playstoredf.select_dtypes(exclude=np.number) #selects data with non-numeric features\n",
        "cat_col = cat_data.columns\n",
        "\n",
        "# non-numeric features in a variable\n",
        "\n",
        "print(\"Non-Numeric Features:\", cat_data.shape)\n",
        "cat_data.describe(include='all').T"
      ],
      "metadata": {
        "id": "tAW0LMrQdeil",
        "colab": {
          "base_uri": "https://localhost:8080/",
          "height": 318
        },
        "outputId": "4f595862-e6a8-4c5b-aec7-e573803bd78a"
      },
      "execution_count": 80,
      "outputs": [
        {
          "output_type": "stream",
          "name": "stdout",
          "text": [
            "Non-Numeric Features: (8196, 8)\n"
          ]
        },
        {
          "output_type": "execute_result",
          "data": {
            "text/plain": [
              "               count unique                                             top  \\\n",
              "App             8196   8196  Photo Editor & Candy Camera & Grid & ScrapBook   \n",
              "Category        8196     33                                          FAMILY   \n",
              "Type            8196      2                                            Free   \n",
              "Content Rating  8196      6                                        Everyone   \n",
              "Genres          8196    114                                           Tools   \n",
              "Last Updated    8196   1300                                  August 3, 2018   \n",
              "Current Ver     8196   2624                              Varies with device   \n",
              "Android Ver     8196     31                                      4.1 and up   \n",
              "\n",
              "                freq  \n",
              "App                1  \n",
              "Category        1608  \n",
              "Type            7592  \n",
              "Content Rating  6618  \n",
              "Genres           717  \n",
              "Last Updated     245  \n",
              "Current Ver     1015  \n",
              "Android Ver     1813  "
            ],
            "text/html": [
              "\n",
              "\n",
              "  <div id=\"df-1415b587-f5db-4525-a618-0f34a7d9712e\">\n",
              "    <div class=\"colab-df-container\">\n",
              "      <div>\n",
              "<style scoped>\n",
              "    .dataframe tbody tr th:only-of-type {\n",
              "        vertical-align: middle;\n",
              "    }\n",
              "\n",
              "    .dataframe tbody tr th {\n",
              "        vertical-align: top;\n",
              "    }\n",
              "\n",
              "    .dataframe thead th {\n",
              "        text-align: right;\n",
              "    }\n",
              "</style>\n",
              "<table border=\"1\" class=\"dataframe\">\n",
              "  <thead>\n",
              "    <tr style=\"text-align: right;\">\n",
              "      <th></th>\n",
              "      <th>count</th>\n",
              "      <th>unique</th>\n",
              "      <th>top</th>\n",
              "      <th>freq</th>\n",
              "    </tr>\n",
              "  </thead>\n",
              "  <tbody>\n",
              "    <tr>\n",
              "      <th>App</th>\n",
              "      <td>8196</td>\n",
              "      <td>8196</td>\n",
              "      <td>Photo Editor &amp; Candy Camera &amp; Grid &amp; ScrapBook</td>\n",
              "      <td>1</td>\n",
              "    </tr>\n",
              "    <tr>\n",
              "      <th>Category</th>\n",
              "      <td>8196</td>\n",
              "      <td>33</td>\n",
              "      <td>FAMILY</td>\n",
              "      <td>1608</td>\n",
              "    </tr>\n",
              "    <tr>\n",
              "      <th>Type</th>\n",
              "      <td>8196</td>\n",
              "      <td>2</td>\n",
              "      <td>Free</td>\n",
              "      <td>7592</td>\n",
              "    </tr>\n",
              "    <tr>\n",
              "      <th>Content Rating</th>\n",
              "      <td>8196</td>\n",
              "      <td>6</td>\n",
              "      <td>Everyone</td>\n",
              "      <td>6618</td>\n",
              "    </tr>\n",
              "    <tr>\n",
              "      <th>Genres</th>\n",
              "      <td>8196</td>\n",
              "      <td>114</td>\n",
              "      <td>Tools</td>\n",
              "      <td>717</td>\n",
              "    </tr>\n",
              "    <tr>\n",
              "      <th>Last Updated</th>\n",
              "      <td>8196</td>\n",
              "      <td>1300</td>\n",
              "      <td>August 3, 2018</td>\n",
              "      <td>245</td>\n",
              "    </tr>\n",
              "    <tr>\n",
              "      <th>Current Ver</th>\n",
              "      <td>8196</td>\n",
              "      <td>2624</td>\n",
              "      <td>Varies with device</td>\n",
              "      <td>1015</td>\n",
              "    </tr>\n",
              "    <tr>\n",
              "      <th>Android Ver</th>\n",
              "      <td>8196</td>\n",
              "      <td>31</td>\n",
              "      <td>4.1 and up</td>\n",
              "      <td>1813</td>\n",
              "    </tr>\n",
              "  </tbody>\n",
              "</table>\n",
              "</div>\n",
              "      <button class=\"colab-df-convert\" onclick=\"convertToInteractive('df-1415b587-f5db-4525-a618-0f34a7d9712e')\"\n",
              "              title=\"Convert this dataframe to an interactive table.\"\n",
              "              style=\"display:none;\">\n",
              "\n",
              "  <svg xmlns=\"http://www.w3.org/2000/svg\" height=\"24px\"viewBox=\"0 0 24 24\"\n",
              "       width=\"24px\">\n",
              "    <path d=\"M0 0h24v24H0V0z\" fill=\"none\"/>\n",
              "    <path d=\"M18.56 5.44l.94 2.06.94-2.06 2.06-.94-2.06-.94-.94-2.06-.94 2.06-2.06.94zm-11 1L8.5 8.5l.94-2.06 2.06-.94-2.06-.94L8.5 2.5l-.94 2.06-2.06.94zm10 10l.94 2.06.94-2.06 2.06-.94-2.06-.94-.94-2.06-.94 2.06-2.06.94z\"/><path d=\"M17.41 7.96l-1.37-1.37c-.4-.4-.92-.59-1.43-.59-.52 0-1.04.2-1.43.59L10.3 9.45l-7.72 7.72c-.78.78-.78 2.05 0 2.83L4 21.41c.39.39.9.59 1.41.59.51 0 1.02-.2 1.41-.59l7.78-7.78 2.81-2.81c.8-.78.8-2.07 0-2.86zM5.41 20L4 18.59l7.72-7.72 1.47 1.35L5.41 20z\"/>\n",
              "  </svg>\n",
              "      </button>\n",
              "\n",
              "\n",
              "\n",
              "    <div id=\"df-87cd4005-f2ed-4fd6-85ea-8e728df6e08c\">\n",
              "      <button class=\"colab-df-quickchart\" onclick=\"quickchart('df-87cd4005-f2ed-4fd6-85ea-8e728df6e08c')\"\n",
              "              title=\"Suggest charts.\"\n",
              "              style=\"display:none;\">\n",
              "\n",
              "<svg xmlns=\"http://www.w3.org/2000/svg\" height=\"24px\"viewBox=\"0 0 24 24\"\n",
              "     width=\"24px\">\n",
              "    <g>\n",
              "        <path d=\"M19 3H5c-1.1 0-2 .9-2 2v14c0 1.1.9 2 2 2h14c1.1 0 2-.9 2-2V5c0-1.1-.9-2-2-2zM9 17H7v-7h2v7zm4 0h-2V7h2v10zm4 0h-2v-4h2v4z\"/>\n",
              "    </g>\n",
              "</svg>\n",
              "      </button>\n",
              "    </div>\n",
              "\n",
              "<style>\n",
              "  .colab-df-quickchart {\n",
              "    background-color: #E8F0FE;\n",
              "    border: none;\n",
              "    border-radius: 50%;\n",
              "    cursor: pointer;\n",
              "    display: none;\n",
              "    fill: #1967D2;\n",
              "    height: 32px;\n",
              "    padding: 0 0 0 0;\n",
              "    width: 32px;\n",
              "  }\n",
              "\n",
              "  .colab-df-quickchart:hover {\n",
              "    background-color: #E2EBFA;\n",
              "    box-shadow: 0px 1px 2px rgba(60, 64, 67, 0.3), 0px 1px 3px 1px rgba(60, 64, 67, 0.15);\n",
              "    fill: #174EA6;\n",
              "  }\n",
              "\n",
              "  [theme=dark] .colab-df-quickchart {\n",
              "    background-color: #3B4455;\n",
              "    fill: #D2E3FC;\n",
              "  }\n",
              "\n",
              "  [theme=dark] .colab-df-quickchart:hover {\n",
              "    background-color: #434B5C;\n",
              "    box-shadow: 0px 1px 3px 1px rgba(0, 0, 0, 0.15);\n",
              "    filter: drop-shadow(0px 1px 2px rgba(0, 0, 0, 0.3));\n",
              "    fill: #FFFFFF;\n",
              "  }\n",
              "</style>\n",
              "\n",
              "    <script>\n",
              "      async function quickchart(key) {\n",
              "        const containerElement = document.querySelector('#' + key);\n",
              "        const charts = await google.colab.kernel.invokeFunction(\n",
              "            'suggestCharts', [key], {});\n",
              "      }\n",
              "    </script>\n",
              "\n",
              "      <script>\n",
              "\n",
              "function displayQuickchartButton(domScope) {\n",
              "  let quickchartButtonEl =\n",
              "    domScope.querySelector('#df-87cd4005-f2ed-4fd6-85ea-8e728df6e08c button.colab-df-quickchart');\n",
              "  quickchartButtonEl.style.display =\n",
              "    google.colab.kernel.accessAllowed ? 'block' : 'none';\n",
              "}\n",
              "\n",
              "        displayQuickchartButton(document);\n",
              "      </script>\n",
              "      <style>\n",
              "    .colab-df-container {\n",
              "      display:flex;\n",
              "      flex-wrap:wrap;\n",
              "      gap: 12px;\n",
              "    }\n",
              "\n",
              "    .colab-df-convert {\n",
              "      background-color: #E8F0FE;\n",
              "      border: none;\n",
              "      border-radius: 50%;\n",
              "      cursor: pointer;\n",
              "      display: none;\n",
              "      fill: #1967D2;\n",
              "      height: 32px;\n",
              "      padding: 0 0 0 0;\n",
              "      width: 32px;\n",
              "    }\n",
              "\n",
              "    .colab-df-convert:hover {\n",
              "      background-color: #E2EBFA;\n",
              "      box-shadow: 0px 1px 2px rgba(60, 64, 67, 0.3), 0px 1px 3px 1px rgba(60, 64, 67, 0.15);\n",
              "      fill: #174EA6;\n",
              "    }\n",
              "\n",
              "    [theme=dark] .colab-df-convert {\n",
              "      background-color: #3B4455;\n",
              "      fill: #D2E3FC;\n",
              "    }\n",
              "\n",
              "    [theme=dark] .colab-df-convert:hover {\n",
              "      background-color: #434B5C;\n",
              "      box-shadow: 0px 1px 3px 1px rgba(0, 0, 0, 0.15);\n",
              "      filter: drop-shadow(0px 1px 2px rgba(0, 0, 0, 0.3));\n",
              "      fill: #FFFFFF;\n",
              "    }\n",
              "  </style>\n",
              "\n",
              "      <script>\n",
              "        const buttonEl =\n",
              "          document.querySelector('#df-1415b587-f5db-4525-a618-0f34a7d9712e button.colab-df-convert');\n",
              "        buttonEl.style.display =\n",
              "          google.colab.kernel.accessAllowed ? 'block' : 'none';\n",
              "\n",
              "        async function convertToInteractive(key) {\n",
              "          const element = document.querySelector('#df-1415b587-f5db-4525-a618-0f34a7d9712e');\n",
              "          const dataTable =\n",
              "            await google.colab.kernel.invokeFunction('convertToInteractive',\n",
              "                                                     [key], {});\n",
              "          if (!dataTable) return;\n",
              "\n",
              "          const docLinkHtml = 'Like what you see? Visit the ' +\n",
              "            '<a target=\"_blank\" href=https://colab.research.google.com/notebooks/data_table.ipynb>data table notebook</a>'\n",
              "            + ' to learn more about interactive tables.';\n",
              "          element.innerHTML = '';\n",
              "          dataTable['output_type'] = 'display_data';\n",
              "          await google.colab.output.renderOutput(dataTable, element);\n",
              "          const docLink = document.createElement('div');\n",
              "          docLink.innerHTML = docLinkHtml;\n",
              "          element.appendChild(docLink);\n",
              "        }\n",
              "      </script>\n",
              "    </div>\n",
              "  </div>\n"
            ]
          },
          "metadata": {},
          "execution_count": 80
        }
      ]
    },
    {
      "cell_type": "code",
      "source": [
        "playstoredf.to_csv('/content/drive/MyDrive/My_new_numpy.csv') #saved clean playstore data"
      ],
      "metadata": {
        "id": "bVPNK6lg7xUy"
      },
      "execution_count": 81,
      "outputs": []
    },
    {
      "cell_type": "markdown",
      "source": [
        "### What all manipulations have you done and insights you found?"
      ],
      "metadata": {
        "id": "MSa1f5Uengrz"
      }
    },
    {
      "cell_type": "markdown",
      "source": [
        "In the Playstore dataset, our first step involves reading the data. Following that, we identify and address any null values present in the dataset. Specifically, we remove null values from the Rating column and replace them with the most common value, which is the mode, for the remaining columns. Subsequently, we eliminate duplicate entries based on the 'APP' column.\n",
        "\n",
        "Continuing the data cleaning process, we examine and handle potential outliers in the 'Rating' column, opting to remove them. Additionally, we proceed to replace any special characters found in the 'Installs', 'Price', and 'Size' columns. Furthermore, we convert the 'Size' metric from kilobytes (KB) to megabytes (MB) and verify the data types.\n",
        "\n",
        "This outlines the steps taken to clean the data effectively."
      ],
      "metadata": {
        "id": "LbyXE7I1olp8"
      }
    },
    {
      "cell_type": "markdown",
      "source": [
        "####Let's do some insights"
      ],
      "metadata": {
        "id": "Bg3ZecJ3fEJJ"
      }
    },
    {
      "cell_type": "markdown",
      "source": [
        "1. How many Unique Category in Playstore Data ?"
      ],
      "metadata": {
        "id": "3-4ggCsvfm1A"
      }
    },
    {
      "cell_type": "code",
      "source": [
        "playstoredf['Category'].nunique()"
      ],
      "metadata": {
        "id": "Y0L0rrJ-fJvA",
        "colab": {
          "base_uri": "https://localhost:8080/"
        },
        "outputId": "ca2f0560-bdf1-4f1f-844f-13c26db21074"
      },
      "execution_count": 82,
      "outputs": [
        {
          "output_type": "execute_result",
          "data": {
            "text/plain": [
              "33"
            ]
          },
          "metadata": {},
          "execution_count": 82
        }
      ]
    },
    {
      "cell_type": "markdown",
      "source": [
        "2. Which Category Getting the Highest Average Rating ?"
      ],
      "metadata": {
        "id": "uTpQvjVlfyk2"
      }
    },
    {
      "cell_type": "code",
      "source": [
        "playstoredf.groupby('Category')['Rating'].mean().sort_values(ascending = False).head()"
      ],
      "metadata": {
        "id": "wCWr2Wnvf77y",
        "colab": {
          "base_uri": "https://localhost:8080/"
        },
        "outputId": "b403130c-5d31-4870-b177-78b31697221b"
      },
      "execution_count": 83,
      "outputs": [
        {
          "output_type": "execute_result",
          "data": {
            "text/plain": [
              "Category\n",
              "EVENTS                 4.435556\n",
              "EDUCATION              4.364407\n",
              "ART_AND_DESIGN         4.357377\n",
              "BOOKS_AND_REFERENCE    4.344970\n",
              "PERSONALIZATION        4.332215\n",
              "Name: Rating, dtype: float64"
            ]
          },
          "metadata": {},
          "execution_count": 83
        }
      ]
    },
    {
      "cell_type": "markdown",
      "source": [
        "3. Find Total Number of Apps 5 Star Rating ?"
      ],
      "metadata": {
        "id": "thUCrQ8UgO_v"
      }
    },
    {
      "cell_type": "code",
      "source": [
        "len(playstoredf[playstoredf['Rating']==5.0])"
      ],
      "metadata": {
        "id": "Yo7tE-1RgQ4E",
        "colab": {
          "base_uri": "https://localhost:8080/"
        },
        "outputId": "7289ba11-2aa6-4ae0-f7a9-cbdea12894c1"
      },
      "execution_count": 84,
      "outputs": [
        {
          "output_type": "execute_result",
          "data": {
            "text/plain": [
              "271"
            ]
          },
          "metadata": {},
          "execution_count": 84
        }
      ]
    },
    {
      "cell_type": "markdown",
      "source": [
        "4. Find Average Value of Reviews ?"
      ],
      "metadata": {
        "id": "kaFjLYDFhAYv"
      }
    },
    {
      "cell_type": "code",
      "source": [
        "playstoredf['Reviews'] = playstoredf['Reviews'].astype(float)\n",
        "playstoredf['Reviews'].mean()"
      ],
      "metadata": {
        "id": "eAe5u9W7hG0x",
        "colab": {
          "base_uri": "https://localhost:8080/"
        },
        "outputId": "7a5b95fa-0bfb-4e3f-c0ba-29c4822d7592"
      },
      "execution_count": 85,
      "outputs": [
        {
          "output_type": "execute_result",
          "data": {
            "text/plain": [
              "255251.47071742313"
            ]
          },
          "metadata": {},
          "execution_count": 85
        }
      ]
    },
    {
      "cell_type": "markdown",
      "source": [
        "5. Total Number of Free and Paid Apps ?"
      ],
      "metadata": {
        "id": "cM4-fLqbhLzb"
      }
    },
    {
      "cell_type": "code",
      "source": [
        "playstoredf['Type'].value_counts()"
      ],
      "metadata": {
        "id": "mbhnsqWPhTiG",
        "colab": {
          "base_uri": "https://localhost:8080/"
        },
        "outputId": "f296d06a-0377-4ab6-dc90-fba06986e888"
      },
      "execution_count": 86,
      "outputs": [
        {
          "output_type": "execute_result",
          "data": {
            "text/plain": [
              "Free    7592\n",
              "Paid     604\n",
              "Name: Type, dtype: int64"
            ]
          },
          "metadata": {},
          "execution_count": 86
        }
      ]
    },
    {
      "cell_type": "markdown",
      "source": [
        "6. Display Top 5 Apps having Highest Reviews ?"
      ],
      "metadata": {
        "id": "XYZJjl3fhoaM"
      }
    },
    {
      "cell_type": "code",
      "source": [
        "top_5= playstoredf.nlargest(5, 'Reviews')\n",
        "print(top_5[['App', 'Reviews']])\n"
      ],
      "metadata": {
        "id": "mWehMTg1hvew",
        "colab": {
          "base_uri": "https://localhost:8080/"
        },
        "outputId": "bfceb335-31ba-4674-b917-961cb5ccc3db"
      },
      "execution_count": 87,
      "outputs": [
        {
          "output_type": "stream",
          "name": "stdout",
          "text": [
            "                                           App     Reviews\n",
            "2544                                  Facebook  78158306.0\n",
            "336                         WhatsApp Messenger  69119316.0\n",
            "2545                                 Instagram  66577313.0\n",
            "335   Messenger – Text and Video Chat for Free  56642847.0\n",
            "1670                            Clash of Clans  44891723.0\n"
          ]
        }
      ]
    },
    {
      "cell_type": "markdown",
      "source": [
        "7. Average Rating Free and Paid apps ?"
      ],
      "metadata": {
        "id": "MN3Ok2PUh3lr"
      }
    },
    {
      "cell_type": "code",
      "source": [
        "playstoredf.groupby('Type')['Rating'].mean()"
      ],
      "metadata": {
        "id": "lVtvX7s4hz5R",
        "colab": {
          "base_uri": "https://localhost:8080/"
        },
        "outputId": "d302ae45-383d-4ebf-8d64-7713e6dcaefe"
      },
      "execution_count": 88,
      "outputs": [
        {
          "output_type": "execute_result",
          "data": {
            "text/plain": [
              "Type\n",
              "Free    4.166372\n",
              "Paid    4.259603\n",
              "Name: Rating, dtype: float64"
            ]
          },
          "metadata": {},
          "execution_count": 88
        }
      ]
    },
    {
      "cell_type": "markdown",
      "source": [
        " 8. is there any difference between the category column and genres?"
      ],
      "metadata": {
        "id": "XZOn-wp-iWmt"
      }
    },
    {
      "cell_type": "code",
      "source": [
        "playstoredf[[\"Category\",\"Genres\"]]"
      ],
      "metadata": {
        "id": "q4DAfgasibtJ",
        "colab": {
          "base_uri": "https://localhost:8080/",
          "height": 424
        },
        "outputId": "983b880b-24c4-47be-dfa2-843e291ddffb"
      },
      "execution_count": 89,
      "outputs": [
        {
          "output_type": "execute_result",
          "data": {
            "text/plain": [
              "                  Category                     Genres\n",
              "0           ART_AND_DESIGN               Art & Design\n",
              "1           ART_AND_DESIGN  Art & Design;Pretend Play\n",
              "2           ART_AND_DESIGN               Art & Design\n",
              "3           ART_AND_DESIGN               Art & Design\n",
              "4           ART_AND_DESIGN    Art & Design;Creativity\n",
              "...                    ...                        ...\n",
              "10834               FAMILY                  Education\n",
              "10836               FAMILY                  Education\n",
              "10837               FAMILY                  Education\n",
              "10839  BOOKS_AND_REFERENCE          Books & Reference\n",
              "10840            LIFESTYLE                  Lifestyle\n",
              "\n",
              "[8196 rows x 2 columns]"
            ],
            "text/html": [
              "\n",
              "\n",
              "  <div id=\"df-8a5cc7fa-6f4f-4f0d-b662-3980cc19ec3b\">\n",
              "    <div class=\"colab-df-container\">\n",
              "      <div>\n",
              "<style scoped>\n",
              "    .dataframe tbody tr th:only-of-type {\n",
              "        vertical-align: middle;\n",
              "    }\n",
              "\n",
              "    .dataframe tbody tr th {\n",
              "        vertical-align: top;\n",
              "    }\n",
              "\n",
              "    .dataframe thead th {\n",
              "        text-align: right;\n",
              "    }\n",
              "</style>\n",
              "<table border=\"1\" class=\"dataframe\">\n",
              "  <thead>\n",
              "    <tr style=\"text-align: right;\">\n",
              "      <th></th>\n",
              "      <th>Category</th>\n",
              "      <th>Genres</th>\n",
              "    </tr>\n",
              "  </thead>\n",
              "  <tbody>\n",
              "    <tr>\n",
              "      <th>0</th>\n",
              "      <td>ART_AND_DESIGN</td>\n",
              "      <td>Art &amp; Design</td>\n",
              "    </tr>\n",
              "    <tr>\n",
              "      <th>1</th>\n",
              "      <td>ART_AND_DESIGN</td>\n",
              "      <td>Art &amp; Design;Pretend Play</td>\n",
              "    </tr>\n",
              "    <tr>\n",
              "      <th>2</th>\n",
              "      <td>ART_AND_DESIGN</td>\n",
              "      <td>Art &amp; Design</td>\n",
              "    </tr>\n",
              "    <tr>\n",
              "      <th>3</th>\n",
              "      <td>ART_AND_DESIGN</td>\n",
              "      <td>Art &amp; Design</td>\n",
              "    </tr>\n",
              "    <tr>\n",
              "      <th>4</th>\n",
              "      <td>ART_AND_DESIGN</td>\n",
              "      <td>Art &amp; Design;Creativity</td>\n",
              "    </tr>\n",
              "    <tr>\n",
              "      <th>...</th>\n",
              "      <td>...</td>\n",
              "      <td>...</td>\n",
              "    </tr>\n",
              "    <tr>\n",
              "      <th>10834</th>\n",
              "      <td>FAMILY</td>\n",
              "      <td>Education</td>\n",
              "    </tr>\n",
              "    <tr>\n",
              "      <th>10836</th>\n",
              "      <td>FAMILY</td>\n",
              "      <td>Education</td>\n",
              "    </tr>\n",
              "    <tr>\n",
              "      <th>10837</th>\n",
              "      <td>FAMILY</td>\n",
              "      <td>Education</td>\n",
              "    </tr>\n",
              "    <tr>\n",
              "      <th>10839</th>\n",
              "      <td>BOOKS_AND_REFERENCE</td>\n",
              "      <td>Books &amp; Reference</td>\n",
              "    </tr>\n",
              "    <tr>\n",
              "      <th>10840</th>\n",
              "      <td>LIFESTYLE</td>\n",
              "      <td>Lifestyle</td>\n",
              "    </tr>\n",
              "  </tbody>\n",
              "</table>\n",
              "<p>8196 rows × 2 columns</p>\n",
              "</div>\n",
              "      <button class=\"colab-df-convert\" onclick=\"convertToInteractive('df-8a5cc7fa-6f4f-4f0d-b662-3980cc19ec3b')\"\n",
              "              title=\"Convert this dataframe to an interactive table.\"\n",
              "              style=\"display:none;\">\n",
              "\n",
              "  <svg xmlns=\"http://www.w3.org/2000/svg\" height=\"24px\"viewBox=\"0 0 24 24\"\n",
              "       width=\"24px\">\n",
              "    <path d=\"M0 0h24v24H0V0z\" fill=\"none\"/>\n",
              "    <path d=\"M18.56 5.44l.94 2.06.94-2.06 2.06-.94-2.06-.94-.94-2.06-.94 2.06-2.06.94zm-11 1L8.5 8.5l.94-2.06 2.06-.94-2.06-.94L8.5 2.5l-.94 2.06-2.06.94zm10 10l.94 2.06.94-2.06 2.06-.94-2.06-.94-.94-2.06-.94 2.06-2.06.94z\"/><path d=\"M17.41 7.96l-1.37-1.37c-.4-.4-.92-.59-1.43-.59-.52 0-1.04.2-1.43.59L10.3 9.45l-7.72 7.72c-.78.78-.78 2.05 0 2.83L4 21.41c.39.39.9.59 1.41.59.51 0 1.02-.2 1.41-.59l7.78-7.78 2.81-2.81c.8-.78.8-2.07 0-2.86zM5.41 20L4 18.59l7.72-7.72 1.47 1.35L5.41 20z\"/>\n",
              "  </svg>\n",
              "      </button>\n",
              "\n",
              "\n",
              "\n",
              "    <div id=\"df-2d37aadc-e94a-44f7-8309-e3f42f3b6569\">\n",
              "      <button class=\"colab-df-quickchart\" onclick=\"quickchart('df-2d37aadc-e94a-44f7-8309-e3f42f3b6569')\"\n",
              "              title=\"Suggest charts.\"\n",
              "              style=\"display:none;\">\n",
              "\n",
              "<svg xmlns=\"http://www.w3.org/2000/svg\" height=\"24px\"viewBox=\"0 0 24 24\"\n",
              "     width=\"24px\">\n",
              "    <g>\n",
              "        <path d=\"M19 3H5c-1.1 0-2 .9-2 2v14c0 1.1.9 2 2 2h14c1.1 0 2-.9 2-2V5c0-1.1-.9-2-2-2zM9 17H7v-7h2v7zm4 0h-2V7h2v10zm4 0h-2v-4h2v4z\"/>\n",
              "    </g>\n",
              "</svg>\n",
              "      </button>\n",
              "    </div>\n",
              "\n",
              "<style>\n",
              "  .colab-df-quickchart {\n",
              "    background-color: #E8F0FE;\n",
              "    border: none;\n",
              "    border-radius: 50%;\n",
              "    cursor: pointer;\n",
              "    display: none;\n",
              "    fill: #1967D2;\n",
              "    height: 32px;\n",
              "    padding: 0 0 0 0;\n",
              "    width: 32px;\n",
              "  }\n",
              "\n",
              "  .colab-df-quickchart:hover {\n",
              "    background-color: #E2EBFA;\n",
              "    box-shadow: 0px 1px 2px rgba(60, 64, 67, 0.3), 0px 1px 3px 1px rgba(60, 64, 67, 0.15);\n",
              "    fill: #174EA6;\n",
              "  }\n",
              "\n",
              "  [theme=dark] .colab-df-quickchart {\n",
              "    background-color: #3B4455;\n",
              "    fill: #D2E3FC;\n",
              "  }\n",
              "\n",
              "  [theme=dark] .colab-df-quickchart:hover {\n",
              "    background-color: #434B5C;\n",
              "    box-shadow: 0px 1px 3px 1px rgba(0, 0, 0, 0.15);\n",
              "    filter: drop-shadow(0px 1px 2px rgba(0, 0, 0, 0.3));\n",
              "    fill: #FFFFFF;\n",
              "  }\n",
              "</style>\n",
              "\n",
              "    <script>\n",
              "      async function quickchart(key) {\n",
              "        const containerElement = document.querySelector('#' + key);\n",
              "        const charts = await google.colab.kernel.invokeFunction(\n",
              "            'suggestCharts', [key], {});\n",
              "      }\n",
              "    </script>\n",
              "\n",
              "      <script>\n",
              "\n",
              "function displayQuickchartButton(domScope) {\n",
              "  let quickchartButtonEl =\n",
              "    domScope.querySelector('#df-2d37aadc-e94a-44f7-8309-e3f42f3b6569 button.colab-df-quickchart');\n",
              "  quickchartButtonEl.style.display =\n",
              "    google.colab.kernel.accessAllowed ? 'block' : 'none';\n",
              "}\n",
              "\n",
              "        displayQuickchartButton(document);\n",
              "      </script>\n",
              "      <style>\n",
              "    .colab-df-container {\n",
              "      display:flex;\n",
              "      flex-wrap:wrap;\n",
              "      gap: 12px;\n",
              "    }\n",
              "\n",
              "    .colab-df-convert {\n",
              "      background-color: #E8F0FE;\n",
              "      border: none;\n",
              "      border-radius: 50%;\n",
              "      cursor: pointer;\n",
              "      display: none;\n",
              "      fill: #1967D2;\n",
              "      height: 32px;\n",
              "      padding: 0 0 0 0;\n",
              "      width: 32px;\n",
              "    }\n",
              "\n",
              "    .colab-df-convert:hover {\n",
              "      background-color: #E2EBFA;\n",
              "      box-shadow: 0px 1px 2px rgba(60, 64, 67, 0.3), 0px 1px 3px 1px rgba(60, 64, 67, 0.15);\n",
              "      fill: #174EA6;\n",
              "    }\n",
              "\n",
              "    [theme=dark] .colab-df-convert {\n",
              "      background-color: #3B4455;\n",
              "      fill: #D2E3FC;\n",
              "    }\n",
              "\n",
              "    [theme=dark] .colab-df-convert:hover {\n",
              "      background-color: #434B5C;\n",
              "      box-shadow: 0px 1px 3px 1px rgba(0, 0, 0, 0.15);\n",
              "      filter: drop-shadow(0px 1px 2px rgba(0, 0, 0, 0.3));\n",
              "      fill: #FFFFFF;\n",
              "    }\n",
              "  </style>\n",
              "\n",
              "      <script>\n",
              "        const buttonEl =\n",
              "          document.querySelector('#df-8a5cc7fa-6f4f-4f0d-b662-3980cc19ec3b button.colab-df-convert');\n",
              "        buttonEl.style.display =\n",
              "          google.colab.kernel.accessAllowed ? 'block' : 'none';\n",
              "\n",
              "        async function convertToInteractive(key) {\n",
              "          const element = document.querySelector('#df-8a5cc7fa-6f4f-4f0d-b662-3980cc19ec3b');\n",
              "          const dataTable =\n",
              "            await google.colab.kernel.invokeFunction('convertToInteractive',\n",
              "                                                     [key], {});\n",
              "          if (!dataTable) return;\n",
              "\n",
              "          const docLinkHtml = 'Like what you see? Visit the ' +\n",
              "            '<a target=\"_blank\" href=https://colab.research.google.com/notebooks/data_table.ipynb>data table notebook</a>'\n",
              "            + ' to learn more about interactive tables.';\n",
              "          element.innerHTML = '';\n",
              "          dataTable['output_type'] = 'display_data';\n",
              "          await google.colab.output.renderOutput(dataTable, element);\n",
              "          const docLink = document.createElement('div');\n",
              "          docLink.innerHTML = docLinkHtml;\n",
              "          element.appendChild(docLink);\n",
              "        }\n",
              "      </script>\n",
              "    </div>\n",
              "  </div>\n"
            ]
          },
          "metadata": {},
          "execution_count": 89
        }
      ]
    },
    {
      "cell_type": "markdown",
      "source": [
        "There is no differnce between Genres and Category."
      ],
      "metadata": {
        "id": "ctPEutEYiklW"
      }
    },
    {
      "cell_type": "markdown",
      "source": [
        "##User Review Data"
      ],
      "metadata": {
        "id": "5CQKU18Xw2ux"
      }
    },
    {
      "cell_type": "code",
      "source": [
        "#fist view of the User review data\n",
        "userdf.head()"
      ],
      "metadata": {
        "id": "ce4oNHzJw5vF",
        "colab": {
          "base_uri": "https://localhost:8080/",
          "height": 206
        },
        "outputId": "4988d6dc-49b3-4bca-eb7b-4fcf4f014d35"
      },
      "execution_count": 90,
      "outputs": [
        {
          "output_type": "execute_result",
          "data": {
            "text/plain": [
              "                     App                                  Translated_Review  \\\n",
              "0  10 Best Foods for You  I like eat delicious food. That's I'm cooking ...   \n",
              "1  10 Best Foods for You    This help eating healthy exercise regular basis   \n",
              "2  10 Best Foods for You                                                NaN   \n",
              "3  10 Best Foods for You         Works great especially going grocery store   \n",
              "4  10 Best Foods for You                                       Best idea us   \n",
              "\n",
              "  Sentiment  Sentiment_Polarity  Sentiment_Subjectivity  \n",
              "0  Positive                1.00                0.533333  \n",
              "1  Positive                0.25                0.288462  \n",
              "2       NaN                 NaN                     NaN  \n",
              "3  Positive                0.40                0.875000  \n",
              "4  Positive                1.00                0.300000  "
            ],
            "text/html": [
              "\n",
              "\n",
              "  <div id=\"df-342ae8de-b129-4b70-9bc8-287630adaca6\">\n",
              "    <div class=\"colab-df-container\">\n",
              "      <div>\n",
              "<style scoped>\n",
              "    .dataframe tbody tr th:only-of-type {\n",
              "        vertical-align: middle;\n",
              "    }\n",
              "\n",
              "    .dataframe tbody tr th {\n",
              "        vertical-align: top;\n",
              "    }\n",
              "\n",
              "    .dataframe thead th {\n",
              "        text-align: right;\n",
              "    }\n",
              "</style>\n",
              "<table border=\"1\" class=\"dataframe\">\n",
              "  <thead>\n",
              "    <tr style=\"text-align: right;\">\n",
              "      <th></th>\n",
              "      <th>App</th>\n",
              "      <th>Translated_Review</th>\n",
              "      <th>Sentiment</th>\n",
              "      <th>Sentiment_Polarity</th>\n",
              "      <th>Sentiment_Subjectivity</th>\n",
              "    </tr>\n",
              "  </thead>\n",
              "  <tbody>\n",
              "    <tr>\n",
              "      <th>0</th>\n",
              "      <td>10 Best Foods for You</td>\n",
              "      <td>I like eat delicious food. That's I'm cooking ...</td>\n",
              "      <td>Positive</td>\n",
              "      <td>1.00</td>\n",
              "      <td>0.533333</td>\n",
              "    </tr>\n",
              "    <tr>\n",
              "      <th>1</th>\n",
              "      <td>10 Best Foods for You</td>\n",
              "      <td>This help eating healthy exercise regular basis</td>\n",
              "      <td>Positive</td>\n",
              "      <td>0.25</td>\n",
              "      <td>0.288462</td>\n",
              "    </tr>\n",
              "    <tr>\n",
              "      <th>2</th>\n",
              "      <td>10 Best Foods for You</td>\n",
              "      <td>NaN</td>\n",
              "      <td>NaN</td>\n",
              "      <td>NaN</td>\n",
              "      <td>NaN</td>\n",
              "    </tr>\n",
              "    <tr>\n",
              "      <th>3</th>\n",
              "      <td>10 Best Foods for You</td>\n",
              "      <td>Works great especially going grocery store</td>\n",
              "      <td>Positive</td>\n",
              "      <td>0.40</td>\n",
              "      <td>0.875000</td>\n",
              "    </tr>\n",
              "    <tr>\n",
              "      <th>4</th>\n",
              "      <td>10 Best Foods for You</td>\n",
              "      <td>Best idea us</td>\n",
              "      <td>Positive</td>\n",
              "      <td>1.00</td>\n",
              "      <td>0.300000</td>\n",
              "    </tr>\n",
              "  </tbody>\n",
              "</table>\n",
              "</div>\n",
              "      <button class=\"colab-df-convert\" onclick=\"convertToInteractive('df-342ae8de-b129-4b70-9bc8-287630adaca6')\"\n",
              "              title=\"Convert this dataframe to an interactive table.\"\n",
              "              style=\"display:none;\">\n",
              "\n",
              "  <svg xmlns=\"http://www.w3.org/2000/svg\" height=\"24px\"viewBox=\"0 0 24 24\"\n",
              "       width=\"24px\">\n",
              "    <path d=\"M0 0h24v24H0V0z\" fill=\"none\"/>\n",
              "    <path d=\"M18.56 5.44l.94 2.06.94-2.06 2.06-.94-2.06-.94-.94-2.06-.94 2.06-2.06.94zm-11 1L8.5 8.5l.94-2.06 2.06-.94-2.06-.94L8.5 2.5l-.94 2.06-2.06.94zm10 10l.94 2.06.94-2.06 2.06-.94-2.06-.94-.94-2.06-.94 2.06-2.06.94z\"/><path d=\"M17.41 7.96l-1.37-1.37c-.4-.4-.92-.59-1.43-.59-.52 0-1.04.2-1.43.59L10.3 9.45l-7.72 7.72c-.78.78-.78 2.05 0 2.83L4 21.41c.39.39.9.59 1.41.59.51 0 1.02-.2 1.41-.59l7.78-7.78 2.81-2.81c.8-.78.8-2.07 0-2.86zM5.41 20L4 18.59l7.72-7.72 1.47 1.35L5.41 20z\"/>\n",
              "  </svg>\n",
              "      </button>\n",
              "\n",
              "\n",
              "\n",
              "    <div id=\"df-52a554d3-ba9e-41cc-ae0e-c342674d2060\">\n",
              "      <button class=\"colab-df-quickchart\" onclick=\"quickchart('df-52a554d3-ba9e-41cc-ae0e-c342674d2060')\"\n",
              "              title=\"Suggest charts.\"\n",
              "              style=\"display:none;\">\n",
              "\n",
              "<svg xmlns=\"http://www.w3.org/2000/svg\" height=\"24px\"viewBox=\"0 0 24 24\"\n",
              "     width=\"24px\">\n",
              "    <g>\n",
              "        <path d=\"M19 3H5c-1.1 0-2 .9-2 2v14c0 1.1.9 2 2 2h14c1.1 0 2-.9 2-2V5c0-1.1-.9-2-2-2zM9 17H7v-7h2v7zm4 0h-2V7h2v10zm4 0h-2v-4h2v4z\"/>\n",
              "    </g>\n",
              "</svg>\n",
              "      </button>\n",
              "    </div>\n",
              "\n",
              "<style>\n",
              "  .colab-df-quickchart {\n",
              "    background-color: #E8F0FE;\n",
              "    border: none;\n",
              "    border-radius: 50%;\n",
              "    cursor: pointer;\n",
              "    display: none;\n",
              "    fill: #1967D2;\n",
              "    height: 32px;\n",
              "    padding: 0 0 0 0;\n",
              "    width: 32px;\n",
              "  }\n",
              "\n",
              "  .colab-df-quickchart:hover {\n",
              "    background-color: #E2EBFA;\n",
              "    box-shadow: 0px 1px 2px rgba(60, 64, 67, 0.3), 0px 1px 3px 1px rgba(60, 64, 67, 0.15);\n",
              "    fill: #174EA6;\n",
              "  }\n",
              "\n",
              "  [theme=dark] .colab-df-quickchart {\n",
              "    background-color: #3B4455;\n",
              "    fill: #D2E3FC;\n",
              "  }\n",
              "\n",
              "  [theme=dark] .colab-df-quickchart:hover {\n",
              "    background-color: #434B5C;\n",
              "    box-shadow: 0px 1px 3px 1px rgba(0, 0, 0, 0.15);\n",
              "    filter: drop-shadow(0px 1px 2px rgba(0, 0, 0, 0.3));\n",
              "    fill: #FFFFFF;\n",
              "  }\n",
              "</style>\n",
              "\n",
              "    <script>\n",
              "      async function quickchart(key) {\n",
              "        const containerElement = document.querySelector('#' + key);\n",
              "        const charts = await google.colab.kernel.invokeFunction(\n",
              "            'suggestCharts', [key], {});\n",
              "      }\n",
              "    </script>\n",
              "\n",
              "      <script>\n",
              "\n",
              "function displayQuickchartButton(domScope) {\n",
              "  let quickchartButtonEl =\n",
              "    domScope.querySelector('#df-52a554d3-ba9e-41cc-ae0e-c342674d2060 button.colab-df-quickchart');\n",
              "  quickchartButtonEl.style.display =\n",
              "    google.colab.kernel.accessAllowed ? 'block' : 'none';\n",
              "}\n",
              "\n",
              "        displayQuickchartButton(document);\n",
              "      </script>\n",
              "      <style>\n",
              "    .colab-df-container {\n",
              "      display:flex;\n",
              "      flex-wrap:wrap;\n",
              "      gap: 12px;\n",
              "    }\n",
              "\n",
              "    .colab-df-convert {\n",
              "      background-color: #E8F0FE;\n",
              "      border: none;\n",
              "      border-radius: 50%;\n",
              "      cursor: pointer;\n",
              "      display: none;\n",
              "      fill: #1967D2;\n",
              "      height: 32px;\n",
              "      padding: 0 0 0 0;\n",
              "      width: 32px;\n",
              "    }\n",
              "\n",
              "    .colab-df-convert:hover {\n",
              "      background-color: #E2EBFA;\n",
              "      box-shadow: 0px 1px 2px rgba(60, 64, 67, 0.3), 0px 1px 3px 1px rgba(60, 64, 67, 0.15);\n",
              "      fill: #174EA6;\n",
              "    }\n",
              "\n",
              "    [theme=dark] .colab-df-convert {\n",
              "      background-color: #3B4455;\n",
              "      fill: #D2E3FC;\n",
              "    }\n",
              "\n",
              "    [theme=dark] .colab-df-convert:hover {\n",
              "      background-color: #434B5C;\n",
              "      box-shadow: 0px 1px 3px 1px rgba(0, 0, 0, 0.15);\n",
              "      filter: drop-shadow(0px 1px 2px rgba(0, 0, 0, 0.3));\n",
              "      fill: #FFFFFF;\n",
              "    }\n",
              "  </style>\n",
              "\n",
              "      <script>\n",
              "        const buttonEl =\n",
              "          document.querySelector('#df-342ae8de-b129-4b70-9bc8-287630adaca6 button.colab-df-convert');\n",
              "        buttonEl.style.display =\n",
              "          google.colab.kernel.accessAllowed ? 'block' : 'none';\n",
              "\n",
              "        async function convertToInteractive(key) {\n",
              "          const element = document.querySelector('#df-342ae8de-b129-4b70-9bc8-287630adaca6');\n",
              "          const dataTable =\n",
              "            await google.colab.kernel.invokeFunction('convertToInteractive',\n",
              "                                                     [key], {});\n",
              "          if (!dataTable) return;\n",
              "\n",
              "          const docLinkHtml = 'Like what you see? Visit the ' +\n",
              "            '<a target=\"_blank\" href=https://colab.research.google.com/notebooks/data_table.ipynb>data table notebook</a>'\n",
              "            + ' to learn more about interactive tables.';\n",
              "          element.innerHTML = '';\n",
              "          dataTable['output_type'] = 'display_data';\n",
              "          await google.colab.output.renderOutput(dataTable, element);\n",
              "          const docLink = document.createElement('div');\n",
              "          docLink.innerHTML = docLinkHtml;\n",
              "          element.appendChild(docLink);\n",
              "        }\n",
              "      </script>\n",
              "    </div>\n",
              "  </div>\n"
            ]
          },
          "metadata": {},
          "execution_count": 90
        }
      ]
    },
    {
      "cell_type": "code",
      "source": [
        "#total Row and columns in the dataset\n",
        "userdf.shape"
      ],
      "metadata": {
        "id": "gjkOmQNAw9HY",
        "colab": {
          "base_uri": "https://localhost:8080/"
        },
        "outputId": "14ffd8e6-fa71-4535-c967-aaf3d389feba"
      },
      "execution_count": 91,
      "outputs": [
        {
          "output_type": "execute_result",
          "data": {
            "text/plain": [
              "(64295, 5)"
            ]
          },
          "metadata": {},
          "execution_count": 91
        }
      ]
    },
    {
      "cell_type": "code",
      "source": [
        "#check is there is any null values in the dataset\n",
        "userdf.isna().sum()"
      ],
      "metadata": {
        "id": "mq3EoIMXw_rl",
        "colab": {
          "base_uri": "https://localhost:8080/"
        },
        "outputId": "7386b245-0e45-45d9-df46-4499d74d53ca"
      },
      "execution_count": 92,
      "outputs": [
        {
          "output_type": "execute_result",
          "data": {
            "text/plain": [
              "App                           0\n",
              "Translated_Review         26868\n",
              "Sentiment                 26863\n",
              "Sentiment_Polarity        26863\n",
              "Sentiment_Subjectivity    26863\n",
              "dtype: int64"
            ]
          },
          "metadata": {},
          "execution_count": 92
        }
      ]
    },
    {
      "cell_type": "code",
      "source": [
        "#drop the given columns to appropriate analysis\n",
        "userdf.dropna(subset=['Translated_Review', 'Sentiment', 'Sentiment_Polarity', 'Sentiment_Subjectivity'], axis=0, inplace=True)"
      ],
      "metadata": {
        "id": "o3z3Spbw2VwS"
      },
      "execution_count": 93,
      "outputs": []
    },
    {
      "cell_type": "code",
      "source": [
        "userdf.isnull().any() #again we check if there is any null value or not ?"
      ],
      "metadata": {
        "id": "zmz5f5PE28xW",
        "colab": {
          "base_uri": "https://localhost:8080/"
        },
        "outputId": "b9214fb2-c7c0-420b-dfb3-9abbcea9f5df"
      },
      "execution_count": 94,
      "outputs": [
        {
          "output_type": "execute_result",
          "data": {
            "text/plain": [
              "App                       False\n",
              "Translated_Review         False\n",
              "Sentiment                 False\n",
              "Sentiment_Polarity        False\n",
              "Sentiment_Subjectivity    False\n",
              "dtype: bool"
            ]
          },
          "metadata": {},
          "execution_count": 94
        }
      ]
    },
    {
      "cell_type": "code",
      "source": [
        "userdf.App.value_counts()"
      ],
      "metadata": {
        "id": "scr_YecO6iiQ",
        "colab": {
          "base_uri": "https://localhost:8080/"
        },
        "outputId": "28aa912d-01f6-4466-af1d-9d12856e4201"
      },
      "execution_count": 95,
      "outputs": [
        {
          "output_type": "execute_result",
          "data": {
            "text/plain": [
              "Bowmasters                        312\n",
              "Helix Jump                        273\n",
              "Angry Birds Classic               273\n",
              "Calorie Counter - MyFitnessPal    254\n",
              "Duolingo: Learn Languages Free    240\n",
              "                                 ... \n",
              "Draw a Stickman: EPIC 2             1\n",
              "HD Camera                           1\n",
              "Draw In                             1\n",
              "Draw A Stickman                     1\n",
              "Best Fiends - Free Puzzle Game      1\n",
              "Name: App, Length: 865, dtype: int64"
            ]
          },
          "metadata": {},
          "execution_count": 95
        }
      ]
    },
    {
      "cell_type": "markdown",
      "source": [
        "Number of the Positivie and Negative sentiment in the APP ?"
      ],
      "metadata": {
        "id": "ru1Ry3mR4Dde"
      }
    },
    {
      "cell_type": "code",
      "source": [
        "userdf[(userdf['App']==\"10 Best Foods for You\") & (userdf['Sentiment']=='Positive')].reset_index()"
      ],
      "metadata": {
        "id": "Ii9UZFhu1wIm",
        "colab": {
          "base_uri": "https://localhost:8080/",
          "height": 424
        },
        "outputId": "75569676-5ade-4ffd-c193-c4bc47a5d021"
      },
      "execution_count": 96,
      "outputs": [
        {
          "output_type": "execute_result",
          "data": {
            "text/plain": [
              "     index                    App  \\\n",
              "0        0  10 Best Foods for You   \n",
              "1        1  10 Best Foods for You   \n",
              "2        3  10 Best Foods for You   \n",
              "3        4  10 Best Foods for You   \n",
              "4        5  10 Best Foods for You   \n",
              "..     ...                    ...   \n",
              "157    194  10 Best Foods for You   \n",
              "158    196  10 Best Foods for You   \n",
              "159    197  10 Best Foods for You   \n",
              "160    198  10 Best Foods for You   \n",
              "161    199  10 Best Foods for You   \n",
              "\n",
              "                                     Translated_Review Sentiment  \\\n",
              "0    I like eat delicious food. That's I'm cooking ...  Positive   \n",
              "1      This help eating healthy exercise regular basis  Positive   \n",
              "2           Works great especially going grocery store  Positive   \n",
              "3                                         Best idea us  Positive   \n",
              "4                                             Best way  Positive   \n",
              "..                                                 ...       ...   \n",
              "157  Awesome resources I begin new journey. I can't...  Positive   \n",
              "158  Love app. It gives way good idea I buying stor...  Positive   \n",
              "159  Great Its really best unique provides detailed...  Positive   \n",
              "160       Nothing special! Could find anything useful!  Positive   \n",
              "161                                  Its ok I love ok.  Positive   \n",
              "\n",
              "     Sentiment_Polarity  Sentiment_Subjectivity  \n",
              "0              1.000000                0.533333  \n",
              "1              0.250000                0.288462  \n",
              "2              0.400000                0.875000  \n",
              "3              1.000000                0.300000  \n",
              "4              1.000000                0.300000  \n",
              "..                  ...                     ...  \n",
              "157            0.712121                0.734848  \n",
              "158            0.400000                0.400000  \n",
              "159            0.579167                0.683333  \n",
              "160            0.410714                0.285714  \n",
              "161            0.500000                0.533333  \n",
              "\n",
              "[162 rows x 6 columns]"
            ],
            "text/html": [
              "\n",
              "\n",
              "  <div id=\"df-bbf409ad-577d-4080-9d74-b9113a43d779\">\n",
              "    <div class=\"colab-df-container\">\n",
              "      <div>\n",
              "<style scoped>\n",
              "    .dataframe tbody tr th:only-of-type {\n",
              "        vertical-align: middle;\n",
              "    }\n",
              "\n",
              "    .dataframe tbody tr th {\n",
              "        vertical-align: top;\n",
              "    }\n",
              "\n",
              "    .dataframe thead th {\n",
              "        text-align: right;\n",
              "    }\n",
              "</style>\n",
              "<table border=\"1\" class=\"dataframe\">\n",
              "  <thead>\n",
              "    <tr style=\"text-align: right;\">\n",
              "      <th></th>\n",
              "      <th>index</th>\n",
              "      <th>App</th>\n",
              "      <th>Translated_Review</th>\n",
              "      <th>Sentiment</th>\n",
              "      <th>Sentiment_Polarity</th>\n",
              "      <th>Sentiment_Subjectivity</th>\n",
              "    </tr>\n",
              "  </thead>\n",
              "  <tbody>\n",
              "    <tr>\n",
              "      <th>0</th>\n",
              "      <td>0</td>\n",
              "      <td>10 Best Foods for You</td>\n",
              "      <td>I like eat delicious food. That's I'm cooking ...</td>\n",
              "      <td>Positive</td>\n",
              "      <td>1.000000</td>\n",
              "      <td>0.533333</td>\n",
              "    </tr>\n",
              "    <tr>\n",
              "      <th>1</th>\n",
              "      <td>1</td>\n",
              "      <td>10 Best Foods for You</td>\n",
              "      <td>This help eating healthy exercise regular basis</td>\n",
              "      <td>Positive</td>\n",
              "      <td>0.250000</td>\n",
              "      <td>0.288462</td>\n",
              "    </tr>\n",
              "    <tr>\n",
              "      <th>2</th>\n",
              "      <td>3</td>\n",
              "      <td>10 Best Foods for You</td>\n",
              "      <td>Works great especially going grocery store</td>\n",
              "      <td>Positive</td>\n",
              "      <td>0.400000</td>\n",
              "      <td>0.875000</td>\n",
              "    </tr>\n",
              "    <tr>\n",
              "      <th>3</th>\n",
              "      <td>4</td>\n",
              "      <td>10 Best Foods for You</td>\n",
              "      <td>Best idea us</td>\n",
              "      <td>Positive</td>\n",
              "      <td>1.000000</td>\n",
              "      <td>0.300000</td>\n",
              "    </tr>\n",
              "    <tr>\n",
              "      <th>4</th>\n",
              "      <td>5</td>\n",
              "      <td>10 Best Foods for You</td>\n",
              "      <td>Best way</td>\n",
              "      <td>Positive</td>\n",
              "      <td>1.000000</td>\n",
              "      <td>0.300000</td>\n",
              "    </tr>\n",
              "    <tr>\n",
              "      <th>...</th>\n",
              "      <td>...</td>\n",
              "      <td>...</td>\n",
              "      <td>...</td>\n",
              "      <td>...</td>\n",
              "      <td>...</td>\n",
              "      <td>...</td>\n",
              "    </tr>\n",
              "    <tr>\n",
              "      <th>157</th>\n",
              "      <td>194</td>\n",
              "      <td>10 Best Foods for You</td>\n",
              "      <td>Awesome resources I begin new journey. I can't...</td>\n",
              "      <td>Positive</td>\n",
              "      <td>0.712121</td>\n",
              "      <td>0.734848</td>\n",
              "    </tr>\n",
              "    <tr>\n",
              "      <th>158</th>\n",
              "      <td>196</td>\n",
              "      <td>10 Best Foods for You</td>\n",
              "      <td>Love app. It gives way good idea I buying stor...</td>\n",
              "      <td>Positive</td>\n",
              "      <td>0.400000</td>\n",
              "      <td>0.400000</td>\n",
              "    </tr>\n",
              "    <tr>\n",
              "      <th>159</th>\n",
              "      <td>197</td>\n",
              "      <td>10 Best Foods for You</td>\n",
              "      <td>Great Its really best unique provides detailed...</td>\n",
              "      <td>Positive</td>\n",
              "      <td>0.579167</td>\n",
              "      <td>0.683333</td>\n",
              "    </tr>\n",
              "    <tr>\n",
              "      <th>160</th>\n",
              "      <td>198</td>\n",
              "      <td>10 Best Foods for You</td>\n",
              "      <td>Nothing special! Could find anything useful!</td>\n",
              "      <td>Positive</td>\n",
              "      <td>0.410714</td>\n",
              "      <td>0.285714</td>\n",
              "    </tr>\n",
              "    <tr>\n",
              "      <th>161</th>\n",
              "      <td>199</td>\n",
              "      <td>10 Best Foods for You</td>\n",
              "      <td>Its ok I love ok.</td>\n",
              "      <td>Positive</td>\n",
              "      <td>0.500000</td>\n",
              "      <td>0.533333</td>\n",
              "    </tr>\n",
              "  </tbody>\n",
              "</table>\n",
              "<p>162 rows × 6 columns</p>\n",
              "</div>\n",
              "      <button class=\"colab-df-convert\" onclick=\"convertToInteractive('df-bbf409ad-577d-4080-9d74-b9113a43d779')\"\n",
              "              title=\"Convert this dataframe to an interactive table.\"\n",
              "              style=\"display:none;\">\n",
              "\n",
              "  <svg xmlns=\"http://www.w3.org/2000/svg\" height=\"24px\"viewBox=\"0 0 24 24\"\n",
              "       width=\"24px\">\n",
              "    <path d=\"M0 0h24v24H0V0z\" fill=\"none\"/>\n",
              "    <path d=\"M18.56 5.44l.94 2.06.94-2.06 2.06-.94-2.06-.94-.94-2.06-.94 2.06-2.06.94zm-11 1L8.5 8.5l.94-2.06 2.06-.94-2.06-.94L8.5 2.5l-.94 2.06-2.06.94zm10 10l.94 2.06.94-2.06 2.06-.94-2.06-.94-.94-2.06-.94 2.06-2.06.94z\"/><path d=\"M17.41 7.96l-1.37-1.37c-.4-.4-.92-.59-1.43-.59-.52 0-1.04.2-1.43.59L10.3 9.45l-7.72 7.72c-.78.78-.78 2.05 0 2.83L4 21.41c.39.39.9.59 1.41.59.51 0 1.02-.2 1.41-.59l7.78-7.78 2.81-2.81c.8-.78.8-2.07 0-2.86zM5.41 20L4 18.59l7.72-7.72 1.47 1.35L5.41 20z\"/>\n",
              "  </svg>\n",
              "      </button>\n",
              "\n",
              "\n",
              "\n",
              "    <div id=\"df-d16289d5-85c9-4c2b-9cf2-639ffc77632f\">\n",
              "      <button class=\"colab-df-quickchart\" onclick=\"quickchart('df-d16289d5-85c9-4c2b-9cf2-639ffc77632f')\"\n",
              "              title=\"Suggest charts.\"\n",
              "              style=\"display:none;\">\n",
              "\n",
              "<svg xmlns=\"http://www.w3.org/2000/svg\" height=\"24px\"viewBox=\"0 0 24 24\"\n",
              "     width=\"24px\">\n",
              "    <g>\n",
              "        <path d=\"M19 3H5c-1.1 0-2 .9-2 2v14c0 1.1.9 2 2 2h14c1.1 0 2-.9 2-2V5c0-1.1-.9-2-2-2zM9 17H7v-7h2v7zm4 0h-2V7h2v10zm4 0h-2v-4h2v4z\"/>\n",
              "    </g>\n",
              "</svg>\n",
              "      </button>\n",
              "    </div>\n",
              "\n",
              "<style>\n",
              "  .colab-df-quickchart {\n",
              "    background-color: #E8F0FE;\n",
              "    border: none;\n",
              "    border-radius: 50%;\n",
              "    cursor: pointer;\n",
              "    display: none;\n",
              "    fill: #1967D2;\n",
              "    height: 32px;\n",
              "    padding: 0 0 0 0;\n",
              "    width: 32px;\n",
              "  }\n",
              "\n",
              "  .colab-df-quickchart:hover {\n",
              "    background-color: #E2EBFA;\n",
              "    box-shadow: 0px 1px 2px rgba(60, 64, 67, 0.3), 0px 1px 3px 1px rgba(60, 64, 67, 0.15);\n",
              "    fill: #174EA6;\n",
              "  }\n",
              "\n",
              "  [theme=dark] .colab-df-quickchart {\n",
              "    background-color: #3B4455;\n",
              "    fill: #D2E3FC;\n",
              "  }\n",
              "\n",
              "  [theme=dark] .colab-df-quickchart:hover {\n",
              "    background-color: #434B5C;\n",
              "    box-shadow: 0px 1px 3px 1px rgba(0, 0, 0, 0.15);\n",
              "    filter: drop-shadow(0px 1px 2px rgba(0, 0, 0, 0.3));\n",
              "    fill: #FFFFFF;\n",
              "  }\n",
              "</style>\n",
              "\n",
              "    <script>\n",
              "      async function quickchart(key) {\n",
              "        const containerElement = document.querySelector('#' + key);\n",
              "        const charts = await google.colab.kernel.invokeFunction(\n",
              "            'suggestCharts', [key], {});\n",
              "      }\n",
              "    </script>\n",
              "\n",
              "      <script>\n",
              "\n",
              "function displayQuickchartButton(domScope) {\n",
              "  let quickchartButtonEl =\n",
              "    domScope.querySelector('#df-d16289d5-85c9-4c2b-9cf2-639ffc77632f button.colab-df-quickchart');\n",
              "  quickchartButtonEl.style.display =\n",
              "    google.colab.kernel.accessAllowed ? 'block' : 'none';\n",
              "}\n",
              "\n",
              "        displayQuickchartButton(document);\n",
              "      </script>\n",
              "      <style>\n",
              "    .colab-df-container {\n",
              "      display:flex;\n",
              "      flex-wrap:wrap;\n",
              "      gap: 12px;\n",
              "    }\n",
              "\n",
              "    .colab-df-convert {\n",
              "      background-color: #E8F0FE;\n",
              "      border: none;\n",
              "      border-radius: 50%;\n",
              "      cursor: pointer;\n",
              "      display: none;\n",
              "      fill: #1967D2;\n",
              "      height: 32px;\n",
              "      padding: 0 0 0 0;\n",
              "      width: 32px;\n",
              "    }\n",
              "\n",
              "    .colab-df-convert:hover {\n",
              "      background-color: #E2EBFA;\n",
              "      box-shadow: 0px 1px 2px rgba(60, 64, 67, 0.3), 0px 1px 3px 1px rgba(60, 64, 67, 0.15);\n",
              "      fill: #174EA6;\n",
              "    }\n",
              "\n",
              "    [theme=dark] .colab-df-convert {\n",
              "      background-color: #3B4455;\n",
              "      fill: #D2E3FC;\n",
              "    }\n",
              "\n",
              "    [theme=dark] .colab-df-convert:hover {\n",
              "      background-color: #434B5C;\n",
              "      box-shadow: 0px 1px 3px 1px rgba(0, 0, 0, 0.15);\n",
              "      filter: drop-shadow(0px 1px 2px rgba(0, 0, 0, 0.3));\n",
              "      fill: #FFFFFF;\n",
              "    }\n",
              "  </style>\n",
              "\n",
              "      <script>\n",
              "        const buttonEl =\n",
              "          document.querySelector('#df-bbf409ad-577d-4080-9d74-b9113a43d779 button.colab-df-convert');\n",
              "        buttonEl.style.display =\n",
              "          google.colab.kernel.accessAllowed ? 'block' : 'none';\n",
              "\n",
              "        async function convertToInteractive(key) {\n",
              "          const element = document.querySelector('#df-bbf409ad-577d-4080-9d74-b9113a43d779');\n",
              "          const dataTable =\n",
              "            await google.colab.kernel.invokeFunction('convertToInteractive',\n",
              "                                                     [key], {});\n",
              "          if (!dataTable) return;\n",
              "\n",
              "          const docLinkHtml = 'Like what you see? Visit the ' +\n",
              "            '<a target=\"_blank\" href=https://colab.research.google.com/notebooks/data_table.ipynb>data table notebook</a>'\n",
              "            + ' to learn more about interactive tables.';\n",
              "          element.innerHTML = '';\n",
              "          dataTable['output_type'] = 'display_data';\n",
              "          await google.colab.output.renderOutput(dataTable, element);\n",
              "          const docLink = document.createElement('div');\n",
              "          docLink.innerHTML = docLinkHtml;\n",
              "          element.appendChild(docLink);\n",
              "        }\n",
              "      </script>\n",
              "    </div>\n",
              "  </div>\n"
            ]
          },
          "metadata": {},
          "execution_count": 96
        }
      ]
    },
    {
      "cell_type": "code",
      "source": [
        "userdf[(userdf['App']==\"10 Best Foods for You\") & (userdf['Sentiment']=='Negative')].reset_index()"
      ],
      "metadata": {
        "id": "V3IWdDKf4flg",
        "colab": {
          "base_uri": "https://localhost:8080/",
          "height": 363
        },
        "outputId": "f136b78f-0f44-482b-c57b-731bd699db67"
      },
      "execution_count": 97,
      "outputs": [
        {
          "output_type": "execute_result",
          "data": {
            "text/plain": [
              "   index                    App  \\\n",
              "0     32  10 Best Foods for You   \n",
              "1     43  10 Best Foods for You   \n",
              "2     68  10 Best Foods for You   \n",
              "3     85  10 Best Foods for You   \n",
              "4     95  10 Best Foods for You   \n",
              "5    132  10 Best Foods for You   \n",
              "6    143  10 Best Foods for You   \n",
              "7    168  10 Best Foods for You   \n",
              "8    185  10 Best Foods for You   \n",
              "9    195  10 Best Foods for You   \n",
              "\n",
              "                                   Translated_Review Sentiment  \\\n",
              "0                 No recipe book Unable recipe book.  Negative   \n",
              "1  Waste time It needs internet time n ask calls ...  Negative   \n",
              "2                            Faltu plz waste ur time  Negative   \n",
              "3                                  Crap Doesn't work  Negative   \n",
              "4  Boring. I thought actually just texts that's i...  Negative   \n",
              "5                 No recipe book Unable recipe book.  Negative   \n",
              "6  Waste time It needs internet time n ask calls ...  Negative   \n",
              "7                            Faltu plz waste ur time  Negative   \n",
              "8                                  Crap Doesn't work  Negative   \n",
              "9  Boring. I thought actually just texts that's i...  Negative   \n",
              "\n",
              "   Sentiment_Polarity  Sentiment_Subjectivity  \n",
              "0              -0.500                   0.500  \n",
              "1              -0.200                   0.000  \n",
              "2              -0.200                   0.000  \n",
              "3              -0.800                   0.800  \n",
              "4              -0.325                   0.475  \n",
              "5              -0.500                   0.500  \n",
              "6              -0.200                   0.000  \n",
              "7              -0.200                   0.000  \n",
              "8              -0.800                   0.800  \n",
              "9              -0.325                   0.475  "
            ],
            "text/html": [
              "\n",
              "\n",
              "  <div id=\"df-d98a3076-89b6-4980-b856-cf6dca61e7ce\">\n",
              "    <div class=\"colab-df-container\">\n",
              "      <div>\n",
              "<style scoped>\n",
              "    .dataframe tbody tr th:only-of-type {\n",
              "        vertical-align: middle;\n",
              "    }\n",
              "\n",
              "    .dataframe tbody tr th {\n",
              "        vertical-align: top;\n",
              "    }\n",
              "\n",
              "    .dataframe thead th {\n",
              "        text-align: right;\n",
              "    }\n",
              "</style>\n",
              "<table border=\"1\" class=\"dataframe\">\n",
              "  <thead>\n",
              "    <tr style=\"text-align: right;\">\n",
              "      <th></th>\n",
              "      <th>index</th>\n",
              "      <th>App</th>\n",
              "      <th>Translated_Review</th>\n",
              "      <th>Sentiment</th>\n",
              "      <th>Sentiment_Polarity</th>\n",
              "      <th>Sentiment_Subjectivity</th>\n",
              "    </tr>\n",
              "  </thead>\n",
              "  <tbody>\n",
              "    <tr>\n",
              "      <th>0</th>\n",
              "      <td>32</td>\n",
              "      <td>10 Best Foods for You</td>\n",
              "      <td>No recipe book Unable recipe book.</td>\n",
              "      <td>Negative</td>\n",
              "      <td>-0.500</td>\n",
              "      <td>0.500</td>\n",
              "    </tr>\n",
              "    <tr>\n",
              "      <th>1</th>\n",
              "      <td>43</td>\n",
              "      <td>10 Best Foods for You</td>\n",
              "      <td>Waste time It needs internet time n ask calls ...</td>\n",
              "      <td>Negative</td>\n",
              "      <td>-0.200</td>\n",
              "      <td>0.000</td>\n",
              "    </tr>\n",
              "    <tr>\n",
              "      <th>2</th>\n",
              "      <td>68</td>\n",
              "      <td>10 Best Foods for You</td>\n",
              "      <td>Faltu plz waste ur time</td>\n",
              "      <td>Negative</td>\n",
              "      <td>-0.200</td>\n",
              "      <td>0.000</td>\n",
              "    </tr>\n",
              "    <tr>\n",
              "      <th>3</th>\n",
              "      <td>85</td>\n",
              "      <td>10 Best Foods for You</td>\n",
              "      <td>Crap Doesn't work</td>\n",
              "      <td>Negative</td>\n",
              "      <td>-0.800</td>\n",
              "      <td>0.800</td>\n",
              "    </tr>\n",
              "    <tr>\n",
              "      <th>4</th>\n",
              "      <td>95</td>\n",
              "      <td>10 Best Foods for You</td>\n",
              "      <td>Boring. I thought actually just texts that's i...</td>\n",
              "      <td>Negative</td>\n",
              "      <td>-0.325</td>\n",
              "      <td>0.475</td>\n",
              "    </tr>\n",
              "    <tr>\n",
              "      <th>5</th>\n",
              "      <td>132</td>\n",
              "      <td>10 Best Foods for You</td>\n",
              "      <td>No recipe book Unable recipe book.</td>\n",
              "      <td>Negative</td>\n",
              "      <td>-0.500</td>\n",
              "      <td>0.500</td>\n",
              "    </tr>\n",
              "    <tr>\n",
              "      <th>6</th>\n",
              "      <td>143</td>\n",
              "      <td>10 Best Foods for You</td>\n",
              "      <td>Waste time It needs internet time n ask calls ...</td>\n",
              "      <td>Negative</td>\n",
              "      <td>-0.200</td>\n",
              "      <td>0.000</td>\n",
              "    </tr>\n",
              "    <tr>\n",
              "      <th>7</th>\n",
              "      <td>168</td>\n",
              "      <td>10 Best Foods for You</td>\n",
              "      <td>Faltu plz waste ur time</td>\n",
              "      <td>Negative</td>\n",
              "      <td>-0.200</td>\n",
              "      <td>0.000</td>\n",
              "    </tr>\n",
              "    <tr>\n",
              "      <th>8</th>\n",
              "      <td>185</td>\n",
              "      <td>10 Best Foods for You</td>\n",
              "      <td>Crap Doesn't work</td>\n",
              "      <td>Negative</td>\n",
              "      <td>-0.800</td>\n",
              "      <td>0.800</td>\n",
              "    </tr>\n",
              "    <tr>\n",
              "      <th>9</th>\n",
              "      <td>195</td>\n",
              "      <td>10 Best Foods for You</td>\n",
              "      <td>Boring. I thought actually just texts that's i...</td>\n",
              "      <td>Negative</td>\n",
              "      <td>-0.325</td>\n",
              "      <td>0.475</td>\n",
              "    </tr>\n",
              "  </tbody>\n",
              "</table>\n",
              "</div>\n",
              "      <button class=\"colab-df-convert\" onclick=\"convertToInteractive('df-d98a3076-89b6-4980-b856-cf6dca61e7ce')\"\n",
              "              title=\"Convert this dataframe to an interactive table.\"\n",
              "              style=\"display:none;\">\n",
              "\n",
              "  <svg xmlns=\"http://www.w3.org/2000/svg\" height=\"24px\"viewBox=\"0 0 24 24\"\n",
              "       width=\"24px\">\n",
              "    <path d=\"M0 0h24v24H0V0z\" fill=\"none\"/>\n",
              "    <path d=\"M18.56 5.44l.94 2.06.94-2.06 2.06-.94-2.06-.94-.94-2.06-.94 2.06-2.06.94zm-11 1L8.5 8.5l.94-2.06 2.06-.94-2.06-.94L8.5 2.5l-.94 2.06-2.06.94zm10 10l.94 2.06.94-2.06 2.06-.94-2.06-.94-.94-2.06-.94 2.06-2.06.94z\"/><path d=\"M17.41 7.96l-1.37-1.37c-.4-.4-.92-.59-1.43-.59-.52 0-1.04.2-1.43.59L10.3 9.45l-7.72 7.72c-.78.78-.78 2.05 0 2.83L4 21.41c.39.39.9.59 1.41.59.51 0 1.02-.2 1.41-.59l7.78-7.78 2.81-2.81c.8-.78.8-2.07 0-2.86zM5.41 20L4 18.59l7.72-7.72 1.47 1.35L5.41 20z\"/>\n",
              "  </svg>\n",
              "      </button>\n",
              "\n",
              "\n",
              "\n",
              "    <div id=\"df-c875eb69-6b6d-4c24-b73d-c1be82b27b05\">\n",
              "      <button class=\"colab-df-quickchart\" onclick=\"quickchart('df-c875eb69-6b6d-4c24-b73d-c1be82b27b05')\"\n",
              "              title=\"Suggest charts.\"\n",
              "              style=\"display:none;\">\n",
              "\n",
              "<svg xmlns=\"http://www.w3.org/2000/svg\" height=\"24px\"viewBox=\"0 0 24 24\"\n",
              "     width=\"24px\">\n",
              "    <g>\n",
              "        <path d=\"M19 3H5c-1.1 0-2 .9-2 2v14c0 1.1.9 2 2 2h14c1.1 0 2-.9 2-2V5c0-1.1-.9-2-2-2zM9 17H7v-7h2v7zm4 0h-2V7h2v10zm4 0h-2v-4h2v4z\"/>\n",
              "    </g>\n",
              "</svg>\n",
              "      </button>\n",
              "    </div>\n",
              "\n",
              "<style>\n",
              "  .colab-df-quickchart {\n",
              "    background-color: #E8F0FE;\n",
              "    border: none;\n",
              "    border-radius: 50%;\n",
              "    cursor: pointer;\n",
              "    display: none;\n",
              "    fill: #1967D2;\n",
              "    height: 32px;\n",
              "    padding: 0 0 0 0;\n",
              "    width: 32px;\n",
              "  }\n",
              "\n",
              "  .colab-df-quickchart:hover {\n",
              "    background-color: #E2EBFA;\n",
              "    box-shadow: 0px 1px 2px rgba(60, 64, 67, 0.3), 0px 1px 3px 1px rgba(60, 64, 67, 0.15);\n",
              "    fill: #174EA6;\n",
              "  }\n",
              "\n",
              "  [theme=dark] .colab-df-quickchart {\n",
              "    background-color: #3B4455;\n",
              "    fill: #D2E3FC;\n",
              "  }\n",
              "\n",
              "  [theme=dark] .colab-df-quickchart:hover {\n",
              "    background-color: #434B5C;\n",
              "    box-shadow: 0px 1px 3px 1px rgba(0, 0, 0, 0.15);\n",
              "    filter: drop-shadow(0px 1px 2px rgba(0, 0, 0, 0.3));\n",
              "    fill: #FFFFFF;\n",
              "  }\n",
              "</style>\n",
              "\n",
              "    <script>\n",
              "      async function quickchart(key) {\n",
              "        const containerElement = document.querySelector('#' + key);\n",
              "        const charts = await google.colab.kernel.invokeFunction(\n",
              "            'suggestCharts', [key], {});\n",
              "      }\n",
              "    </script>\n",
              "\n",
              "      <script>\n",
              "\n",
              "function displayQuickchartButton(domScope) {\n",
              "  let quickchartButtonEl =\n",
              "    domScope.querySelector('#df-c875eb69-6b6d-4c24-b73d-c1be82b27b05 button.colab-df-quickchart');\n",
              "  quickchartButtonEl.style.display =\n",
              "    google.colab.kernel.accessAllowed ? 'block' : 'none';\n",
              "}\n",
              "\n",
              "        displayQuickchartButton(document);\n",
              "      </script>\n",
              "      <style>\n",
              "    .colab-df-container {\n",
              "      display:flex;\n",
              "      flex-wrap:wrap;\n",
              "      gap: 12px;\n",
              "    }\n",
              "\n",
              "    .colab-df-convert {\n",
              "      background-color: #E8F0FE;\n",
              "      border: none;\n",
              "      border-radius: 50%;\n",
              "      cursor: pointer;\n",
              "      display: none;\n",
              "      fill: #1967D2;\n",
              "      height: 32px;\n",
              "      padding: 0 0 0 0;\n",
              "      width: 32px;\n",
              "    }\n",
              "\n",
              "    .colab-df-convert:hover {\n",
              "      background-color: #E2EBFA;\n",
              "      box-shadow: 0px 1px 2px rgba(60, 64, 67, 0.3), 0px 1px 3px 1px rgba(60, 64, 67, 0.15);\n",
              "      fill: #174EA6;\n",
              "    }\n",
              "\n",
              "    [theme=dark] .colab-df-convert {\n",
              "      background-color: #3B4455;\n",
              "      fill: #D2E3FC;\n",
              "    }\n",
              "\n",
              "    [theme=dark] .colab-df-convert:hover {\n",
              "      background-color: #434B5C;\n",
              "      box-shadow: 0px 1px 3px 1px rgba(0, 0, 0, 0.15);\n",
              "      filter: drop-shadow(0px 1px 2px rgba(0, 0, 0, 0.3));\n",
              "      fill: #FFFFFF;\n",
              "    }\n",
              "  </style>\n",
              "\n",
              "      <script>\n",
              "        const buttonEl =\n",
              "          document.querySelector('#df-d98a3076-89b6-4980-b856-cf6dca61e7ce button.colab-df-convert');\n",
              "        buttonEl.style.display =\n",
              "          google.colab.kernel.accessAllowed ? 'block' : 'none';\n",
              "\n",
              "        async function convertToInteractive(key) {\n",
              "          const element = document.querySelector('#df-d98a3076-89b6-4980-b856-cf6dca61e7ce');\n",
              "          const dataTable =\n",
              "            await google.colab.kernel.invokeFunction('convertToInteractive',\n",
              "                                                     [key], {});\n",
              "          if (!dataTable) return;\n",
              "\n",
              "          const docLinkHtml = 'Like what you see? Visit the ' +\n",
              "            '<a target=\"_blank\" href=https://colab.research.google.com/notebooks/data_table.ipynb>data table notebook</a>'\n",
              "            + ' to learn more about interactive tables.';\n",
              "          element.innerHTML = '';\n",
              "          dataTable['output_type'] = 'display_data';\n",
              "          await google.colab.output.renderOutput(dataTable, element);\n",
              "          const docLink = document.createElement('div');\n",
              "          docLink.innerHTML = docLinkHtml;\n",
              "          element.appendChild(docLink);\n",
              "        }\n",
              "      </script>\n",
              "    </div>\n",
              "  </div>\n"
            ]
          },
          "metadata": {},
          "execution_count": 97
        }
      ]
    },
    {
      "cell_type": "markdown",
      "source": [
        "Which comments within the ASUS SuperNote dataset have both a sentiment polarity and sentiment subjectivity score equal to 1?"
      ],
      "metadata": {
        "id": "xAXmlFwp5L8X"
      }
    },
    {
      "cell_type": "code",
      "source": [
        "userdf[(userdf['App']==\"ASUS SuperNote\") & (userdf['Sentiment_Polarity']==1) & (userdf['Sentiment_Subjectivity']==1)]\n"
      ],
      "metadata": {
        "id": "M1eOTz315B7p",
        "colab": {
          "base_uri": "https://localhost:8080/",
          "height": 81
        },
        "outputId": "4a984460-27d8-411c-921d-d125c74c8a2a"
      },
      "execution_count": 98,
      "outputs": [
        {
          "output_type": "execute_result",
          "data": {
            "text/plain": [
              "                 App Translated_Review Sentiment  Sentiment_Polarity  \\\n",
              "3391  ASUS SuperNote       Awesome!!!!  Positive                 1.0   \n",
              "\n",
              "      Sentiment_Subjectivity  \n",
              "3391                     1.0  "
            ],
            "text/html": [
              "\n",
              "\n",
              "  <div id=\"df-4346079f-e227-43ae-a64c-1a9ea7d3935d\">\n",
              "    <div class=\"colab-df-container\">\n",
              "      <div>\n",
              "<style scoped>\n",
              "    .dataframe tbody tr th:only-of-type {\n",
              "        vertical-align: middle;\n",
              "    }\n",
              "\n",
              "    .dataframe tbody tr th {\n",
              "        vertical-align: top;\n",
              "    }\n",
              "\n",
              "    .dataframe thead th {\n",
              "        text-align: right;\n",
              "    }\n",
              "</style>\n",
              "<table border=\"1\" class=\"dataframe\">\n",
              "  <thead>\n",
              "    <tr style=\"text-align: right;\">\n",
              "      <th></th>\n",
              "      <th>App</th>\n",
              "      <th>Translated_Review</th>\n",
              "      <th>Sentiment</th>\n",
              "      <th>Sentiment_Polarity</th>\n",
              "      <th>Sentiment_Subjectivity</th>\n",
              "    </tr>\n",
              "  </thead>\n",
              "  <tbody>\n",
              "    <tr>\n",
              "      <th>3391</th>\n",
              "      <td>ASUS SuperNote</td>\n",
              "      <td>Awesome!!!!</td>\n",
              "      <td>Positive</td>\n",
              "      <td>1.0</td>\n",
              "      <td>1.0</td>\n",
              "    </tr>\n",
              "  </tbody>\n",
              "</table>\n",
              "</div>\n",
              "      <button class=\"colab-df-convert\" onclick=\"convertToInteractive('df-4346079f-e227-43ae-a64c-1a9ea7d3935d')\"\n",
              "              title=\"Convert this dataframe to an interactive table.\"\n",
              "              style=\"display:none;\">\n",
              "\n",
              "  <svg xmlns=\"http://www.w3.org/2000/svg\" height=\"24px\"viewBox=\"0 0 24 24\"\n",
              "       width=\"24px\">\n",
              "    <path d=\"M0 0h24v24H0V0z\" fill=\"none\"/>\n",
              "    <path d=\"M18.56 5.44l.94 2.06.94-2.06 2.06-.94-2.06-.94-.94-2.06-.94 2.06-2.06.94zm-11 1L8.5 8.5l.94-2.06 2.06-.94-2.06-.94L8.5 2.5l-.94 2.06-2.06.94zm10 10l.94 2.06.94-2.06 2.06-.94-2.06-.94-.94-2.06-.94 2.06-2.06.94z\"/><path d=\"M17.41 7.96l-1.37-1.37c-.4-.4-.92-.59-1.43-.59-.52 0-1.04.2-1.43.59L10.3 9.45l-7.72 7.72c-.78.78-.78 2.05 0 2.83L4 21.41c.39.39.9.59 1.41.59.51 0 1.02-.2 1.41-.59l7.78-7.78 2.81-2.81c.8-.78.8-2.07 0-2.86zM5.41 20L4 18.59l7.72-7.72 1.47 1.35L5.41 20z\"/>\n",
              "  </svg>\n",
              "      </button>\n",
              "\n",
              "\n",
              "\n",
              "    <div id=\"df-9d7ddd80-6957-447f-adda-ae4a9c619cd1\">\n",
              "      <button class=\"colab-df-quickchart\" onclick=\"quickchart('df-9d7ddd80-6957-447f-adda-ae4a9c619cd1')\"\n",
              "              title=\"Suggest charts.\"\n",
              "              style=\"display:none;\">\n",
              "\n",
              "<svg xmlns=\"http://www.w3.org/2000/svg\" height=\"24px\"viewBox=\"0 0 24 24\"\n",
              "     width=\"24px\">\n",
              "    <g>\n",
              "        <path d=\"M19 3H5c-1.1 0-2 .9-2 2v14c0 1.1.9 2 2 2h14c1.1 0 2-.9 2-2V5c0-1.1-.9-2-2-2zM9 17H7v-7h2v7zm4 0h-2V7h2v10zm4 0h-2v-4h2v4z\"/>\n",
              "    </g>\n",
              "</svg>\n",
              "      </button>\n",
              "    </div>\n",
              "\n",
              "<style>\n",
              "  .colab-df-quickchart {\n",
              "    background-color: #E8F0FE;\n",
              "    border: none;\n",
              "    border-radius: 50%;\n",
              "    cursor: pointer;\n",
              "    display: none;\n",
              "    fill: #1967D2;\n",
              "    height: 32px;\n",
              "    padding: 0 0 0 0;\n",
              "    width: 32px;\n",
              "  }\n",
              "\n",
              "  .colab-df-quickchart:hover {\n",
              "    background-color: #E2EBFA;\n",
              "    box-shadow: 0px 1px 2px rgba(60, 64, 67, 0.3), 0px 1px 3px 1px rgba(60, 64, 67, 0.15);\n",
              "    fill: #174EA6;\n",
              "  }\n",
              "\n",
              "  [theme=dark] .colab-df-quickchart {\n",
              "    background-color: #3B4455;\n",
              "    fill: #D2E3FC;\n",
              "  }\n",
              "\n",
              "  [theme=dark] .colab-df-quickchart:hover {\n",
              "    background-color: #434B5C;\n",
              "    box-shadow: 0px 1px 3px 1px rgba(0, 0, 0, 0.15);\n",
              "    filter: drop-shadow(0px 1px 2px rgba(0, 0, 0, 0.3));\n",
              "    fill: #FFFFFF;\n",
              "  }\n",
              "</style>\n",
              "\n",
              "    <script>\n",
              "      async function quickchart(key) {\n",
              "        const containerElement = document.querySelector('#' + key);\n",
              "        const charts = await google.colab.kernel.invokeFunction(\n",
              "            'suggestCharts', [key], {});\n",
              "      }\n",
              "    </script>\n",
              "\n",
              "      <script>\n",
              "\n",
              "function displayQuickchartButton(domScope) {\n",
              "  let quickchartButtonEl =\n",
              "    domScope.querySelector('#df-9d7ddd80-6957-447f-adda-ae4a9c619cd1 button.colab-df-quickchart');\n",
              "  quickchartButtonEl.style.display =\n",
              "    google.colab.kernel.accessAllowed ? 'block' : 'none';\n",
              "}\n",
              "\n",
              "        displayQuickchartButton(document);\n",
              "      </script>\n",
              "      <style>\n",
              "    .colab-df-container {\n",
              "      display:flex;\n",
              "      flex-wrap:wrap;\n",
              "      gap: 12px;\n",
              "    }\n",
              "\n",
              "    .colab-df-convert {\n",
              "      background-color: #E8F0FE;\n",
              "      border: none;\n",
              "      border-radius: 50%;\n",
              "      cursor: pointer;\n",
              "      display: none;\n",
              "      fill: #1967D2;\n",
              "      height: 32px;\n",
              "      padding: 0 0 0 0;\n",
              "      width: 32px;\n",
              "    }\n",
              "\n",
              "    .colab-df-convert:hover {\n",
              "      background-color: #E2EBFA;\n",
              "      box-shadow: 0px 1px 2px rgba(60, 64, 67, 0.3), 0px 1px 3px 1px rgba(60, 64, 67, 0.15);\n",
              "      fill: #174EA6;\n",
              "    }\n",
              "\n",
              "    [theme=dark] .colab-df-convert {\n",
              "      background-color: #3B4455;\n",
              "      fill: #D2E3FC;\n",
              "    }\n",
              "\n",
              "    [theme=dark] .colab-df-convert:hover {\n",
              "      background-color: #434B5C;\n",
              "      box-shadow: 0px 1px 3px 1px rgba(0, 0, 0, 0.15);\n",
              "      filter: drop-shadow(0px 1px 2px rgba(0, 0, 0, 0.3));\n",
              "      fill: #FFFFFF;\n",
              "    }\n",
              "  </style>\n",
              "\n",
              "      <script>\n",
              "        const buttonEl =\n",
              "          document.querySelector('#df-4346079f-e227-43ae-a64c-1a9ea7d3935d button.colab-df-convert');\n",
              "        buttonEl.style.display =\n",
              "          google.colab.kernel.accessAllowed ? 'block' : 'none';\n",
              "\n",
              "        async function convertToInteractive(key) {\n",
              "          const element = document.querySelector('#df-4346079f-e227-43ae-a64c-1a9ea7d3935d');\n",
              "          const dataTable =\n",
              "            await google.colab.kernel.invokeFunction('convertToInteractive',\n",
              "                                                     [key], {});\n",
              "          if (!dataTable) return;\n",
              "\n",
              "          const docLinkHtml = 'Like what you see? Visit the ' +\n",
              "            '<a target=\"_blank\" href=https://colab.research.google.com/notebooks/data_table.ipynb>data table notebook</a>'\n",
              "            + ' to learn more about interactive tables.';\n",
              "          element.innerHTML = '';\n",
              "          dataTable['output_type'] = 'display_data';\n",
              "          await google.colab.output.renderOutput(dataTable, element);\n",
              "          const docLink = document.createElement('div');\n",
              "          docLink.innerHTML = docLinkHtml;\n",
              "          element.appendChild(docLink);\n",
              "        }\n",
              "      </script>\n",
              "    </div>\n",
              "  </div>\n"
            ]
          },
          "metadata": {},
          "execution_count": 98
        }
      ]
    },
    {
      "cell_type": "markdown",
      "source": [
        "Find the netural Sentiment reviews for the app Abs Training-Burn belly fat."
      ],
      "metadata": {
        "id": "-mqB5pjw56sg"
      }
    },
    {
      "cell_type": "code",
      "source": [
        "userdf[(userdf['App']==\"Abs Training-Burn belly fat\") & (userdf['Sentiment']=='Neutral')]\n"
      ],
      "metadata": {
        "id": "uP_qyoFH6DD-",
        "colab": {
          "base_uri": "https://localhost:8080/",
          "height": 206
        },
        "outputId": "de6a9f28-3442-41d0-a457-7ecdbb9f54fd"
      },
      "execution_count": 99,
      "outputs": [
        {
          "output_type": "execute_result",
          "data": {
            "text/plain": [
              "                              App  \\\n",
              "3595  Abs Training-Burn belly fat   \n",
              "3597  Abs Training-Burn belly fat   \n",
              "3602  Abs Training-Burn belly fat   \n",
              "3611  Abs Training-Burn belly fat   \n",
              "3613  Abs Training-Burn belly fat   \n",
              "\n",
              "                                      Translated_Review Sentiment  \\\n",
              "3595  I would recommend anyone struggling exercise a...   Neutral   \n",
              "3597      I'm sticking literally kicked booty pain gain   Neutral   \n",
              "3602  Needs work voice tells take break voice keeps ...   Neutral   \n",
              "3611    Pop ads middle night!!! Taking phone? F*** app!   Neutral   \n",
              "3613   I day day I saw difference I went XL medium size   Neutral   \n",
              "\n",
              "      Sentiment_Polarity  Sentiment_Subjectivity  \n",
              "3595                 0.0                     0.0  \n",
              "3597                 0.0                     0.0  \n",
              "3602                 0.0                     0.0  \n",
              "3611                 0.0                     0.0  \n",
              "3613                 0.0                     0.0  "
            ],
            "text/html": [
              "\n",
              "\n",
              "  <div id=\"df-e9e19eea-fb34-4634-8075-881d6e635c74\">\n",
              "    <div class=\"colab-df-container\">\n",
              "      <div>\n",
              "<style scoped>\n",
              "    .dataframe tbody tr th:only-of-type {\n",
              "        vertical-align: middle;\n",
              "    }\n",
              "\n",
              "    .dataframe tbody tr th {\n",
              "        vertical-align: top;\n",
              "    }\n",
              "\n",
              "    .dataframe thead th {\n",
              "        text-align: right;\n",
              "    }\n",
              "</style>\n",
              "<table border=\"1\" class=\"dataframe\">\n",
              "  <thead>\n",
              "    <tr style=\"text-align: right;\">\n",
              "      <th></th>\n",
              "      <th>App</th>\n",
              "      <th>Translated_Review</th>\n",
              "      <th>Sentiment</th>\n",
              "      <th>Sentiment_Polarity</th>\n",
              "      <th>Sentiment_Subjectivity</th>\n",
              "    </tr>\n",
              "  </thead>\n",
              "  <tbody>\n",
              "    <tr>\n",
              "      <th>3595</th>\n",
              "      <td>Abs Training-Burn belly fat</td>\n",
              "      <td>I would recommend anyone struggling exercise a...</td>\n",
              "      <td>Neutral</td>\n",
              "      <td>0.0</td>\n",
              "      <td>0.0</td>\n",
              "    </tr>\n",
              "    <tr>\n",
              "      <th>3597</th>\n",
              "      <td>Abs Training-Burn belly fat</td>\n",
              "      <td>I'm sticking literally kicked booty pain gain</td>\n",
              "      <td>Neutral</td>\n",
              "      <td>0.0</td>\n",
              "      <td>0.0</td>\n",
              "    </tr>\n",
              "    <tr>\n",
              "      <th>3602</th>\n",
              "      <td>Abs Training-Burn belly fat</td>\n",
              "      <td>Needs work voice tells take break voice keeps ...</td>\n",
              "      <td>Neutral</td>\n",
              "      <td>0.0</td>\n",
              "      <td>0.0</td>\n",
              "    </tr>\n",
              "    <tr>\n",
              "      <th>3611</th>\n",
              "      <td>Abs Training-Burn belly fat</td>\n",
              "      <td>Pop ads middle night!!! Taking phone? F*** app!</td>\n",
              "      <td>Neutral</td>\n",
              "      <td>0.0</td>\n",
              "      <td>0.0</td>\n",
              "    </tr>\n",
              "    <tr>\n",
              "      <th>3613</th>\n",
              "      <td>Abs Training-Burn belly fat</td>\n",
              "      <td>I day day I saw difference I went XL medium size</td>\n",
              "      <td>Neutral</td>\n",
              "      <td>0.0</td>\n",
              "      <td>0.0</td>\n",
              "    </tr>\n",
              "  </tbody>\n",
              "</table>\n",
              "</div>\n",
              "      <button class=\"colab-df-convert\" onclick=\"convertToInteractive('df-e9e19eea-fb34-4634-8075-881d6e635c74')\"\n",
              "              title=\"Convert this dataframe to an interactive table.\"\n",
              "              style=\"display:none;\">\n",
              "\n",
              "  <svg xmlns=\"http://www.w3.org/2000/svg\" height=\"24px\"viewBox=\"0 0 24 24\"\n",
              "       width=\"24px\">\n",
              "    <path d=\"M0 0h24v24H0V0z\" fill=\"none\"/>\n",
              "    <path d=\"M18.56 5.44l.94 2.06.94-2.06 2.06-.94-2.06-.94-.94-2.06-.94 2.06-2.06.94zm-11 1L8.5 8.5l.94-2.06 2.06-.94-2.06-.94L8.5 2.5l-.94 2.06-2.06.94zm10 10l.94 2.06.94-2.06 2.06-.94-2.06-.94-.94-2.06-.94 2.06-2.06.94z\"/><path d=\"M17.41 7.96l-1.37-1.37c-.4-.4-.92-.59-1.43-.59-.52 0-1.04.2-1.43.59L10.3 9.45l-7.72 7.72c-.78.78-.78 2.05 0 2.83L4 21.41c.39.39.9.59 1.41.59.51 0 1.02-.2 1.41-.59l7.78-7.78 2.81-2.81c.8-.78.8-2.07 0-2.86zM5.41 20L4 18.59l7.72-7.72 1.47 1.35L5.41 20z\"/>\n",
              "  </svg>\n",
              "      </button>\n",
              "\n",
              "\n",
              "\n",
              "    <div id=\"df-06ea293f-c3e5-45f7-bf27-c8732c710d29\">\n",
              "      <button class=\"colab-df-quickchart\" onclick=\"quickchart('df-06ea293f-c3e5-45f7-bf27-c8732c710d29')\"\n",
              "              title=\"Suggest charts.\"\n",
              "              style=\"display:none;\">\n",
              "\n",
              "<svg xmlns=\"http://www.w3.org/2000/svg\" height=\"24px\"viewBox=\"0 0 24 24\"\n",
              "     width=\"24px\">\n",
              "    <g>\n",
              "        <path d=\"M19 3H5c-1.1 0-2 .9-2 2v14c0 1.1.9 2 2 2h14c1.1 0 2-.9 2-2V5c0-1.1-.9-2-2-2zM9 17H7v-7h2v7zm4 0h-2V7h2v10zm4 0h-2v-4h2v4z\"/>\n",
              "    </g>\n",
              "</svg>\n",
              "      </button>\n",
              "    </div>\n",
              "\n",
              "<style>\n",
              "  .colab-df-quickchart {\n",
              "    background-color: #E8F0FE;\n",
              "    border: none;\n",
              "    border-radius: 50%;\n",
              "    cursor: pointer;\n",
              "    display: none;\n",
              "    fill: #1967D2;\n",
              "    height: 32px;\n",
              "    padding: 0 0 0 0;\n",
              "    width: 32px;\n",
              "  }\n",
              "\n",
              "  .colab-df-quickchart:hover {\n",
              "    background-color: #E2EBFA;\n",
              "    box-shadow: 0px 1px 2px rgba(60, 64, 67, 0.3), 0px 1px 3px 1px rgba(60, 64, 67, 0.15);\n",
              "    fill: #174EA6;\n",
              "  }\n",
              "\n",
              "  [theme=dark] .colab-df-quickchart {\n",
              "    background-color: #3B4455;\n",
              "    fill: #D2E3FC;\n",
              "  }\n",
              "\n",
              "  [theme=dark] .colab-df-quickchart:hover {\n",
              "    background-color: #434B5C;\n",
              "    box-shadow: 0px 1px 3px 1px rgba(0, 0, 0, 0.15);\n",
              "    filter: drop-shadow(0px 1px 2px rgba(0, 0, 0, 0.3));\n",
              "    fill: #FFFFFF;\n",
              "  }\n",
              "</style>\n",
              "\n",
              "    <script>\n",
              "      async function quickchart(key) {\n",
              "        const containerElement = document.querySelector('#' + key);\n",
              "        const charts = await google.colab.kernel.invokeFunction(\n",
              "            'suggestCharts', [key], {});\n",
              "      }\n",
              "    </script>\n",
              "\n",
              "      <script>\n",
              "\n",
              "function displayQuickchartButton(domScope) {\n",
              "  let quickchartButtonEl =\n",
              "    domScope.querySelector('#df-06ea293f-c3e5-45f7-bf27-c8732c710d29 button.colab-df-quickchart');\n",
              "  quickchartButtonEl.style.display =\n",
              "    google.colab.kernel.accessAllowed ? 'block' : 'none';\n",
              "}\n",
              "\n",
              "        displayQuickchartButton(document);\n",
              "      </script>\n",
              "      <style>\n",
              "    .colab-df-container {\n",
              "      display:flex;\n",
              "      flex-wrap:wrap;\n",
              "      gap: 12px;\n",
              "    }\n",
              "\n",
              "    .colab-df-convert {\n",
              "      background-color: #E8F0FE;\n",
              "      border: none;\n",
              "      border-radius: 50%;\n",
              "      cursor: pointer;\n",
              "      display: none;\n",
              "      fill: #1967D2;\n",
              "      height: 32px;\n",
              "      padding: 0 0 0 0;\n",
              "      width: 32px;\n",
              "    }\n",
              "\n",
              "    .colab-df-convert:hover {\n",
              "      background-color: #E2EBFA;\n",
              "      box-shadow: 0px 1px 2px rgba(60, 64, 67, 0.3), 0px 1px 3px 1px rgba(60, 64, 67, 0.15);\n",
              "      fill: #174EA6;\n",
              "    }\n",
              "\n",
              "    [theme=dark] .colab-df-convert {\n",
              "      background-color: #3B4455;\n",
              "      fill: #D2E3FC;\n",
              "    }\n",
              "\n",
              "    [theme=dark] .colab-df-convert:hover {\n",
              "      background-color: #434B5C;\n",
              "      box-shadow: 0px 1px 3px 1px rgba(0, 0, 0, 0.15);\n",
              "      filter: drop-shadow(0px 1px 2px rgba(0, 0, 0, 0.3));\n",
              "      fill: #FFFFFF;\n",
              "    }\n",
              "  </style>\n",
              "\n",
              "      <script>\n",
              "        const buttonEl =\n",
              "          document.querySelector('#df-e9e19eea-fb34-4634-8075-881d6e635c74 button.colab-df-convert');\n",
              "        buttonEl.style.display =\n",
              "          google.colab.kernel.accessAllowed ? 'block' : 'none';\n",
              "\n",
              "        async function convertToInteractive(key) {\n",
              "          const element = document.querySelector('#df-e9e19eea-fb34-4634-8075-881d6e635c74');\n",
              "          const dataTable =\n",
              "            await google.colab.kernel.invokeFunction('convertToInteractive',\n",
              "                                                     [key], {});\n",
              "          if (!dataTable) return;\n",
              "\n",
              "          const docLinkHtml = 'Like what you see? Visit the ' +\n",
              "            '<a target=\"_blank\" href=https://colab.research.google.com/notebooks/data_table.ipynb>data table notebook</a>'\n",
              "            + ' to learn more about interactive tables.';\n",
              "          element.innerHTML = '';\n",
              "          dataTable['output_type'] = 'display_data';\n",
              "          await google.colab.output.renderOutput(dataTable, element);\n",
              "          const docLink = document.createElement('div');\n",
              "          docLink.innerHTML = docLinkHtml;\n",
              "          element.appendChild(docLink);\n",
              "        }\n",
              "      </script>\n",
              "    </div>\n",
              "  </div>\n"
            ]
          },
          "metadata": {},
          "execution_count": 99
        }
      ]
    },
    {
      "cell_type": "markdown",
      "source": [
        "Identify negative sentiment reviews for Adobe Acrobat Reader, including their associated sentiment polarity and sentiment subjectivity scores."
      ],
      "metadata": {
        "id": "JGPIXVS27Mhm"
      }
    },
    {
      "cell_type": "code",
      "source": [
        "userdf[(userdf['App'].str.contains(\"Adobe Acrobat Reader\")) & (userdf['Sentiment']=='Negative')]\n"
      ],
      "metadata": {
        "id": "FeZY7EV47Y38",
        "colab": {
          "base_uri": "https://localhost:8080/",
          "height": 927
        },
        "outputId": "d3d3026c-a0ef-40ad-961a-44ba415f096c"
      },
      "execution_count": 100,
      "outputs": [
        {
          "output_type": "execute_result",
          "data": {
            "text/plain": [
              "                       App                                  Translated_Review  \\\n",
              "4146  Adobe Acrobat Reader  Not Another Damn Cloud Account! I want another...   \n",
              "4154  Adobe Acrobat Reader  The previous versions good enough.... This upd...   \n",
              "4155  Adobe Acrobat Reader  Hey Pls update app.... I'm face issues... When...   \n",
              "4171  Adobe Acrobat Reader  Forces account password means Google knowledge...   \n",
              "4186  Adobe Acrobat Reader  Not Another Damn Cloud Account! I want another...   \n",
              "4194  Adobe Acrobat Reader  The previous versions good enough.... This upd...   \n",
              "4195  Adobe Acrobat Reader  Hey Pls update app.... I'm face issues... When...   \n",
              "4211  Adobe Acrobat Reader  Forces account password means Google knowledge...   \n",
              "4217  Adobe Acrobat Reader  Forces account password means Google knowledge...   \n",
              "4225  Adobe Acrobat Reader  Not Another Damn Cloud Account! I want another...   \n",
              "4232  Adobe Acrobat Reader  The previous versions good enough.... This upd...   \n",
              "4233  Adobe Acrobat Reader  Hey Pls update app.... I'm face issues... When...   \n",
              "4238  Adobe Acrobat Reader  Too boring. I'm trying scan document give opti...   \n",
              "4254  Adobe Acrobat Reader  After using adobe iphone, version annoying. Do...   \n",
              "4256  Adobe Acrobat Reader  Love app. Hate file manager. Open file saved d...   \n",
              "4258  Adobe Acrobat Reader  It's difficult select text stupid pg # functio...   \n",
              "4260  Adobe Acrobat Reader  It's actually terrible. The biggest flaw retur...   \n",
              "4266  Adobe Acrobat Reader  Its like I using ghost...it keeps scrolling pa...   \n",
              "4274  Adobe Acrobat Reader  Adobe removed option saving changes pdfs local...   \n",
              "4278  Adobe Acrobat Reader  If wish EXPORT, give birthdate!!!! What? A mob...   \n",
              "4279  Adobe Acrobat Reader  Does exactly PC based version.Brilliant! At la...   \n",
              "4284  Adobe Acrobat Reader  This sux saves cloud. Unless im missing someth...   \n",
              "4287  Adobe Acrobat Reader  Stupid app. Whenever I open pdf file making co...   \n",
              "4289  Adobe Acrobat Reader  This almost everything I need pdfs unfortunate...   \n",
              "4290  Adobe Acrobat Reader  It good app. But problem unable share photos i...   \n",
              "4299  Adobe Acrobat Reader               Apparently I log view pdf... Idiotic   \n",
              "4303  Adobe Acrobat Reader  Very little usefulness keep getting messages r...   \n",
              "4311  Adobe Acrobat Reader  Can't rename documents latest update. Using An...   \n",
              "\n",
              "     Sentiment  Sentiment_Polarity  Sentiment_Subjectivity  \n",
              "4146  Negative           -0.300000                0.700000  \n",
              "4154  Negative           -0.144444                0.561111  \n",
              "4155  Negative           -0.012500                0.345833  \n",
              "4171  Negative           -0.275000                0.566667  \n",
              "4186  Negative           -0.300000                0.700000  \n",
              "4194  Negative           -0.144444                0.561111  \n",
              "4195  Negative           -0.012500                0.345833  \n",
              "4211  Negative           -0.275000                0.566667  \n",
              "4217  Negative           -0.275000                0.566667  \n",
              "4225  Negative           -0.300000                0.700000  \n",
              "4232  Negative           -0.144444                0.561111  \n",
              "4233  Negative           -0.012500                0.345833  \n",
              "4238  Negative           -0.300000                0.488889  \n",
              "4254  Negative           -0.200000                0.552381  \n",
              "4256  Negative           -0.075000                0.593750  \n",
              "4258  Negative           -0.575000                0.900000  \n",
              "4260  Negative           -0.275000                0.525000  \n",
              "4266  Negative           -0.275000                0.950000  \n",
              "4274  Negative           -0.087500                0.520833  \n",
              "4278  Negative           -0.125000                0.500000  \n",
              "4279  Negative           -0.229167                0.438889  \n",
              "4284  Negative           -0.200000                0.050000  \n",
              "4287  Negative           -0.106250                0.718750  \n",
              "4289  Negative           -0.062500                0.558333  \n",
              "4290  Negative           -0.100000                0.533333  \n",
              "4299  Negative           -0.308333                0.591667  \n",
              "4303  Negative           -0.464844                0.425000  \n",
              "4311  Negative           -0.250000                0.933333  "
            ],
            "text/html": [
              "\n",
              "\n",
              "  <div id=\"df-f814cd61-b223-4326-b2c3-b46adaad4889\">\n",
              "    <div class=\"colab-df-container\">\n",
              "      <div>\n",
              "<style scoped>\n",
              "    .dataframe tbody tr th:only-of-type {\n",
              "        vertical-align: middle;\n",
              "    }\n",
              "\n",
              "    .dataframe tbody tr th {\n",
              "        vertical-align: top;\n",
              "    }\n",
              "\n",
              "    .dataframe thead th {\n",
              "        text-align: right;\n",
              "    }\n",
              "</style>\n",
              "<table border=\"1\" class=\"dataframe\">\n",
              "  <thead>\n",
              "    <tr style=\"text-align: right;\">\n",
              "      <th></th>\n",
              "      <th>App</th>\n",
              "      <th>Translated_Review</th>\n",
              "      <th>Sentiment</th>\n",
              "      <th>Sentiment_Polarity</th>\n",
              "      <th>Sentiment_Subjectivity</th>\n",
              "    </tr>\n",
              "  </thead>\n",
              "  <tbody>\n",
              "    <tr>\n",
              "      <th>4146</th>\n",
              "      <td>Adobe Acrobat Reader</td>\n",
              "      <td>Not Another Damn Cloud Account! I want another...</td>\n",
              "      <td>Negative</td>\n",
              "      <td>-0.300000</td>\n",
              "      <td>0.700000</td>\n",
              "    </tr>\n",
              "    <tr>\n",
              "      <th>4154</th>\n",
              "      <td>Adobe Acrobat Reader</td>\n",
              "      <td>The previous versions good enough.... This upd...</td>\n",
              "      <td>Negative</td>\n",
              "      <td>-0.144444</td>\n",
              "      <td>0.561111</td>\n",
              "    </tr>\n",
              "    <tr>\n",
              "      <th>4155</th>\n",
              "      <td>Adobe Acrobat Reader</td>\n",
              "      <td>Hey Pls update app.... I'm face issues... When...</td>\n",
              "      <td>Negative</td>\n",
              "      <td>-0.012500</td>\n",
              "      <td>0.345833</td>\n",
              "    </tr>\n",
              "    <tr>\n",
              "      <th>4171</th>\n",
              "      <td>Adobe Acrobat Reader</td>\n",
              "      <td>Forces account password means Google knowledge...</td>\n",
              "      <td>Negative</td>\n",
              "      <td>-0.275000</td>\n",
              "      <td>0.566667</td>\n",
              "    </tr>\n",
              "    <tr>\n",
              "      <th>4186</th>\n",
              "      <td>Adobe Acrobat Reader</td>\n",
              "      <td>Not Another Damn Cloud Account! I want another...</td>\n",
              "      <td>Negative</td>\n",
              "      <td>-0.300000</td>\n",
              "      <td>0.700000</td>\n",
              "    </tr>\n",
              "    <tr>\n",
              "      <th>4194</th>\n",
              "      <td>Adobe Acrobat Reader</td>\n",
              "      <td>The previous versions good enough.... This upd...</td>\n",
              "      <td>Negative</td>\n",
              "      <td>-0.144444</td>\n",
              "      <td>0.561111</td>\n",
              "    </tr>\n",
              "    <tr>\n",
              "      <th>4195</th>\n",
              "      <td>Adobe Acrobat Reader</td>\n",
              "      <td>Hey Pls update app.... I'm face issues... When...</td>\n",
              "      <td>Negative</td>\n",
              "      <td>-0.012500</td>\n",
              "      <td>0.345833</td>\n",
              "    </tr>\n",
              "    <tr>\n",
              "      <th>4211</th>\n",
              "      <td>Adobe Acrobat Reader</td>\n",
              "      <td>Forces account password means Google knowledge...</td>\n",
              "      <td>Negative</td>\n",
              "      <td>-0.275000</td>\n",
              "      <td>0.566667</td>\n",
              "    </tr>\n",
              "    <tr>\n",
              "      <th>4217</th>\n",
              "      <td>Adobe Acrobat Reader</td>\n",
              "      <td>Forces account password means Google knowledge...</td>\n",
              "      <td>Negative</td>\n",
              "      <td>-0.275000</td>\n",
              "      <td>0.566667</td>\n",
              "    </tr>\n",
              "    <tr>\n",
              "      <th>4225</th>\n",
              "      <td>Adobe Acrobat Reader</td>\n",
              "      <td>Not Another Damn Cloud Account! I want another...</td>\n",
              "      <td>Negative</td>\n",
              "      <td>-0.300000</td>\n",
              "      <td>0.700000</td>\n",
              "    </tr>\n",
              "    <tr>\n",
              "      <th>4232</th>\n",
              "      <td>Adobe Acrobat Reader</td>\n",
              "      <td>The previous versions good enough.... This upd...</td>\n",
              "      <td>Negative</td>\n",
              "      <td>-0.144444</td>\n",
              "      <td>0.561111</td>\n",
              "    </tr>\n",
              "    <tr>\n",
              "      <th>4233</th>\n",
              "      <td>Adobe Acrobat Reader</td>\n",
              "      <td>Hey Pls update app.... I'm face issues... When...</td>\n",
              "      <td>Negative</td>\n",
              "      <td>-0.012500</td>\n",
              "      <td>0.345833</td>\n",
              "    </tr>\n",
              "    <tr>\n",
              "      <th>4238</th>\n",
              "      <td>Adobe Acrobat Reader</td>\n",
              "      <td>Too boring. I'm trying scan document give opti...</td>\n",
              "      <td>Negative</td>\n",
              "      <td>-0.300000</td>\n",
              "      <td>0.488889</td>\n",
              "    </tr>\n",
              "    <tr>\n",
              "      <th>4254</th>\n",
              "      <td>Adobe Acrobat Reader</td>\n",
              "      <td>After using adobe iphone, version annoying. Do...</td>\n",
              "      <td>Negative</td>\n",
              "      <td>-0.200000</td>\n",
              "      <td>0.552381</td>\n",
              "    </tr>\n",
              "    <tr>\n",
              "      <th>4256</th>\n",
              "      <td>Adobe Acrobat Reader</td>\n",
              "      <td>Love app. Hate file manager. Open file saved d...</td>\n",
              "      <td>Negative</td>\n",
              "      <td>-0.075000</td>\n",
              "      <td>0.593750</td>\n",
              "    </tr>\n",
              "    <tr>\n",
              "      <th>4258</th>\n",
              "      <td>Adobe Acrobat Reader</td>\n",
              "      <td>It's difficult select text stupid pg # functio...</td>\n",
              "      <td>Negative</td>\n",
              "      <td>-0.575000</td>\n",
              "      <td>0.900000</td>\n",
              "    </tr>\n",
              "    <tr>\n",
              "      <th>4260</th>\n",
              "      <td>Adobe Acrobat Reader</td>\n",
              "      <td>It's actually terrible. The biggest flaw retur...</td>\n",
              "      <td>Negative</td>\n",
              "      <td>-0.275000</td>\n",
              "      <td>0.525000</td>\n",
              "    </tr>\n",
              "    <tr>\n",
              "      <th>4266</th>\n",
              "      <td>Adobe Acrobat Reader</td>\n",
              "      <td>Its like I using ghost...it keeps scrolling pa...</td>\n",
              "      <td>Negative</td>\n",
              "      <td>-0.275000</td>\n",
              "      <td>0.950000</td>\n",
              "    </tr>\n",
              "    <tr>\n",
              "      <th>4274</th>\n",
              "      <td>Adobe Acrobat Reader</td>\n",
              "      <td>Adobe removed option saving changes pdfs local...</td>\n",
              "      <td>Negative</td>\n",
              "      <td>-0.087500</td>\n",
              "      <td>0.520833</td>\n",
              "    </tr>\n",
              "    <tr>\n",
              "      <th>4278</th>\n",
              "      <td>Adobe Acrobat Reader</td>\n",
              "      <td>If wish EXPORT, give birthdate!!!! What? A mob...</td>\n",
              "      <td>Negative</td>\n",
              "      <td>-0.125000</td>\n",
              "      <td>0.500000</td>\n",
              "    </tr>\n",
              "    <tr>\n",
              "      <th>4279</th>\n",
              "      <td>Adobe Acrobat Reader</td>\n",
              "      <td>Does exactly PC based version.Brilliant! At la...</td>\n",
              "      <td>Negative</td>\n",
              "      <td>-0.229167</td>\n",
              "      <td>0.438889</td>\n",
              "    </tr>\n",
              "    <tr>\n",
              "      <th>4284</th>\n",
              "      <td>Adobe Acrobat Reader</td>\n",
              "      <td>This sux saves cloud. Unless im missing someth...</td>\n",
              "      <td>Negative</td>\n",
              "      <td>-0.200000</td>\n",
              "      <td>0.050000</td>\n",
              "    </tr>\n",
              "    <tr>\n",
              "      <th>4287</th>\n",
              "      <td>Adobe Acrobat Reader</td>\n",
              "      <td>Stupid app. Whenever I open pdf file making co...</td>\n",
              "      <td>Negative</td>\n",
              "      <td>-0.106250</td>\n",
              "      <td>0.718750</td>\n",
              "    </tr>\n",
              "    <tr>\n",
              "      <th>4289</th>\n",
              "      <td>Adobe Acrobat Reader</td>\n",
              "      <td>This almost everything I need pdfs unfortunate...</td>\n",
              "      <td>Negative</td>\n",
              "      <td>-0.062500</td>\n",
              "      <td>0.558333</td>\n",
              "    </tr>\n",
              "    <tr>\n",
              "      <th>4290</th>\n",
              "      <td>Adobe Acrobat Reader</td>\n",
              "      <td>It good app. But problem unable share photos i...</td>\n",
              "      <td>Negative</td>\n",
              "      <td>-0.100000</td>\n",
              "      <td>0.533333</td>\n",
              "    </tr>\n",
              "    <tr>\n",
              "      <th>4299</th>\n",
              "      <td>Adobe Acrobat Reader</td>\n",
              "      <td>Apparently I log view pdf... Idiotic</td>\n",
              "      <td>Negative</td>\n",
              "      <td>-0.308333</td>\n",
              "      <td>0.591667</td>\n",
              "    </tr>\n",
              "    <tr>\n",
              "      <th>4303</th>\n",
              "      <td>Adobe Acrobat Reader</td>\n",
              "      <td>Very little usefulness keep getting messages r...</td>\n",
              "      <td>Negative</td>\n",
              "      <td>-0.464844</td>\n",
              "      <td>0.425000</td>\n",
              "    </tr>\n",
              "    <tr>\n",
              "      <th>4311</th>\n",
              "      <td>Adobe Acrobat Reader</td>\n",
              "      <td>Can't rename documents latest update. Using An...</td>\n",
              "      <td>Negative</td>\n",
              "      <td>-0.250000</td>\n",
              "      <td>0.933333</td>\n",
              "    </tr>\n",
              "  </tbody>\n",
              "</table>\n",
              "</div>\n",
              "      <button class=\"colab-df-convert\" onclick=\"convertToInteractive('df-f814cd61-b223-4326-b2c3-b46adaad4889')\"\n",
              "              title=\"Convert this dataframe to an interactive table.\"\n",
              "              style=\"display:none;\">\n",
              "\n",
              "  <svg xmlns=\"http://www.w3.org/2000/svg\" height=\"24px\"viewBox=\"0 0 24 24\"\n",
              "       width=\"24px\">\n",
              "    <path d=\"M0 0h24v24H0V0z\" fill=\"none\"/>\n",
              "    <path d=\"M18.56 5.44l.94 2.06.94-2.06 2.06-.94-2.06-.94-.94-2.06-.94 2.06-2.06.94zm-11 1L8.5 8.5l.94-2.06 2.06-.94-2.06-.94L8.5 2.5l-.94 2.06-2.06.94zm10 10l.94 2.06.94-2.06 2.06-.94-2.06-.94-.94-2.06-.94 2.06-2.06.94z\"/><path d=\"M17.41 7.96l-1.37-1.37c-.4-.4-.92-.59-1.43-.59-.52 0-1.04.2-1.43.59L10.3 9.45l-7.72 7.72c-.78.78-.78 2.05 0 2.83L4 21.41c.39.39.9.59 1.41.59.51 0 1.02-.2 1.41-.59l7.78-7.78 2.81-2.81c.8-.78.8-2.07 0-2.86zM5.41 20L4 18.59l7.72-7.72 1.47 1.35L5.41 20z\"/>\n",
              "  </svg>\n",
              "      </button>\n",
              "\n",
              "\n",
              "\n",
              "    <div id=\"df-12ab6d91-da74-46e0-a73a-e6edb8b05202\">\n",
              "      <button class=\"colab-df-quickchart\" onclick=\"quickchart('df-12ab6d91-da74-46e0-a73a-e6edb8b05202')\"\n",
              "              title=\"Suggest charts.\"\n",
              "              style=\"display:none;\">\n",
              "\n",
              "<svg xmlns=\"http://www.w3.org/2000/svg\" height=\"24px\"viewBox=\"0 0 24 24\"\n",
              "     width=\"24px\">\n",
              "    <g>\n",
              "        <path d=\"M19 3H5c-1.1 0-2 .9-2 2v14c0 1.1.9 2 2 2h14c1.1 0 2-.9 2-2V5c0-1.1-.9-2-2-2zM9 17H7v-7h2v7zm4 0h-2V7h2v10zm4 0h-2v-4h2v4z\"/>\n",
              "    </g>\n",
              "</svg>\n",
              "      </button>\n",
              "    </div>\n",
              "\n",
              "<style>\n",
              "  .colab-df-quickchart {\n",
              "    background-color: #E8F0FE;\n",
              "    border: none;\n",
              "    border-radius: 50%;\n",
              "    cursor: pointer;\n",
              "    display: none;\n",
              "    fill: #1967D2;\n",
              "    height: 32px;\n",
              "    padding: 0 0 0 0;\n",
              "    width: 32px;\n",
              "  }\n",
              "\n",
              "  .colab-df-quickchart:hover {\n",
              "    background-color: #E2EBFA;\n",
              "    box-shadow: 0px 1px 2px rgba(60, 64, 67, 0.3), 0px 1px 3px 1px rgba(60, 64, 67, 0.15);\n",
              "    fill: #174EA6;\n",
              "  }\n",
              "\n",
              "  [theme=dark] .colab-df-quickchart {\n",
              "    background-color: #3B4455;\n",
              "    fill: #D2E3FC;\n",
              "  }\n",
              "\n",
              "  [theme=dark] .colab-df-quickchart:hover {\n",
              "    background-color: #434B5C;\n",
              "    box-shadow: 0px 1px 3px 1px rgba(0, 0, 0, 0.15);\n",
              "    filter: drop-shadow(0px 1px 2px rgba(0, 0, 0, 0.3));\n",
              "    fill: #FFFFFF;\n",
              "  }\n",
              "</style>\n",
              "\n",
              "    <script>\n",
              "      async function quickchart(key) {\n",
              "        const containerElement = document.querySelector('#' + key);\n",
              "        const charts = await google.colab.kernel.invokeFunction(\n",
              "            'suggestCharts', [key], {});\n",
              "      }\n",
              "    </script>\n",
              "\n",
              "      <script>\n",
              "\n",
              "function displayQuickchartButton(domScope) {\n",
              "  let quickchartButtonEl =\n",
              "    domScope.querySelector('#df-12ab6d91-da74-46e0-a73a-e6edb8b05202 button.colab-df-quickchart');\n",
              "  quickchartButtonEl.style.display =\n",
              "    google.colab.kernel.accessAllowed ? 'block' : 'none';\n",
              "}\n",
              "\n",
              "        displayQuickchartButton(document);\n",
              "      </script>\n",
              "      <style>\n",
              "    .colab-df-container {\n",
              "      display:flex;\n",
              "      flex-wrap:wrap;\n",
              "      gap: 12px;\n",
              "    }\n",
              "\n",
              "    .colab-df-convert {\n",
              "      background-color: #E8F0FE;\n",
              "      border: none;\n",
              "      border-radius: 50%;\n",
              "      cursor: pointer;\n",
              "      display: none;\n",
              "      fill: #1967D2;\n",
              "      height: 32px;\n",
              "      padding: 0 0 0 0;\n",
              "      width: 32px;\n",
              "    }\n",
              "\n",
              "    .colab-df-convert:hover {\n",
              "      background-color: #E2EBFA;\n",
              "      box-shadow: 0px 1px 2px rgba(60, 64, 67, 0.3), 0px 1px 3px 1px rgba(60, 64, 67, 0.15);\n",
              "      fill: #174EA6;\n",
              "    }\n",
              "\n",
              "    [theme=dark] .colab-df-convert {\n",
              "      background-color: #3B4455;\n",
              "      fill: #D2E3FC;\n",
              "    }\n",
              "\n",
              "    [theme=dark] .colab-df-convert:hover {\n",
              "      background-color: #434B5C;\n",
              "      box-shadow: 0px 1px 3px 1px rgba(0, 0, 0, 0.15);\n",
              "      filter: drop-shadow(0px 1px 2px rgba(0, 0, 0, 0.3));\n",
              "      fill: #FFFFFF;\n",
              "    }\n",
              "  </style>\n",
              "\n",
              "      <script>\n",
              "        const buttonEl =\n",
              "          document.querySelector('#df-f814cd61-b223-4326-b2c3-b46adaad4889 button.colab-df-convert');\n",
              "        buttonEl.style.display =\n",
              "          google.colab.kernel.accessAllowed ? 'block' : 'none';\n",
              "\n",
              "        async function convertToInteractive(key) {\n",
              "          const element = document.querySelector('#df-f814cd61-b223-4326-b2c3-b46adaad4889');\n",
              "          const dataTable =\n",
              "            await google.colab.kernel.invokeFunction('convertToInteractive',\n",
              "                                                     [key], {});\n",
              "          if (!dataTable) return;\n",
              "\n",
              "          const docLinkHtml = 'Like what you see? Visit the ' +\n",
              "            '<a target=\"_blank\" href=https://colab.research.google.com/notebooks/data_table.ipynb>data table notebook</a>'\n",
              "            + ' to learn more about interactive tables.';\n",
              "          element.innerHTML = '';\n",
              "          dataTable['output_type'] = 'display_data';\n",
              "          await google.colab.output.renderOutput(dataTable, element);\n",
              "          const docLink = document.createElement('div');\n",
              "          docLink.innerHTML = docLinkHtml;\n",
              "          element.appendChild(docLink);\n",
              "        }\n",
              "      </script>\n",
              "    </div>\n",
              "  </div>\n"
            ]
          },
          "metadata": {},
          "execution_count": 100
        }
      ]
    },
    {
      "cell_type": "code",
      "source": [
        "userdf.to_csv(\"/content/drive/MyDrive/My_new_numpy.csv\") #saved cleaned file"
      ],
      "metadata": {
        "id": "_P8kynDb8tLQ"
      },
      "execution_count": 101,
      "outputs": []
    },
    {
      "cell_type": "markdown",
      "source": [
        "#Merge Both Datasets"
      ],
      "metadata": {
        "id": "Y_bz25gY9Tst"
      }
    },
    {
      "cell_type": "code",
      "source": [
        "mergedf = pd.merge(playstoredf, userdf, on='App', how = 'inner')\n",
        "mergedf.head(5)"
      ],
      "metadata": {
        "id": "etCAm0uX9S_e",
        "colab": {
          "base_uri": "https://localhost:8080/",
          "height": 461
        },
        "outputId": "44e41780-e0a6-498c-cc77-ea22c227189f"
      },
      "execution_count": 102,
      "outputs": [
        {
          "output_type": "execute_result",
          "data": {
            "text/plain": [
              "                   App        Category  Rating  Reviews  Size  Installs  Type  \\\n",
              "0  Coloring book moana  ART_AND_DESIGN     3.9    967.0  14.0  500000.0  Free   \n",
              "1  Coloring book moana  ART_AND_DESIGN     3.9    967.0  14.0  500000.0  Free   \n",
              "2  Coloring book moana  ART_AND_DESIGN     3.9    967.0  14.0  500000.0  Free   \n",
              "3  Coloring book moana  ART_AND_DESIGN     3.9    967.0  14.0  500000.0  Free   \n",
              "4  Coloring book moana  ART_AND_DESIGN     3.9    967.0  14.0  500000.0  Free   \n",
              "\n",
              "   Price Content Rating                     Genres      Last Updated  \\\n",
              "0    0.0       Everyone  Art & Design;Pretend Play  January 15, 2018   \n",
              "1    0.0       Everyone  Art & Design;Pretend Play  January 15, 2018   \n",
              "2    0.0       Everyone  Art & Design;Pretend Play  January 15, 2018   \n",
              "3    0.0       Everyone  Art & Design;Pretend Play  January 15, 2018   \n",
              "4    0.0       Everyone  Art & Design;Pretend Play  January 15, 2018   \n",
              "\n",
              "  Current Ver   Android Ver  \\\n",
              "0       2.0.0  4.0.3 and up   \n",
              "1       2.0.0  4.0.3 and up   \n",
              "2       2.0.0  4.0.3 and up   \n",
              "3       2.0.0  4.0.3 and up   \n",
              "4       2.0.0  4.0.3 and up   \n",
              "\n",
              "                                   Translated_Review Sentiment  \\\n",
              "0  A kid's excessive ads. The types ads allowed a...  Negative   \n",
              "1                                         It bad >:(  Negative   \n",
              "2                                               like   Neutral   \n",
              "3                           I love colors inspyering  Positive   \n",
              "4                                             I hate  Negative   \n",
              "\n",
              "   Sentiment_Polarity  Sentiment_Subjectivity  \n",
              "0              -0.250                1.000000  \n",
              "1              -0.725                0.833333  \n",
              "2               0.000                0.000000  \n",
              "3               0.500                0.600000  \n",
              "4              -0.800                0.900000  "
            ],
            "text/html": [
              "\n",
              "\n",
              "  <div id=\"df-f3d74144-9a67-4b61-9a66-083298488fa3\">\n",
              "    <div class=\"colab-df-container\">\n",
              "      <div>\n",
              "<style scoped>\n",
              "    .dataframe tbody tr th:only-of-type {\n",
              "        vertical-align: middle;\n",
              "    }\n",
              "\n",
              "    .dataframe tbody tr th {\n",
              "        vertical-align: top;\n",
              "    }\n",
              "\n",
              "    .dataframe thead th {\n",
              "        text-align: right;\n",
              "    }\n",
              "</style>\n",
              "<table border=\"1\" class=\"dataframe\">\n",
              "  <thead>\n",
              "    <tr style=\"text-align: right;\">\n",
              "      <th></th>\n",
              "      <th>App</th>\n",
              "      <th>Category</th>\n",
              "      <th>Rating</th>\n",
              "      <th>Reviews</th>\n",
              "      <th>Size</th>\n",
              "      <th>Installs</th>\n",
              "      <th>Type</th>\n",
              "      <th>Price</th>\n",
              "      <th>Content Rating</th>\n",
              "      <th>Genres</th>\n",
              "      <th>Last Updated</th>\n",
              "      <th>Current Ver</th>\n",
              "      <th>Android Ver</th>\n",
              "      <th>Translated_Review</th>\n",
              "      <th>Sentiment</th>\n",
              "      <th>Sentiment_Polarity</th>\n",
              "      <th>Sentiment_Subjectivity</th>\n",
              "    </tr>\n",
              "  </thead>\n",
              "  <tbody>\n",
              "    <tr>\n",
              "      <th>0</th>\n",
              "      <td>Coloring book moana</td>\n",
              "      <td>ART_AND_DESIGN</td>\n",
              "      <td>3.9</td>\n",
              "      <td>967.0</td>\n",
              "      <td>14.0</td>\n",
              "      <td>500000.0</td>\n",
              "      <td>Free</td>\n",
              "      <td>0.0</td>\n",
              "      <td>Everyone</td>\n",
              "      <td>Art &amp; Design;Pretend Play</td>\n",
              "      <td>January 15, 2018</td>\n",
              "      <td>2.0.0</td>\n",
              "      <td>4.0.3 and up</td>\n",
              "      <td>A kid's excessive ads. The types ads allowed a...</td>\n",
              "      <td>Negative</td>\n",
              "      <td>-0.250</td>\n",
              "      <td>1.000000</td>\n",
              "    </tr>\n",
              "    <tr>\n",
              "      <th>1</th>\n",
              "      <td>Coloring book moana</td>\n",
              "      <td>ART_AND_DESIGN</td>\n",
              "      <td>3.9</td>\n",
              "      <td>967.0</td>\n",
              "      <td>14.0</td>\n",
              "      <td>500000.0</td>\n",
              "      <td>Free</td>\n",
              "      <td>0.0</td>\n",
              "      <td>Everyone</td>\n",
              "      <td>Art &amp; Design;Pretend Play</td>\n",
              "      <td>January 15, 2018</td>\n",
              "      <td>2.0.0</td>\n",
              "      <td>4.0.3 and up</td>\n",
              "      <td>It bad &gt;:(</td>\n",
              "      <td>Negative</td>\n",
              "      <td>-0.725</td>\n",
              "      <td>0.833333</td>\n",
              "    </tr>\n",
              "    <tr>\n",
              "      <th>2</th>\n",
              "      <td>Coloring book moana</td>\n",
              "      <td>ART_AND_DESIGN</td>\n",
              "      <td>3.9</td>\n",
              "      <td>967.0</td>\n",
              "      <td>14.0</td>\n",
              "      <td>500000.0</td>\n",
              "      <td>Free</td>\n",
              "      <td>0.0</td>\n",
              "      <td>Everyone</td>\n",
              "      <td>Art &amp; Design;Pretend Play</td>\n",
              "      <td>January 15, 2018</td>\n",
              "      <td>2.0.0</td>\n",
              "      <td>4.0.3 and up</td>\n",
              "      <td>like</td>\n",
              "      <td>Neutral</td>\n",
              "      <td>0.000</td>\n",
              "      <td>0.000000</td>\n",
              "    </tr>\n",
              "    <tr>\n",
              "      <th>3</th>\n",
              "      <td>Coloring book moana</td>\n",
              "      <td>ART_AND_DESIGN</td>\n",
              "      <td>3.9</td>\n",
              "      <td>967.0</td>\n",
              "      <td>14.0</td>\n",
              "      <td>500000.0</td>\n",
              "      <td>Free</td>\n",
              "      <td>0.0</td>\n",
              "      <td>Everyone</td>\n",
              "      <td>Art &amp; Design;Pretend Play</td>\n",
              "      <td>January 15, 2018</td>\n",
              "      <td>2.0.0</td>\n",
              "      <td>4.0.3 and up</td>\n",
              "      <td>I love colors inspyering</td>\n",
              "      <td>Positive</td>\n",
              "      <td>0.500</td>\n",
              "      <td>0.600000</td>\n",
              "    </tr>\n",
              "    <tr>\n",
              "      <th>4</th>\n",
              "      <td>Coloring book moana</td>\n",
              "      <td>ART_AND_DESIGN</td>\n",
              "      <td>3.9</td>\n",
              "      <td>967.0</td>\n",
              "      <td>14.0</td>\n",
              "      <td>500000.0</td>\n",
              "      <td>Free</td>\n",
              "      <td>0.0</td>\n",
              "      <td>Everyone</td>\n",
              "      <td>Art &amp; Design;Pretend Play</td>\n",
              "      <td>January 15, 2018</td>\n",
              "      <td>2.0.0</td>\n",
              "      <td>4.0.3 and up</td>\n",
              "      <td>I hate</td>\n",
              "      <td>Negative</td>\n",
              "      <td>-0.800</td>\n",
              "      <td>0.900000</td>\n",
              "    </tr>\n",
              "  </tbody>\n",
              "</table>\n",
              "</div>\n",
              "      <button class=\"colab-df-convert\" onclick=\"convertToInteractive('df-f3d74144-9a67-4b61-9a66-083298488fa3')\"\n",
              "              title=\"Convert this dataframe to an interactive table.\"\n",
              "              style=\"display:none;\">\n",
              "\n",
              "  <svg xmlns=\"http://www.w3.org/2000/svg\" height=\"24px\"viewBox=\"0 0 24 24\"\n",
              "       width=\"24px\">\n",
              "    <path d=\"M0 0h24v24H0V0z\" fill=\"none\"/>\n",
              "    <path d=\"M18.56 5.44l.94 2.06.94-2.06 2.06-.94-2.06-.94-.94-2.06-.94 2.06-2.06.94zm-11 1L8.5 8.5l.94-2.06 2.06-.94-2.06-.94L8.5 2.5l-.94 2.06-2.06.94zm10 10l.94 2.06.94-2.06 2.06-.94-2.06-.94-.94-2.06-.94 2.06-2.06.94z\"/><path d=\"M17.41 7.96l-1.37-1.37c-.4-.4-.92-.59-1.43-.59-.52 0-1.04.2-1.43.59L10.3 9.45l-7.72 7.72c-.78.78-.78 2.05 0 2.83L4 21.41c.39.39.9.59 1.41.59.51 0 1.02-.2 1.41-.59l7.78-7.78 2.81-2.81c.8-.78.8-2.07 0-2.86zM5.41 20L4 18.59l7.72-7.72 1.47 1.35L5.41 20z\"/>\n",
              "  </svg>\n",
              "      </button>\n",
              "\n",
              "\n",
              "\n",
              "    <div id=\"df-1cfd6d22-73b6-4eec-9a6f-60ca422fa3da\">\n",
              "      <button class=\"colab-df-quickchart\" onclick=\"quickchart('df-1cfd6d22-73b6-4eec-9a6f-60ca422fa3da')\"\n",
              "              title=\"Suggest charts.\"\n",
              "              style=\"display:none;\">\n",
              "\n",
              "<svg xmlns=\"http://www.w3.org/2000/svg\" height=\"24px\"viewBox=\"0 0 24 24\"\n",
              "     width=\"24px\">\n",
              "    <g>\n",
              "        <path d=\"M19 3H5c-1.1 0-2 .9-2 2v14c0 1.1.9 2 2 2h14c1.1 0 2-.9 2-2V5c0-1.1-.9-2-2-2zM9 17H7v-7h2v7zm4 0h-2V7h2v10zm4 0h-2v-4h2v4z\"/>\n",
              "    </g>\n",
              "</svg>\n",
              "      </button>\n",
              "    </div>\n",
              "\n",
              "<style>\n",
              "  .colab-df-quickchart {\n",
              "    background-color: #E8F0FE;\n",
              "    border: none;\n",
              "    border-radius: 50%;\n",
              "    cursor: pointer;\n",
              "    display: none;\n",
              "    fill: #1967D2;\n",
              "    height: 32px;\n",
              "    padding: 0 0 0 0;\n",
              "    width: 32px;\n",
              "  }\n",
              "\n",
              "  .colab-df-quickchart:hover {\n",
              "    background-color: #E2EBFA;\n",
              "    box-shadow: 0px 1px 2px rgba(60, 64, 67, 0.3), 0px 1px 3px 1px rgba(60, 64, 67, 0.15);\n",
              "    fill: #174EA6;\n",
              "  }\n",
              "\n",
              "  [theme=dark] .colab-df-quickchart {\n",
              "    background-color: #3B4455;\n",
              "    fill: #D2E3FC;\n",
              "  }\n",
              "\n",
              "  [theme=dark] .colab-df-quickchart:hover {\n",
              "    background-color: #434B5C;\n",
              "    box-shadow: 0px 1px 3px 1px rgba(0, 0, 0, 0.15);\n",
              "    filter: drop-shadow(0px 1px 2px rgba(0, 0, 0, 0.3));\n",
              "    fill: #FFFFFF;\n",
              "  }\n",
              "</style>\n",
              "\n",
              "    <script>\n",
              "      async function quickchart(key) {\n",
              "        const containerElement = document.querySelector('#' + key);\n",
              "        const charts = await google.colab.kernel.invokeFunction(\n",
              "            'suggestCharts', [key], {});\n",
              "      }\n",
              "    </script>\n",
              "\n",
              "      <script>\n",
              "\n",
              "function displayQuickchartButton(domScope) {\n",
              "  let quickchartButtonEl =\n",
              "    domScope.querySelector('#df-1cfd6d22-73b6-4eec-9a6f-60ca422fa3da button.colab-df-quickchart');\n",
              "  quickchartButtonEl.style.display =\n",
              "    google.colab.kernel.accessAllowed ? 'block' : 'none';\n",
              "}\n",
              "\n",
              "        displayQuickchartButton(document);\n",
              "      </script>\n",
              "      <style>\n",
              "    .colab-df-container {\n",
              "      display:flex;\n",
              "      flex-wrap:wrap;\n",
              "      gap: 12px;\n",
              "    }\n",
              "\n",
              "    .colab-df-convert {\n",
              "      background-color: #E8F0FE;\n",
              "      border: none;\n",
              "      border-radius: 50%;\n",
              "      cursor: pointer;\n",
              "      display: none;\n",
              "      fill: #1967D2;\n",
              "      height: 32px;\n",
              "      padding: 0 0 0 0;\n",
              "      width: 32px;\n",
              "    }\n",
              "\n",
              "    .colab-df-convert:hover {\n",
              "      background-color: #E2EBFA;\n",
              "      box-shadow: 0px 1px 2px rgba(60, 64, 67, 0.3), 0px 1px 3px 1px rgba(60, 64, 67, 0.15);\n",
              "      fill: #174EA6;\n",
              "    }\n",
              "\n",
              "    [theme=dark] .colab-df-convert {\n",
              "      background-color: #3B4455;\n",
              "      fill: #D2E3FC;\n",
              "    }\n",
              "\n",
              "    [theme=dark] .colab-df-convert:hover {\n",
              "      background-color: #434B5C;\n",
              "      box-shadow: 0px 1px 3px 1px rgba(0, 0, 0, 0.15);\n",
              "      filter: drop-shadow(0px 1px 2px rgba(0, 0, 0, 0.3));\n",
              "      fill: #FFFFFF;\n",
              "    }\n",
              "  </style>\n",
              "\n",
              "      <script>\n",
              "        const buttonEl =\n",
              "          document.querySelector('#df-f3d74144-9a67-4b61-9a66-083298488fa3 button.colab-df-convert');\n",
              "        buttonEl.style.display =\n",
              "          google.colab.kernel.accessAllowed ? 'block' : 'none';\n",
              "\n",
              "        async function convertToInteractive(key) {\n",
              "          const element = document.querySelector('#df-f3d74144-9a67-4b61-9a66-083298488fa3');\n",
              "          const dataTable =\n",
              "            await google.colab.kernel.invokeFunction('convertToInteractive',\n",
              "                                                     [key], {});\n",
              "          if (!dataTable) return;\n",
              "\n",
              "          const docLinkHtml = 'Like what you see? Visit the ' +\n",
              "            '<a target=\"_blank\" href=https://colab.research.google.com/notebooks/data_table.ipynb>data table notebook</a>'\n",
              "            + ' to learn more about interactive tables.';\n",
              "          element.innerHTML = '';\n",
              "          dataTable['output_type'] = 'display_data';\n",
              "          await google.colab.output.renderOutput(dataTable, element);\n",
              "          const docLink = document.createElement('div');\n",
              "          docLink.innerHTML = docLinkHtml;\n",
              "          element.appendChild(docLink);\n",
              "        }\n",
              "      </script>\n",
              "    </div>\n",
              "  </div>\n"
            ]
          },
          "metadata": {},
          "execution_count": 102
        }
      ]
    },
    {
      "cell_type": "markdown",
      "source": [
        "# ***4. Data Vizualization, Storytelling & Experimenting with charts : Understand the relationships between variables***"
      ],
      "metadata": {
        "id": "GF8Ens_Soomf"
      }
    },
    {
      "cell_type": "markdown",
      "source": [
        "#### Chart - 1 (PIE_CHART)"
      ],
      "metadata": {
        "id": "0wOQAZs5pc--"
      }
    },
    {
      "cell_type": "code",
      "source": [
        "# Count the occurrences of each sentiment value\n",
        "sentiment_counts = mergedf['Sentiment'].value_counts()\n",
        "\n",
        "# Create a color palette\n",
        "palette_color = sns.color_palette('bright')\n",
        "\n",
        "# Plot a pie chart\n",
        "plt.pie(sentiment_counts, labels=sentiment_counts.index, colors=palette_color, shadow=True, autopct='%.2f')\n",
        "\n",
        "# Add a title\n",
        "plt.title('Sentiment Distribution')\n",
        "\n",
        "# Display the pie chart\n",
        "plt.show()"
      ],
      "metadata": {
        "id": "7v_ESjsspbW7",
        "colab": {
          "base_uri": "https://localhost:8080/",
          "height": 0
        },
        "outputId": "2ccc3199-3221-49fc-8534-462123470060"
      },
      "execution_count": 103,
      "outputs": [
        {
          "output_type": "display_data",
          "data": {
            "text/plain": [
              "<Figure size 640x480 with 1 Axes>"
            ],
            "image/png": "[encoded data removed]"
          },
          "metadata": {}
        }
      ]
    },
    {
      "cell_type": "markdown",
      "source": [
        "##### 1. Why did you pick the specific chart?"
      ],
      "metadata": {
        "id": "K5QZ13OEpz2H"
      }
    },
    {
      "cell_type": "markdown",
      "source": [
        "he pie chart was chosen to visualize the distribution of sentiment categories (Positive, Negative, Neutral). Pie charts are useful when you want to represent the parts of a whole and show the relative proportions of different categories."
      ],
      "metadata": {
        "id": "XESiWehPqBRc"
      }
    },
    {
      "cell_type": "markdown",
      "source": [
        "##### 2. What is/are the insight(s) found from the chart?"
      ],
      "metadata": {
        "id": "lQ7QKXXCp7Bj"
      }
    },
    {
      "cell_type": "markdown",
      "source": [
        "Without seeing the chart or the data it represents, I cannot provide specific insights. However, based on a typical sentiment distribution chart:\n",
        "\n",
        "You can quickly see the proportion of positive, negative, and neutral sentiments in the dataset.\n",
        "If one sentiment category dominates significantly, it might indicate a strong bias in the dataset towards that sentiment.\n",
        "The distribution might reveal patterns or imbalances that could be explored further. For instance, a high percentage of negative sentiment might indicate customer dissatisfaction."
      ],
      "metadata": {
        "id": "C_j1G7yiqdRP"
      }
    },
    {
      "cell_type": "markdown",
      "source": [
        "##### 3. Will the gained insights help creating a positive business impact?\n",
        "Are there any insights that lead to negative growth? Justify with specific reason."
      ],
      "metadata": {
        "id": "448CDAPjqfQr"
      }
    },
    {
      "cell_type": "markdown",
      "source": [
        "**Positive Impact:** Insights gained from the chart could help in several ways. If the majority of sentiments are positive, it indicates customer satisfaction, which can lead to positive business impacts like increased customer loyalty, word-of-mouth referrals, and potentially higher sales.\n",
        "\n",
        "**Negative Impact:** If negative sentiment dominates, this could lead to negative growth. High negative sentiment might indicate customer complaints, product issues, or service problems. Addressing these concerns promptly can prevent customer churn, negative reviews, and loss of business.\n",
        "\n",
        "**Neutral Sentiment:** A high proportion of neutral sentiment might indicate that customers are generally indifferent, which could potentially lead to stagnation. It might be important to understand why customers are not expressing stronger opinions, whether it's due to a lack of engagement or other reasons"
      ],
      "metadata": {
        "id": "3cspy4FjqxJW"
      }
    },
    {
      "cell_type": "markdown",
      "source": [
        "#### Chart - 2 BOX PLOT"
      ],
      "metadata": {
        "id": "KSlN3yHqYklG"
      }
    },
    {
      "cell_type": "code",
      "source": [
        "# Create a box plot using seaborn with groupby\n",
        "fig, ax = plt.subplots()\n",
        "fig.set_size_inches(12, 8)\n",
        "sns.boxplot(x='Type', y='Sentiment_Polarity', data=mergedf, ax=ax)\n",
        "\n",
        "# Set title and labels\n",
        "ax.set_title('Sentiment Polarity Distribution')\n",
        "ax.set_xlabel('App Type')\n",
        "ax.set_ylabel('Sentiment Polarity')\n",
        "\n",
        "# Show the plot\n",
        "plt.show()"
      ],
      "metadata": {
        "id": "R4YgtaqtYklH",
        "colab": {
          "base_uri": "https://localhost:8080/",
          "height": 0
        },
        "outputId": "4acee34a-91bd-4f3e-e0d9-c7b11596dae2"
      },
      "execution_count": 104,
      "outputs": [
        {
          "output_type": "display_data",
          "data": {
            "text/plain": [
              "<Figure size 1200x800 with 1 Axes>"
            ],
            "image/png": "[encoded data removed]"
          },
          "metadata": {}
        }
      ]
    },
    {
      "cell_type": "markdown",
      "source": [
        "##### 1. Why did you pick the specific chart?"
      ],
      "metadata": {
        "id": "t6dVpIINYklI"
      }
    },
    {
      "cell_type": "markdown",
      "source": [
        " A box plot (also known as a box-and-whisker plot) is commonly used to visualize the distribution of a dataset. It provides insights into the median, quartiles, and potential outliers. This makes it useful for comparing the distribution of sentiment polarity between different categories (in this case, free and paid apps). It allows for quick comparison of central tendencies and spread of the sentiment polarity values."
      ],
      "metadata": {
        "id": "5aaW0BYyYklI"
      }
    },
    {
      "cell_type": "markdown",
      "source": [
        "##### 2. What is/are the insight(s) found from the chart?"
      ],
      "metadata": {
        "id": "ijmpgYnKYklI"
      }
    },
    {
      "cell_type": "markdown",
      "source": [
        "You can easily identify the median sentiment polarity for each app type. If one type consistently has a higher median polarity, it might suggest that users of that type of app tend to express more positive sentiments.\n",
        "\n",
        "You can observe the spread of sentiment polarity within each category. A larger spread could indicate more varied user opinions.\n",
        "\n",
        "Outliers, if present, might suggest extreme sentiment expressions that could be valuable for further investigation."
      ],
      "metadata": {
        "id": "PSx9atu2YklI"
      }
    },
    {
      "cell_type": "markdown",
      "source": [
        "##### 3. Will the gained insights help creating a positive business impact?\n",
        "Are there any insights that lead to negative growth? Justify with specific reason."
      ],
      "metadata": {
        "id": "-JiQyfWJYklI"
      }
    },
    {
      "cell_type": "markdown",
      "source": [
        "**Positive Impact:** If the sentiment polarity for paid apps is consistently higher than that for free apps, this could imply that users of paid apps are generally more satisfied or engaged. This might lead to positive business impacts such as increased revenue, user retention, and brand loyalty.\n",
        "\n",
        "**Negative Impact:** Conversely, if sentiment polarity for paid apps is consistently lower than that for free apps, this might indicate that users are not finding value in the paid offerings, potentially leading to negative growth. Additionally, if either free or paid apps show a wide range of sentiment polarities and a high number of negative outliers, it might indicate widespread dissatisfaction among users, which could lead to negative impacts on user retention and growth."
      ],
      "metadata": {
        "id": "BcBbebzrYklV"
      }
    },
    {
      "cell_type": "markdown",
      "source": [
        "#### Chart - 3(COUNT-PLOT)"
      ],
      "metadata": {
        "id": "EM7whBJCYoAo"
      }
    },
    {
      "cell_type": "code",
      "source": [
        "import seaborn as sns\n",
        "import matplotlib.pyplot as plt\n",
        "\n",
        "# Assuming you have a DataFrame named 'playstoredf' with a 'Category' column\n",
        "\n",
        "# Count the number of apps in each category\n",
        "app_categories = playstoredf['Category'].value_counts().sort_values()\n",
        "\n",
        "# Create a color palette\n",
        "palette_color = sns.color_palette('viridis')\n",
        "\n",
        "# Create a countplot using seaborn\n",
        "plt.figure(figsize=(14, 7))\n",
        "sns.countplot(data=playstoredf, x='Category', order=app_categories.index, palette=palette_color)\n",
        "\n",
        "# Rotate x-axis labels for better visibility\n",
        "plt.xticks(rotation=90)\n",
        "\n",
        "# Set labels and title\n",
        "plt.xlabel('App Category')\n",
        "plt.ylabel('Number of Apps')\n",
        "plt.title('App Distribution by Category')\n",
        "\n",
        "# Show the plot\n",
        "plt.show()\n"
      ],
      "metadata": {
        "id": "t6GMdE67YoAp",
        "colab": {
          "base_uri": "https://localhost:8080/",
          "height": 0
        },
        "outputId": "46c4c30e-fdf4-4262-d8a1-f128ea18fa26"
      },
      "execution_count": 105,
      "outputs": [
        {
          "output_type": "display_data",
          "data": {
            "text/plain": [
              "<Figure size 1400x700 with 1 Axes>"
            ],
            "image/png": "[encoded data removed]"
          },
          "metadata": {}
        }
      ]
    },
    {
      "cell_type": "markdown",
      "source": [
        "##### 1. Why did you pick the specific chart?"
      ],
      "metadata": {
        "id": "fge-S5ZAYoAp"
      }
    },
    {
      "cell_type": "markdown",
      "source": [
        "The choice of using a countplot (bar plot) to visualize the distribution of app categories and their corresponding counts is appropriate. Countplots are suitable for displaying the frequency or count of categorical data, making them effective for showing how many apps fall into each category."
      ],
      "metadata": {
        "id": "5dBItgRVYoAp"
      }
    },
    {
      "cell_type": "markdown",
      "source": [
        "##### 2. What is/are the insight(s) found from the chart?"
      ],
      "metadata": {
        "id": "85gYPyotYoAp"
      }
    },
    {
      "cell_type": "markdown",
      "source": [
        "Category Popularity: You can easily identify which categories have the most apps. This information can help businesses understand which types of apps are more prevalent in the market.\n",
        "\n",
        "Market Saturation: If certain categories are significantly more populated than others, it might indicate a highly competitive market in those categories.\n",
        "\n",
        "Niche Opportunities: Categories with fewer apps might represent niche markets with less competition. This could be an opportunity for businesses to enter a less crowded space.\n",
        "\n",
        "Diversity: The chart can reveal the diversity of app offerings across different categories, giving insights into the range of user needs and interests."
      ],
      "metadata": {
        "id": "4jstXR6OYoAp"
      }
    },
    {
      "cell_type": "markdown",
      "source": [
        "##### 3. Will the gained insights help creating a positive business impact?\n",
        "Are there any insights that lead to negative growth? Justify with specific reason."
      ],
      "metadata": {
        "id": "RoGjAbkUYoAp"
      }
    },
    {
      "cell_type": "markdown",
      "source": [
        "Positive Impact:\n",
        "\n",
        "If certain categories are very popular and have a large number of apps, this might indicate high user demand. Developing apps in these categories could potentially lead to positive business impact if the apps meet users' needs effectively.\n",
        "Niche categories might offer growth opportunities with less competition. Developing unique apps in these categories could attract a dedicated user base.\n",
        "\n",
        "Negative Impact:\n",
        "\n",
        "Highly saturated categories might lead to increased competition, making it difficult for new apps to gain attention and users. This could potentially lead to negative growth for apps in these categories.\n",
        "If certain categories have very few apps, it might suggest a lack of demand or interest from users. Developing apps in such categories might not result in positive growth if there's limited user engagement."
      ],
      "metadata": {
        "id": "zfJ8IqMcYoAp"
      }
    },
    {
      "cell_type": "markdown",
      "source": [
        "#### Chart - 4 (BAR_CHART)"
      ],
      "metadata": {
        "id": "4Of9eVA-YrdM"
      }
    },
    {
      "cell_type": "code",
      "source": [
        "playstoredf['Installs'].unique()"
      ],
      "metadata": {
        "id": "CczQzFu0FOPm",
        "colab": {
          "base_uri": "https://localhost:8080/"
        },
        "outputId": "8133ecaf-ee83-4cbe-d962-2d3acaf14e16"
      },
      "execution_count": 106,
      "outputs": [
        {
          "output_type": "execute_result",
          "data": {
            "text/plain": [
              "array([1.e+04, 5.e+05, 5.e+06, 5.e+07, 1.e+05, 5.e+04, 1.e+06, 1.e+07,\n",
              "       5.e+03, 1.e+08, 1.e+09, 1.e+03, 5.e+08, 1.e+02, 5.e+02, 1.e+01,\n",
              "       5.e+00, 5.e+01, 1.e+00])"
            ]
          },
          "metadata": {},
          "execution_count": 106
        }
      ]
    },
    {
      "cell_type": "code",
      "source": [
        "# Group by category and sum the installs\n",
        "app_category_installs = playstoredf.groupby('Category').sum().sort_values('Installs', ascending=False)\n",
        "\n",
        "# Create a barplot using seaborn\n",
        "plt.figure(figsize=(14, 7))\n",
        "sns.barplot(x=app_category_installs.index, y=app_category_installs['Installs'], palette='bright')\n",
        "\n",
        "# Rotate x-axis labels for better visibility\n",
        "plt.xticks(rotation=90)\n",
        "\n",
        "# Set labels and title\n",
        "plt.xlabel('App Category')\n",
        "plt.ylabel('Number of Installs')\n",
        "plt.title('App Category vs Number of Installs')\n",
        "\n",
        "# Show the plot\n",
        "plt.show()"
      ],
      "metadata": {
        "id": "irlUoxc8YrdO",
        "colab": {
          "base_uri": "https://localhost:8080/",
          "height": 0
        },
        "outputId": "5aa7db4d-91b8-4fbd-e0ae-79fc837f755a"
      },
      "execution_count": 107,
      "outputs": [
        {
          "output_type": "stream",
          "name": "stderr",
          "text": [
            "<ipython-input-107-d84e7b2e8a3f>:2: FutureWarning: The default value of numeric_only in DataFrameGroupBy.sum is deprecated. In a future version, numeric_only will default to False. Either specify numeric_only or select only columns which should be valid for the function.\n",
            "  app_category_installs = playstoredf.groupby('Category').sum().sort_values('Installs', ascending=False)\n"
          ]
        },
        {
          "output_type": "display_data",
          "data": {
            "text/plain": [
              "<Figure size 1400x700 with 1 Axes>"
            ],
            "image/png": "[encoded data removed]"
          },
          "metadata": {}
        }
      ]
    },
    {
      "cell_type": "markdown",
      "source": [
        "##### 1. Why did you pick the specific chart?"
      ],
      "metadata": {
        "id": "iky9q4vBYrdO"
      }
    },
    {
      "cell_type": "markdown",
      "source": [
        "The choice of using a bar plot (bar chart) is suitable for visualizing the relationship between categorical data (app categories) and their corresponding quantitative values (number of installs). Bar plots are effective for displaying comparisons between different categories."
      ],
      "metadata": {
        "id": "aJRCwT6DYrdO"
      }
    },
    {
      "cell_type": "markdown",
      "source": [
        "##### 2. What is/are the insight(s) found from the chart?"
      ],
      "metadata": {
        "id": "F6T5p64dYrdO"
      }
    },
    {
      "cell_type": "markdown",
      "source": [
        "Category Popularity: The chart likely shows the number of installs for different app categories. You can easily identify which categories have the highest number of installs. This information helps you understand which app categories are the most popular or widely used among users.\n",
        "\n",
        "Comparative Analysis: By comparing the heights of the bars, you can quickly determine which categories are performing better in terms of the number of installs. This comparison might reveal which categories have the highest user engagement.\n",
        "\n",
        "Identifying Trends: If certain categories consistently have high numbers of installs, it might indicate trends in user preferences. On the other hand, categories with lower installs could represent opportunities for growth or improvement."
      ],
      "metadata": {
        "id": "Xx8WAJvtYrdO"
      }
    },
    {
      "cell_type": "markdown",
      "source": [
        "##### 3. Will the gained insights help creating a positive business impact?\n",
        "Are there any insights that lead to negative growth? Justify with specific reason."
      ],
      "metadata": {
        "id": "y-Ehk30pYrdP"
      }
    },
    {
      "cell_type": "markdown",
      "source": [
        "Positive Impact: If a particular category (such as gaming) has a significantly higher number of installs compared to others, this suggests that it is popular among users. This insight can have a positive business impact, as it indicates a potential market with high user demand.\n",
        "\n",
        "Gaming Popularity: If the 'Gaming' category has a high number of installs, it indicates that gaming apps are indeed popular. This popularity could lead to various positive impacts, including revenue generation, user engagement, and brand recognition.\n",
        "\n",
        "Diversification: While the popularity of gaming apps might create positive impacts, it's also essential for businesses to consider diversification. Relying solely on one category might limit growth opportunities. Exploring other popular categories or niche markets could also lead to positive business outcomes."
      ],
      "metadata": {
        "id": "jLNxxz7MYrdP"
      }
    },
    {
      "cell_type": "markdown",
      "source": [
        "#### Chart - 5(HISTPLOT)"
      ],
      "metadata": {
        "id": "bamQiAODYuh1"
      }
    },
    {
      "cell_type": "code",
      "source": [
        "# Calculate the average rating for each category\n",
        "avg_rating = playstoredf.groupby('Category')['Rating'].mean()\n",
        "\n",
        "# Create a histogram using seaborn\n",
        "plt.figure(figsize=(14, 7))\n",
        "sns.histplot(data=avg_rating, color='green', kde=False)  # Use kde=True for kernel density estimation\n",
        "plt.axvline(playstoredf['Rating'].mean(), color='yellow', linestyle='--')\n",
        "\n",
        "# Set labels and title\n",
        "plt.xlabel('Average Rating')\n",
        "plt.ylabel('Number of App Categories')\n",
        "plt.title('Histogram of Average Rating')\n",
        "\n",
        "# Show the plot\n",
        "plt.show()"
      ],
      "metadata": {
        "id": "TIJwrbroYuh3",
        "colab": {
          "base_uri": "https://localhost:8080/",
          "height": 0
        },
        "outputId": "185ec9c0-7ead-4fc9-e41f-45275c7cc7b0"
      },
      "execution_count": 108,
      "outputs": [
        {
          "output_type": "display_data",
          "data": {
            "text/plain": [
              "<Figure size 1400x700 with 1 Axes>"
            ],
            "image/png": "[encoded data removed]"
          },
          "metadata": {}
        }
      ]
    },
    {
      "cell_type": "markdown",
      "source": [
        "##### 1. Why did you pick the specific chart?"
      ],
      "metadata": {
        "id": "QHF8YVU7Yuh3"
      }
    },
    {
      "cell_type": "markdown",
      "source": [
        "The choice of using a histogram is suitable for visualizing the distribution of a continuous variable (average ratings in this case). Histograms help identify patterns, concentrations, and outliers in the data."
      ],
      "metadata": {
        "id": "dcxuIMRPYuh3"
      }
    },
    {
      "cell_type": "markdown",
      "source": [
        "##### 2. What is/are the insight(s) found from the chart?"
      ],
      "metadata": {
        "id": "GwzvFGzlYuh3"
      }
    },
    {
      "cell_type": "markdown",
      "source": [
        "Rating Distribution: You can observe the distribution of average ratings across app categories. This can help you understand whether ratings are concentrated in a specific range or if they are spread out widely.\n",
        "\n",
        "Central Tendency: The central tendency of the average ratings can be identified, which might indicate the most common rating range.\n",
        "\n",
        "User Satisfaction: If the histogram is skewed towards higher ratings, it suggests that users are generally satisfied with the apps. If it's skewed towards lower ratings, it might signal user dissatisfaction.\n",
        "\n",
        "Quality Perception: Businesses can gauge how users perceive the quality of apps in different categories based on the ratings. High ratings may indicate a positive user experience and app quality."
      ],
      "metadata": {
        "id": "uyqkiB8YYuh3"
      }
    },
    {
      "cell_type": "markdown",
      "source": [
        "##### 3. Will the gained insights help creating a positive business impact?\n",
        "Are there any insights that lead to negative growth? Justify with specific reason."
      ],
      "metadata": {
        "id": "qYpmQ266Yuh3"
      }
    },
    {
      "cell_type": "markdown",
      "source": [
        "Positive Impact: Insights gained from the histogram can have a positive business impact. High average ratings across categories indicate satisfied users, which can lead to increased user retention, positive reviews, and improved brand reputation.\n",
        "\n",
        "Negative Impact: If the histogram shows a concentration of low ratings, it might indicate issues with app quality or user experience. This could lead to negative business impacts such as user churn, poor reviews, and potential revenue loss."
      ],
      "metadata": {
        "id": "_WtzZ_hCYuh4"
      }
    },
    {
      "cell_type": "markdown",
      "source": [
        "#### Chart - 6(JOINT-PLOT)"
      ],
      "metadata": {
        "id": "OH-pJp9IphqM"
      }
    },
    {
      "cell_type": "code",
      "source": [
        "# Create a joint plot using Seaborn\n",
        "sns.jointplot(x=playstoredf['Size'], y=playstoredf['Rating'], height=8, kind='hex')\n",
        "\n",
        "# Show the plot\n",
        "plt.show()"
      ],
      "metadata": {
        "id": "kuRf4wtuphqN",
        "colab": {
          "base_uri": "https://localhost:8080/",
          "height": 0
        },
        "outputId": "92dfc0c7-122e-4053-ce0b-52c7d416be1c"
      },
      "execution_count": 109,
      "outputs": [
        {
          "output_type": "display_data",
          "data": {
            "text/plain": [
              "<Figure size 800x800 with 3 Axes>"
            ],
            "image/png": "[encoded data removed]"
          },
          "metadata": {}
        }
      ]
    },
    {
      "cell_type": "markdown",
      "source": [
        "##### 1. Why did you pick the specific chart?"
      ],
      "metadata": {
        "id": "bbFf2-_FphqN"
      }
    },
    {
      "cell_type": "markdown",
      "source": [
        "This plot provides insights into the relationship between the size of the apps and their ratings. Hexbin plots are useful when you have a large amount of data and you want to visualize the density of points."
      ],
      "metadata": {
        "id": "loh7H2nzphqN"
      }
    },
    {
      "cell_type": "markdown",
      "source": [
        "##### 2. What is/are the insight(s) found from the chart?"
      ],
      "metadata": {
        "id": "_ouA3fa0phqN"
      }
    },
    {
      "cell_type": "markdown",
      "source": [
        "App Size and Ratings: The hexbin plot helps you see how the distribution of app sizes relates to their ratings. You can observe whether apps with certain sizes tend to receive higher or lower ratings.\n",
        "\n",
        "Density: The density of points in different areas of the plot indicates where data points are more concentrated. This can show if there's a particular size range that is associated with higher or lower ratings.\n",
        "\n",
        "Outliers: Outliers or unusual patterns in the hexbins might indicate interesting cases where app size and ratings deviate from the norm.App Size and Ratings: The hexbin plot helps you see how the distribution of app sizes relates to their ratings. You can observe whether apps with certain sizes tend to receive higher or lower ratings.\n",
        "\n",
        "Density: The density of points in different areas of the plot indicates where data points are more concentrated. This can show if there's a particular size range that is associated with higher or lower ratings.\n",
        "Outliers: Outliers or unusual patterns in the hexbins might indicate interesting cases where app size and ratings deviate from the norm."
      ],
      "metadata": {
        "id": "VECbqPI7phqN"
      }
    },
    {
      "cell_type": "markdown",
      "source": [
        "##### 3. Will the gained insights help creating a positive business impact?\n",
        "Are there any insights that lead to negative growth? Justify with specific reason."
      ],
      "metadata": {
        "id": "Seke61FWphqN"
      }
    },
    {
      "cell_type": "markdown",
      "source": [
        "Optimal App Size: Insights from this plot could help businesses determine if there's an optimal size range that tends to result in higher ratings. Developing apps within this size range might lead to better user satisfaction and positive reviews.\n",
        "\n",
        "User Experience: Understanding how app size relates to ratings can guide decisions about optimizing app performance, download times, and user experience. Smaller and more efficient apps might lead to higher ratings.\n",
        "\n",
        "Resource Allocation: If larger apps tend to have lower ratings, businesses might prioritize optimizing app size to create a positive impact on user satisfaction."
      ],
      "metadata": {
        "id": "DW4_bGpfphqN"
      }
    },
    {
      "cell_type": "markdown",
      "source": [
        "#### Chart - 7(Scatter-Plot)"
      ],
      "metadata": {
        "id": "PIIx-8_IphqN"
      }
    },
    {
      "cell_type": "code",
      "source": [
        "# Create a scatter plot using Seaborn\n",
        "plt.figure(figsize=(14, 10))\n",
        "sns.scatterplot(data=playstoredf, x='Price', y='Category', alpha=0.5)\n",
        "\n",
        "# Set labels and title\n",
        "plt.xlabel('Price')\n",
        "plt.ylabel('App Category')\n",
        "plt.title('App Price vs Category')\n",
        "\n",
        "# Show the plot\n",
        "plt.show()"
      ],
      "metadata": {
        "id": "lqAIGUfyphqO",
        "colab": {
          "base_uri": "https://localhost:8080/",
          "height": 0
        },
        "outputId": "2f730e5c-fc26-4d14-ae0b-14e7aef93e4a"
      },
      "execution_count": 110,
      "outputs": [
        {
          "output_type": "display_data",
          "data": {
            "text/plain": [
              "<Figure size 1400x1000 with 1 Axes>"
            ],
            "image/png": "[encoded data removed]"
          },
          "metadata": {}
        }
      ]
    },
    {
      "cell_type": "markdown",
      "source": [
        "##### 1. Why did you pick the specific chart?"
      ],
      "metadata": {
        "id": "t27r6nlMphqO"
      }
    },
    {
      "cell_type": "markdown",
      "source": [
        "The choice of using a scatter plot is suitable for visualizing the relationship between two continuous variables: app prices and categories. Scatter plots help identify patterns, trends, and potential outliers in the data."
      ],
      "metadata": {
        "id": "iv6ro40sphqO"
      }
    },
    {
      "cell_type": "markdown",
      "source": [
        "##### 2. What is/are the insight(s) found from the chart?"
      ],
      "metadata": {
        "id": "r2jJGEOYphqO"
      }
    },
    {
      "cell_type": "markdown",
      "source": [
        "Price Distribution: The scatter plot allows you to observe how app prices are distributed within each category. You can identify whether certain categories tend to have higher or lower prices.\n",
        "\n",
        "Outliers: Outlying points might indicate apps with unusual pricing within specific categories. These could be premium apps, free apps with in-app purchases, or apps with pricing strategies that deviate from the norm.\n",
        "\n",
        "Price Comparison: You can compare pricing patterns across different categories and identify any commonalities or differences in pricing strategies."
      ],
      "metadata": {
        "id": "Po6ZPi4hphqO"
      }
    },
    {
      "cell_type": "markdown",
      "source": [
        "##### 3. Will the gained insights help creating a positive business impact?\n",
        "Are there any insights that lead to negative growth? Justify with specific reason."
      ],
      "metadata": {
        "id": "b0JNsNcRphqO"
      }
    },
    {
      "cell_type": "markdown",
      "source": [
        "Pricing Strategy: Insights from the scatter plot can inform businesses about effective pricing strategies for different app categories. It might reveal whether users in certain categories are more willing to pay higher prices for apps.\n",
        "\n",
        "Competitive Analysis: By comparing app prices across categories, businesses can gain insights into how their pricing compares to competitors within each category.\n",
        "\n",
        "Revenue Optimization: Understanding pricing trends and patterns can help optimize revenue generation. It might lead to adjustments in pricing models, introduction of new pricing tiers, or special offers based on user preferences within specific categories.\n",
        "\n",
        "Negative Growth Insights:\n",
        "\n",
        "Overpriced Apps: If the scatter plot shows that most apps within a certain category have high prices and low user engagement (downloads, ratings), it might indicate that the category is overpriced relative to user expectations. This could lead to negative growth as users might avoid purchasing or engaging with such apps."
      ],
      "metadata": {
        "id": "xvSq8iUTphqO"
      }
    },
    {
      "cell_type": "markdown",
      "source": [
        "#### Chart - 8(PIE-CHART)"
      ],
      "metadata": {
        "id": "BZR9WyysphqO"
      }
    },
    {
      "cell_type": "code",
      "source": [
        "# Group by app type and count the number of apps\n",
        "freevspaid = playstoredf.groupby('Type').size()\n",
        "\n",
        "# Create a pie chart using matplotlib\n",
        "plt.figure(figsize=(12, 8))\n",
        "plt.pie(freevspaid, labels=['Free', 'Paid'], shadow=True, autopct='%.2f')\n",
        "\n",
        "# Add a title\n",
        "plt.title('Distribution of Free vs Paid Apps')\n",
        "\n",
        "# Show the pie chart\n",
        "plt.show()"
      ],
      "metadata": {
        "id": "TdPTWpAVphqO",
        "colab": {
          "base_uri": "https://localhost:8080/",
          "height": 0
        },
        "outputId": "006c14b7-5381-4757-e0ca-28158bf1d5a9"
      },
      "execution_count": 111,
      "outputs": [
        {
          "output_type": "display_data",
          "data": {
            "text/plain": [
              "<Figure size 1200x800 with 1 Axes>"
            ],
            "image/png": "[encoded data removed]"
          },
          "metadata": {}
        }
      ]
    },
    {
      "cell_type": "markdown",
      "source": [
        "##### 1. Why did you pick the specific chart?"
      ],
      "metadata": {
        "id": "jj7wYXLtphqO"
      }
    },
    {
      "cell_type": "markdown",
      "source": [
        " A pie chart provides a clear visual comparison of the proportions of two categories (free and paid apps) within a whole (total number of apps). This makes it easy to understand the relative distribution at a glance."
      ],
      "metadata": {
        "id": "Ob8u6rCTphqO"
      }
    },
    {
      "cell_type": "markdown",
      "source": [
        "##### 2. What is/are the insight(s) found from the chart?"
      ],
      "metadata": {
        "id": "eZrbJ2SmphqO"
      }
    },
    {
      "cell_type": "markdown",
      "source": [
        "Proportion of Free vs. Paid Apps: The pie chart clearly displays the proportion of free and paid apps in your dataset. You can easily see what percentage of apps are offered for free and what percentage are paid.\n",
        "\n",
        "User Engagement and Adoption:\n",
        "\n",
        "Free Apps: If the majority of apps are free, it suggests that your focus might be on user engagement and reaching a wider audience. Free apps could attract more downloads and potentially lead to increased user adoption.\n",
        "Paid Apps: If a significant portion of apps are paid, it might indicate a focus on monetization strategies. Users who pay for apps might have higher engagement and commitment to the app's functionality.\n",
        "Monetization Strategy:\n",
        "\n",
        "Free Apps: A higher proportion of free apps could imply that your business is aiming to generate revenue through alternative means, such as in-app advertisements, microtransactions, or premium features within free apps.\n",
        "Paid Apps: A larger share of paid apps might indicate a direct revenue model, where users pay upfront for app access. This could lead to higher immediate revenue per download.\n",
        "User Expectations and Value Perception:\n",
        "\n",
        "Free Apps: Users typically expect free apps to be available for download. This can lead to wider adoption, but it might also require careful management of user expectations regarding in-app purchases or advertisements.\n",
        "Paid Apps: Users who pay for apps often have higher expectations of quality, features, and a premium experience. Paid apps need to deliver substantial value to justify the upfront cost.\n",
        "Market Dynamics and Competition:\n",
        "\n",
        "Free Apps: A higher proportion of free apps might indicate a strategy to capture a larger user base and compete in a market where free apps dominate.\n",
        "Paid Apps: A focus on paid apps could suggest targeting a niche market, offering unique features, or competing based on app quality rather than price."
      ],
      "metadata": {
        "id": "mZtgC_hjphqO"
      }
    },
    {
      "cell_type": "markdown",
      "source": [
        "##### 3. Will the gained insights help creating a positive business impact?\n",
        "Are there any insights that lead to negative growth? Justify with specific reason."
      ],
      "metadata": {
        "id": "rFu4xreNphqO"
      }
    },
    {
      "cell_type": "markdown",
      "source": [
        "Positive Impact: The insights gained can help tailor your business strategy. If free apps dominate, you may benefit from higher user engagement, broader brand recognition, and potential revenue from alternative sources. With more paid apps, your business might generate higher immediate revenue per download."
      ],
      "metadata": {
        "id": "ey_0qi68phqO"
      }
    },
    {
      "cell_type": "markdown",
      "source": [
        "#### Chart - 9(STRIP PLOT)"
      ],
      "metadata": {
        "id": "YJ55k-q6phqO"
      }
    },
    {
      "cell_type": "code",
      "source": [
        "# Select the top categories\n",
        "top_categories = playstoredf[playstoredf.Category.isin(['GAME', 'FAMILY', 'PHOTOGRAPHY', 'MEDICAL', 'TOOLS', 'FINANCE',\n",
        "                                                       'LIFESTYLE', 'BUSINESS', 'PRODUCTIVITY', 'PERSONALIZATION',\n",
        "                                                       'SPORTS', 'COMMUNICATION', 'HEALTH_AND_FITNESS',\n",
        "                                                       'NEWS_AND_MAGAZINES', 'SOCIAL'])]\n",
        "\n",
        "# Set the figure size and style\n",
        "plt.figure(figsize=(12, 6))\n",
        "sns.set(font_scale=1)\n",
        "sns.set_style(\"darkgrid\")\n",
        "\n",
        "# Create the strip plot using stripplot\n",
        "lets = sns.stripplot(x=\"Price\", y=\"Category\", data=top_categories, size=4, jitter=True)\n",
        "\n",
        "# Customize the plot\n",
        "lets.set(xlabel='Price', ylabel='Category')\n",
        "plt.title('App Pricing Trend Across Categories', size=14)\n",
        "\n",
        "# Show the plot\n",
        "plt.show()\n"
      ],
      "metadata": {
        "id": "B2aS4O1ophqO",
        "colab": {
          "base_uri": "https://localhost:8080/",
          "height": 574
        },
        "outputId": "bd0e5ee9-432b-4c5a-e6c3-dbf5953f5bf2"
      },
      "execution_count": 116,
      "outputs": [
        {
          "output_type": "display_data",
          "data": {
            "text/plain": [
              "<Figure size 1200x600 with 1 Axes>"
            ],
            "image/png": "[encoded data removed]"
          },
          "metadata": {}
        }
      ]
    },
    {
      "cell_type": "markdown",
      "source": [
        "##### 1. Why did you pick the specific chart?"
      ],
      "metadata": {
        "id": "gCFgpxoyphqP"
      }
    },
    {
      "cell_type": "markdown",
      "source": [
        "Categorical Data: The dataset involves categorical data (app categories) and numerical data (app prices). A strip plot is suitable for visualizing the distribution of numerical data within different categories.\n",
        "\n",
        "Relationship between Two Variables: The strip plot shows the relationship between app prices (numerical data) and app categories (categorical data). It provides an easy way to see the distribution of app prices within each category and allows for comparison across categories."
      ],
      "metadata": {
        "id": "TVxDimi2phqP"
      }
    },
    {
      "cell_type": "markdown",
      "source": [
        "##### 2. What is/are the insight(s) found from the chart?"
      ],
      "metadata": {
        "id": "OVtJsKN_phqQ"
      }
    },
    {
      "cell_type": "markdown",
      "source": [
        "Price Distribution within Categories: The strip plot will reveal how app prices are distributed within each category. It can show if certain categories tend to have higher or lower priced apps, helping identify potential patterns.\n",
        "\n",
        "Outliers: Outliers (apps with unusually high or low prices) can be spotted easily on the strip plot. This can provide insights into premium apps, special cases, or errors in pricing.\n",
        "\n",
        "Category Comparisons: By placing the strip plots side by side, you can quickly compare price distributions between categories. This can lead to insights into which categories generally have higher or lower prices."
      ],
      "metadata": {
        "id": "ngGi97qjphqQ"
      }
    },
    {
      "cell_type": "markdown",
      "source": [
        "##### 3. Will the gained insights help creating a positive business impact?\n",
        "Are there any insights that lead to negative growth? Justify with specific reason."
      ],
      "metadata": {
        "id": "lssrdh5qphqQ"
      }
    },
    {
      "cell_type": "markdown",
      "source": [
        "Pricing Strategy: The plot can help app developers determine appropriate pricing strategies based on the pricing trends in different categories.\n",
        "\n",
        "Category Insights: App store managers can use the plot to understand the price distribution within categories and make informed decisions about featuring, promoting, or adjusting app categories based on pricing trends.\n",
        "\n",
        "Competitor Analysis: By comparing the pricing trends across categories, businesses can gain insights into their competitors.\n",
        "\n",
        "User Behavior: This visualization might help identify how price affects user behavior in different categories.\n",
        "\n",
        "Marketing and Positioning: Businesses can use pricing trends to inform their marketing and positioning strategies for different categories. For instance, they can target specific customer segments based on pricing preferences."
      ],
      "metadata": {
        "id": "tBpY5ekJphqQ"
      }
    },
    {
      "cell_type": "markdown",
      "source": [
        "#### Chart - 10(PAIR-PLOT)"
      ],
      "metadata": {
        "id": "U2RJ9gkRphqQ"
      }
    },
    {
      "cell_type": "code",
      "source": [
        "#adding a pair plot for reviews,size,rating,price\n",
        "sns.pairplot(mergedf, vars=['Reviews', 'Size', 'Rating', 'Price'], kind='reg')\n",
        "\n",
        "#show the plot\n",
        "plt.show()\n"
      ],
      "metadata": {
        "id": "GM7a4YP4phqQ"
      },
      "execution_count": null,
      "outputs": []
    },
    {
      "cell_type": "markdown",
      "source": [
        "##### 1. Why did you pick the specific chart?"
      ],
      "metadata": {
        "id": "1M8mcRywphqQ"
      }
    },
    {
      "cell_type": "markdown",
      "source": [
        "The pair plot you've generated is a matrix of scatter plots with regression lines (kind='reg') that allows you to visualize the relationships and correlations between the selected variables: 'Reviews', 'Size', 'Rating', and 'Price'. This is a suitable choice when you want to explore how these numeric variables are interrelated."
      ],
      "metadata": {
        "id": "8agQvks0phqQ"
      }
    },
    {
      "cell_type": "markdown",
      "source": [
        "##### 2. What is/are the insight(s) found from the chart?"
      ],
      "metadata": {
        "id": "tgIPom80phqQ"
      }
    },
    {
      "cell_type": "markdown",
      "source": [
        "Reviews vs. Rating: You could observe whether apps with higher review counts tend to have higher ratings. A positive correlation between these variables could suggest that popular apps also tend to be well-rated.\n",
        "\n",
        "Size vs. Price: You might identify whether there's a relationship between the size of an app and its price. Apps with larger sizes might be priced differently compared to smaller apps.\n",
        "\n",
        "Rating vs. Price: This could reveal whether higher-priced apps tend to have better ratings, or if there's no clear relationship between price and user satisfaction.\n",
        "\n",
        "Correlations: You'll be able to visually assess the strength and direction of correlations between these variables. For example, a strong positive correlation between 'Reviews' and 'Size' might indicate that larger apps receive more review"
      ],
      "metadata": {
        "id": "Qp13pnNzphqQ"
      }
    },
    {
      "cell_type": "markdown",
      "source": [
        "##### 3. Will the gained insights help creating a positive business impact?\n",
        "Are there any insights that lead to negative growth? Justify with specific reason."
      ],
      "metadata": {
        "id": "JMzcOPDDphqR"
      }
    },
    {
      "cell_type": "markdown",
      "source": [
        "Pricing Strategy: If you observe that higher-priced apps tend to have better ratings, a business might consider adjusting their pricing strategy to reflect perceived value.\n",
        "\n",
        "Resource Allocation: Understanding the relationship between app size and reviews could guide resource allocation for app development and optimization.\n",
        "User Experience: Insights about correlations can help prioritize features for user satisfaction. For instance, if 'Size' is correlated with 'Reviews', focusing on optimizing app size could lead to better user engagement.\n",
        "\n",
        "Marketing Campaigns: The findings could inform targeted marketing strategies. For example, if high-priced apps tend to have high ratings, that could be a selling point in marketing materials."
      ],
      "metadata": {
        "id": "R4Ka1PC2phqR"
      }
    },
    {
      "cell_type": "markdown",
      "source": [
        "#### Chart - 11- Correlation Heatmap"
      ],
      "metadata": {
        "id": "NC_X3p0fY2L0"
      }
    },
    {
      "cell_type": "code",
      "source": [
        "#Heatmap for Merge dataframe\n",
        "sns.heatmap(data = mergedf.corr(), annot = True, cmap = \"coolwarm\")"
      ],
      "metadata": {
        "id": "68Mg3ID4VAPH"
      },
      "execution_count": null,
      "outputs": []
    },
    {
      "cell_type": "markdown",
      "source": [
        "##### 1. Why did you pick the specific chart?"
      ],
      "metadata": {
        "id": "UV0SzAkaZNRQ"
      }
    },
    {
      "cell_type": "markdown",
      "source": [
        "Correlation Overview: The heatmap provides a comprehensive view of the correlation between all pairs of numerical variables in your merged DataFrame. It's an effective way to quickly identify patterns and relationships.\n",
        "\n",
        "Color Representation: The color-coded representation of correlations makes it easy to spot strong and weak correlations. Warm colors (reds) indicate positive correlations, cool colors (blues) indicate negative correlations, and neutral colors (whites) indicate little to no correlation."
      ],
      "metadata": {
        "id": "DVPuT8LYZNRQ"
      }
    },
    {
      "cell_type": "markdown",
      "source": [
        "##### 2. What is/are the insight(s) found from the chart?"
      ],
      "metadata": {
        "id": "YPEH6qLeZNRQ"
      }
    },
    {
      "cell_type": "markdown",
      "source": [
        "Variable Relationships: You can identify which pairs of variables are positively correlated, negatively correlated, or not correlated at all. For example, if 'Reviews' and 'Rating' have a strong positive correlation, it suggests that apps with more reviews tend to have higher ratings.\n",
        "\n",
        "Multicollinearity: High correlations between variables could indicate multicollinearity, where two or more variables are closely related. This might impact the stability and interpretability of regression models.\n",
        "\n",
        "Feature Selection: The heatmap helps you prioritize variables for further analysis. Highly correlated variables might provide similar information, so you may choose to keep only one of them to simplify your analysis.\n",
        "\n",
        "Data Validation: Unexpected or counterintuitive correlations might indicate errors in the data or outliers that need further investigation."
      ],
      "metadata": {
        "id": "bfSqtnDqZNRR"
      }
    },
    {
      "cell_type": "markdown",
      "source": [
        "# What do you suggest the client to achieve Business Objective ?\n"
      ],
      "metadata": {
        "id": "JcMwzZxoAimU"
      }
    },
    {
      "cell_type": "markdown",
      "source": [
        "To provide meaningful suggestions for analyzing Play Store review data and achieving business objectives, it's essential to understand the specific goals of the client. However, here are some general steps and recommendations that the client could consider:\n",
        "\n",
        "1. Define Business Objectives:\n",
        "Clearly define the business objectives related to Play Store review data analysis. Are you aiming to improve app ratings, increase user engagement, optimize pricing, enhance app features, or something else? Identifying clear objectives will guide your analysis.\n",
        "\n",
        "2. Data Collection and Preprocessing:\n",
        "Ensure you have access to comprehensive and accurate Play Store review data. Collect data on reviews, ratings, app features, downloads, pricing, and any other relevant metrics. Preprocess the data by handling missing values, duplicates, and outliers.\n",
        "\n",
        "3. Sentiment Analysis:\n",
        "Perform sentiment analysis on reviews to gauge user sentiments—positive, negative, or neutral. This analysis can uncover areas where users are satisfied or dissatisfied with the app.\n",
        "\n",
        "4. Key Metrics Analysis:\n",
        "Analyze key metrics like average rating, review count, and download count over time. Identify trends, spikes, or dips that could indicate changes in user perception or app performance.\n",
        "\n",
        "5. Correlation Analysis:\n",
        "Investigate correlations between different variables such as ratings, reviews, pricing, and features. Identify which factors might be influencing app performance and user satisfaction.\n",
        "\n",
        "6. Feature Analysis:\n",
        "Analyze user reviews to identify common feature requests, complaints, or suggestions. Prioritize feature enhancements based on user feedback.\n",
        "\n",
        "7. Competitor Analysis:\n",
        "Compare your app's performance with competitors in terms of ratings, reviews, and features. Understand what makes your app unique and where improvements are needed.\n",
        "\n",
        "8. User Segmentation:\n",
        "Segment users based on demographics, usage patterns, or behavior. Tailor your strategies to different user groups for more targeted marketing and feature development.\n",
        "\n",
        "9. Pricing Strategy Optimization:\n",
        "Analyze the relationship between app pricing, ratings, and reviews. Determine if adjusting the pricing strategy could lead to higher user satisfaction and revenue.\n",
        "\n",
        "10. Review Response Strategy:\n",
        "Develop a strategy for responding to user reviews. Address negative reviews promptly, show appreciation for positive feedback, and communicate plans for addressing user concerns.\n",
        "\n",
        "11. A/B Testing:\n",
        "Implement A/B testing for app updates or feature changes to measure the impact on ratings, reviews, and user engagement.\n",
        "\n",
        "12. Continuous Monitoring:\n",
        "Regularly monitor app performance, reviews, and ratings to track the impact of changes and measure progress toward business objectives.\n",
        "\n",
        "13. User Engagement Initiatives:\n",
        "Implement initiatives to increase user engagement, such as in-app notifications, personalized recommendations, loyalty programs, or gamification.\n",
        "\n",
        "14. Marketing and Promotion:\n",
        "Utilize positive user reviews and high ratings in marketing materials. Highlight app features that users appreciate the most.\n",
        "\n",
        "15. User Experience Improvement:\n",
        "Continuously work on improving the user experience based on feedback. Enhance usability, navigation, and overall app functionality."
      ],
      "metadata": {
        "id": "pASKb0qOza21"
      }
    },
    {
      "cell_type": "markdown",
      "source": [
        "# **Conclusion**"
      ],
      "metadata": {
        "id": "gCX9965dhzqZ"
      }
    },
    {
      "cell_type": "markdown",
      "source": [
        "User Satisfaction: The majority of apps have a favorable average rating of 4.30, indicating a positive user sentiment and overall satisfaction with the app offerings.\n",
        "\n",
        "Wide User Engagement: Apps exhibit a broad range of review counts, suggesting diverse user engagement levels. Encouraging more reviews could enhance app visibility and user feedback.\n",
        "\n",
        "App Size Impact: App sizes vary widely, with a median of 20 MB. Optimizing app size may cater to users' storage constraints and contribute to a better user experience.\n",
        "\n",
        "Popular Install Range: The average number of installs stands at approximately 43.78 million, indicating a broad user base. Targeting app promotion and marketing toward achieving higher installs could be beneficial.\n",
        "\n",
        "Pricing Landscape: While the majority of apps are offered for free, a price range of up to $29.99 exists. Striking a balance between user value and pricing strategy is crucial for app monetization.\n",
        "\n",
        "Positive Sentiments: User reviews exhibit a generally positive sentiment polarity, with an average of 0.18. Addressing and amplifying positive sentiments can further enhance user satisfaction.\n",
        "\n",
        "Objective User Feedback: Most reviews reflect an objective sentiment subjectivity (0.49), indicating an opportunity to encourage users to provide more personalized and subjective feedback.\n",
        "\n",
        "Data-Driven Insights: By analyzing these metrics, app developers can make informed decisions, enhance user experience, and implement strategies to bolster app performance and engagement."
      ],
      "metadata": {
        "id": "Fjb1IsQkh3yE"
      }
    },
    {
      "cell_type": "markdown",
      "source": [
        "### ***Hurrah! You have successfully completed your EDA Capstone Project !!!***"
      ],
      "metadata": {
        "id": "gIfDvo9L0UH2"
      }
    }
  ]
}