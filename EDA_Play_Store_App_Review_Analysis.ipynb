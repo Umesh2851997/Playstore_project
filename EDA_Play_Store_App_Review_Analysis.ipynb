{
  "nbformat": 4,
  "nbformat_minor": 0,
  "metadata": {
    "colab": {
      "private_outputs": true,
      "provenance": [],
      "collapsed_sections": [
        "yQaldy8SH6Dl",
        "tb3IE7fSDSmF",
        "MSa1f5Uengrz",
        "0wOQAZs5pc--",
        "K5QZ13OEpz2H",
        "lQ7QKXXCp7Bj",
        "448CDAPjqfQr",
        "KSlN3yHqYklG",
        "t6dVpIINYklI",
        "ijmpgYnKYklI",
        "-JiQyfWJYklI",
        "EM7whBJCYoAo",
        "fge-S5ZAYoAp",
        "85gYPyotYoAp",
        "RoGjAbkUYoAp",
        "4Of9eVA-YrdM",
        "iky9q4vBYrdO",
        "F6T5p64dYrdO",
        "y-Ehk30pYrdP",
        "bamQiAODYuh1",
        "QHF8YVU7Yuh3",
        "GwzvFGzlYuh3",
        "qYpmQ266Yuh3",
        "OH-pJp9IphqM",
        "bbFf2-_FphqN",
        "_ouA3fa0phqN",
        "Seke61FWphqN",
        "PIIx-8_IphqN",
        "t27r6nlMphqO",
        "r2jJGEOYphqO",
        "b0JNsNcRphqO",
        "BZR9WyysphqO",
        "jj7wYXLtphqO",
        "eZrbJ2SmphqO",
        "rFu4xreNphqO",
        "YJ55k-q6phqO",
        "U2RJ9gkRphqQ",
        "NC_X3p0fY2L0",
        "gIfDvo9L0UH2"
      ],
      "include_colab_link": true
    },
    "kernelspec": {
      "name": "python3",
      "display_name": "Python 3"
    },
    "language_info": {
      "name": "python"
    }
  },
  "cells": [
    {
      "cell_type": "markdown",
      "metadata": {
        "id": "view-in-github",
        "colab_type": "text"
      },
      "source": [
        "<a href=\"https://colab.research.google.com/github/Umesh2851997/Playstore_project/blob/main/EDA_Play_Store_App_Review_Analysis.ipynb\" target=\"_parent\"><img src=\"https://colab.research.google.com/assets/colab-badge.svg\" alt=\"Open In Colab\"/></a>"
      ]
    },
    {
      "cell_type": "markdown",
      "source": [
        "# **Project Name**    -  Play Store App Review Analysis\n",
        "\n"
      ],
      "metadata": {
        "id": "vncDsAP0Gaoa"
      }
    },
    {
      "cell_type": "markdown",
      "source": [
        "##### **Project Type**    - EDA (Exploratory Data Analysis)\n",
        "##### **Contribution**    - Team\n",
        "##### **Team Member 1 -**  Umesh Makkar\n",
        "##### **Team Member 2 -**  Soni Verma\n",
        "##### **Team Member 3 -**  Tanmay"
      ],
      "metadata": {
        "id": "beRrZCGUAJYm"
      }
    },
    {
      "cell_type": "markdown",
      "source": [
        "# **Project Details -**"
      ],
      "metadata": {
        "id": "FJNUwmbgGyua"
      }
    },
    {
      "cell_type": "markdown",
      "source": [
        "The Play Store apps data has enormous potential to drive app-making businesses to success. Actionable insights an be drawn for developers to work on and capture the Android market. Each app(row) has values for category, ratin, size, and more. Another dataset contains customer reviews of teh android apps. Explore and analyse the data to discover key factors responsible for app engagement and success."
      ],
      "metadata": {
        "id": "F6v_1wHtG2nS"
      }
    },
    {
      "cell_type": "markdown",
      "source": [
        "# **GitHub Link -**"
      ],
      "metadata": {
        "id": "w6K7xa23Elo4"
      }
    },
    {
      "cell_type": "markdown",
      "source": [
        "https://github.com/Umesh2851997/Playstore_project/blob/main/EDA_Play_Store_App_Review_Analysis.ipynb"
      ],
      "metadata": {
        "id": "h1o69JH3Eqqn"
      }
    },
    {
      "cell_type": "markdown",
      "source": [
        "# **Problem Summary**\n"
      ],
      "metadata": {
        "id": "yQaldy8SH6Dl"
      }
    },
    {
      "cell_type": "markdown",
      "source": [
        "\"Many businesses and developers face challenges in understanding user sentiments, feedback, and preferences from the vast amount of reviews posted on the Google Play Store for their mobile applications. Extracting meaningful insights from these reviews manually is time-consuming and often lacks accuracy. As a result, there is a need to develop an automated solution using natural language processing (NLP) and sentiment analysis techniques to efficiently analyze app reviews. The objective is to gain actionable insights that can help improve app quality, enhance user satisfaction, prioritize feature development, and make data-driven decisions to boost user acquisition and retention. The solution should provide an efficient, scalable, and accurate means of processing and categorizing large volumes of reviews to aid in brand reputation management, competitive analysis, and product roadmap planning.\""
      ],
      "metadata": {
        "id": "DpeJGUA3kjGy"
      }
    },
    {
      "cell_type": "markdown",
      "source": [
        "#### **Define Your Business Objective?**"
      ],
      "metadata": {
        "id": "PH-0ReGfmX4f"
      }
    },
    {
      "cell_type": "markdown",
      "source": [
        "The business objective of conducting Play Store app review analysis is to gain valuable insights and feedback from users who have used or are currently using a particular app. By analyzing the reviews and feedback left by users, businesses can achieve several goals:\n",
        "\n",
        "1 Improve App Quality: App reviews often contain feedback about bugs, crashes, and other issues. Analyzing these reviews can help developers identify problems and make improvements to enhance the overall app quality.\n",
        "\n",
        "2 User Satisfaction: Understanding user sentiments and preferences expressed in reviews can help businesses gauge user satisfaction levels. Positive reviews can highlight features users love, while negative reviews can shed light on areas that need improvement.\n",
        "\n",
        "3 Feature Prioritization: Analyzing reviews can help businesses identify popular features and functionalities that users appreciate the most. This data can be used to prioritize future development efforts.\n",
        "\n",
        "4 Competitive Analysis: Comparing app reviews with those of competitors can offer valuable insights into strengths and weaknesses. This can help businesses identify opportunities to differentiate themselves and improve their market position.\n",
        "\n",
        "5 User Acquisition and Retention: Positive reviews and high ratings can attract more users to download the app, improving user acquisition. Additionally, addressing negative reviews and resolving user issues can lead to higher user retention rates."
      ],
      "metadata": {
        "id": "PhDvGCAqmjP1"
      }
    },
    {
      "cell_type": "markdown",
      "source": [
        "# ***Intorducation of Data***"
      ],
      "metadata": {
        "id": "O_i_v8NEhb9l"
      }
    },
    {
      "cell_type": "markdown",
      "source": [
        "Mobile applications are widely available. They are simple to make and may be profitable. These two reasons have led to an increase in the number of apps being created. In this notebook, we'll compare more than 10,000 Google Play apps from various categories to conduct a thorough analysis of the Android app industry. In order to develop strategies to promote growth and retention, we will search the data for insights.\n",
        "\n",
        "Let's examine the data, which consists of the following two files:\n",
        "\n",
        "datasets/play_store_data.csv\n",
        "\n",
        "This file contains all the details of the apps on Google Play. There are 13 features that describe a given app.\n",
        "\n",
        "*   **App**: Name of the app\n",
        "*   **Category**: Category of the app. Some examples are: ART_AND_DESIGN, FINANCE, COMICS, BEAUTY etc.\n",
        "*   **Rating**: The current average rating (out of 5) of the app on Google Play\n",
        "*   **Reviews**: Number of user reviews given on the app\n",
        "*   **Size**: Size of the app in MB (megabytes)\n",
        "*   **Installs**: Number of times the app was downloaded from Google Play\n",
        "*   **Type**: Whether the app is paid or free\n",
        "*   **Price**: Price of the app in US$\n",
        "*   **Content Rating**: A content rating (also known as maturity rating) rates the suitability of TV broadcasts, movies, comic books, or video games to its audience.To show which age group is suitable to view media and entertainment.\n",
        "*   **Genres**: A category of artistic, musical, or literary composition characterized by a particular style, form, or content\n",
        "*   **Last Updated**: Date on which the app was last updated on Google Play\n",
        "*   **Current Ver**: Current Version means a version of the software that is currently being supported by its publisher.\n",
        "*   **Android Ver**: Android versions (codenames) are used to describe the various updates for the open source Android mobile operating system.\n",
        "\n",
        "datasets/user_reviews.csv\n",
        "\n",
        "This document showcases a selection of the top 100 first-user evaluations for each app. Each category's distribution of favorable and unfavorable reviews has been pre-processed and run through a sentiment analyzer.\n",
        "\n",
        "* **App**: Name of the app on which the user review was provided. Matches the App column of the play_store_data.csv file\n",
        "* **Translated Review**: The pre-processed user review text.\n",
        "* **Sentiment**: Sentiment category of the user review - Positive, Negative or Neutral.\n",
        "* **Sentiment Polarity**: Sentiment score of the user review.\n",
        "\n"
      ],
      "metadata": {
        "id": "4uMSy8Y5AeLW"
      }
    },
    {
      "cell_type": "markdown",
      "source": [
        "### Import Libraries"
      ],
      "metadata": {
        "id": "Y3lxredqlCYt"
      }
    },
    {
      "cell_type": "code",
      "source": [
        "# Import Libraries\n",
        "import numpy as np\n",
        "import pandas as pd\n",
        "import matplotlib.pyplot as plt\n",
        "import seaborn as sns\n",
        "from datetime import datetime"
      ],
      "metadata": {
        "id": "M8Vqi-pPk-HR"
      },
      "execution_count": null,
      "outputs": []
    },
    {
      "cell_type": "markdown",
      "source": [
        "### Dataset Loading"
      ],
      "metadata": {
        "id": "3RnN4peoiCZX"
      }
    },
    {
      "cell_type": "code",
      "source": [
        "# Mount the Drive\n",
        "from google.colab import drive\n",
        "drive.mount('/content/drive')"
      ],
      "metadata": {
        "id": "4CkvbW_SlZ_R"
      },
      "execution_count": null,
      "outputs": []
    },
    {
      "cell_type": "code",
      "source": [
        "# Read the data\n",
        "playstore_data = \"/content/drive/MyDrive/My_new_numpy/Play Store Data.csv\"\n",
        "user_data = \"/content/drive/MyDrive/My_new_numpy/User Reviews.csv\"\n",
        "\n",
        "playstoredf = pd.read_csv(playstore_data)\n",
        "userdf = pd.read_csv(user_data)\n",
        "\n"
      ],
      "metadata": {
        "id": "LWNFOSvLl09H"
      },
      "execution_count": null,
      "outputs": []
    },
    {
      "cell_type": "markdown",
      "source": [
        "### Datasets First View"
      ],
      "metadata": {
        "id": "tb3IE7fSDSmF"
      }
    },
    {
      "cell_type": "code",
      "source": [
        "playstoredf.head() #Display the first 5 row of the Playstoredf"
      ],
      "metadata": {
        "id": "V5bYqahoPj3t"
      },
      "execution_count": null,
      "outputs": []
    },
    {
      "cell_type": "code",
      "source": [
        "#Display the first 5 row of the userdf\n",
        "userdf.head()"
      ],
      "metadata": {
        "id": "FEgqYeLWPm0B"
      },
      "execution_count": null,
      "outputs": []
    },
    {
      "cell_type": "markdown",
      "source": [
        "### Explore the Both Datasets"
      ],
      "metadata": {
        "id": "VRrJ_TGSIhVJ"
      }
    },
    {
      "cell_type": "code",
      "source": [
        "#Play Store App Data\n",
        "print(\"Total number of row and columns in the dataset\", playstoredf.shape)\n",
        "print(\"Total number of Unique apps in the dataset:\", playstoredf['App'].nunique())"
      ],
      "metadata": {
        "id": "_Z0uK0stkCL3"
      },
      "execution_count": null,
      "outputs": []
    },
    {
      "cell_type": "code",
      "source": [
        "#user reviews Data\n",
        "print(\"Total of row and columns in User review data\", userdf.shape)\n",
        "print(\"Total number of unique apps in the dataset\", userdf['App'].nunique())"
      ],
      "metadata": {
        "id": "64gIE2SjkHtj"
      },
      "execution_count": null,
      "outputs": []
    },
    {
      "cell_type": "code",
      "source": [
        "# Summary of the playstore Dataset\n",
        "playstoredf.info()"
      ],
      "metadata": {
        "id": "e9hRXRi6meOf"
      },
      "execution_count": null,
      "outputs": []
    },
    {
      "cell_type": "code",
      "source": [
        "#summary of user review data\n",
        "userdf.info()"
      ],
      "metadata": {
        "id": "LUwP7EnzQXZm"
      },
      "execution_count": null,
      "outputs": []
    },
    {
      "cell_type": "markdown",
      "source": [
        "# Data Cleaning\n",
        "\n",
        "---"
      ],
      "metadata": {
        "id": "WhRPhU3vkd7u"
      }
    },
    {
      "cell_type": "markdown",
      "source": [
        "## 1. Check the Null values in dataset\n",
        "\n",
        "The first step is to find the Missing/Null Values in the Playstore dataset."
      ],
      "metadata": {
        "id": "LJQxdLqQN8I4"
      }
    },
    {
      "cell_type": "code",
      "source": [
        "playstoredf.isna().sum()"
      ],
      "metadata": {
        "id": "JVMXyDh2pwFd"
      },
      "execution_count": null,
      "outputs": []
    },
    {
      "cell_type": "code",
      "source": [
        "playstoredf.sort_values(by = 'Rating', ascending = False)"
      ],
      "metadata": {
        "id": "eE0e0n_JaWl3"
      },
      "execution_count": null,
      "outputs": []
    },
    {
      "cell_type": "code",
      "source": [
        "#Drop the null Values\n",
        "playstoredf.dropna(subset =['Rating'], inplace = True)\n"
      ],
      "metadata": {
        "id": "opi6w9eEp7RI"
      },
      "execution_count": null,
      "outputs": []
    },
    {
      "cell_type": "code",
      "source": [
        "#Fill the Columns which has <.05 Null values using most comman value of mode\n",
        "playstoredf['Current Ver'] = playstoredf['Current Ver'].fillna(playstoredf['Current Ver'].mode()[0])\n",
        "playstoredf['Android Ver'] = playstoredf['Android Ver'].fillna(playstoredf['Android Ver'].mode()[0])\n",
        "playstoredf['Content Rating'] = playstoredf['Content Rating'].fillna(playstoredf['Content Rating'].mode()[0])"
      ],
      "metadata": {
        "id": "AMO8QkTMS_n3"
      },
      "execution_count": null,
      "outputs": []
    },
    {
      "cell_type": "code",
      "source": [
        "playstoredf.isna().any()"
      ],
      "metadata": {
        "id": "xiGKKjyPS1gj"
      },
      "execution_count": null,
      "outputs": []
    },
    {
      "cell_type": "markdown",
      "source": [
        "## 2. Check Duplicates"
      ],
      "metadata": {
        "id": "Y2PXVsQDQ-8m"
      }
    },
    {
      "cell_type": "code",
      "source": [
        "## Drop the duplicates in the \"App\" column\n",
        "playstoredf.drop_duplicates(subset='App', inplace=True)\n",
        "print(playstoredf.shape)"
      ],
      "metadata": {
        "id": "LLkKBi7PRDmN"
      },
      "execution_count": null,
      "outputs": []
    },
    {
      "cell_type": "markdown",
      "source": [
        "## 3. Check the outliers"
      ],
      "metadata": {
        "id": "Ev1l6oP5SIim"
      }
    },
    {
      "cell_type": "code",
      "source": [
        "playstoredf['Rating'].unique()"
      ],
      "metadata": {
        "id": "aG61EjnkSLeS"
      },
      "execution_count": null,
      "outputs": []
    },
    {
      "cell_type": "code",
      "source": [
        "playstoredf[playstoredf['Rating']==19.0]"
      ],
      "metadata": {
        "id": "L2gvqNfVSHEm"
      },
      "execution_count": null,
      "outputs": []
    },
    {
      "cell_type": "code",
      "source": [
        "## Drop the row that has incorrect values\n",
        "playstoredf.drop([10472], inplace = True)\n"
      ],
      "metadata": {
        "id": "yi9BAYyiVIYT"
      },
      "execution_count": null,
      "outputs": []
    },
    {
      "cell_type": "markdown",
      "source": [
        "## 4. Updating the Datatype for following columns for EDA"
      ],
      "metadata": {
        "id": "GV1AiXa4XBf9"
      }
    },
    {
      "cell_type": "markdown",
      "source": [
        "Installs"
      ],
      "metadata": {
        "id": "P2jA81YOXdSe"
      }
    },
    {
      "cell_type": "code",
      "source": [
        "playstoredf['Installs'].unique()"
      ],
      "metadata": {
        "id": "NVmlb_6MXbeT"
      },
      "execution_count": null,
      "outputs": []
    },
    {
      "cell_type": "code",
      "source": [
        "#Let's remove some , + from Installs for easy analysis\n",
        "playstoredf['Installs'] = playstoredf['Installs'].apply(lambda x: x.replace('+', '') if '+' in str(x) else x) #remove '+' to ''\n",
        "playstoredf['Installs'] = playstoredf['Installs'].apply(lambda x: x.replace(',', '') if ',' in str(x) else x) #remove ',' to ''\n",
        "playstoredf['Installs'] = playstoredf['Installs'].apply(lambda x:int(x)) #it will convert data type into int64"
      ],
      "metadata": {
        "id": "sklRSxDuX7JK"
      },
      "execution_count": null,
      "outputs": []
    },
    {
      "cell_type": "code",
      "source": [
        "playstoredf['Installs'].dtype"
      ],
      "metadata": {
        "id": "fqwYvkqGR_nv"
      },
      "execution_count": null,
      "outputs": []
    },
    {
      "cell_type": "markdown",
      "source": [
        "Size\n",
        "  "
      ],
      "metadata": {
        "id": "MQhVXeyyYXO3"
      }
    },
    {
      "cell_type": "code",
      "source": [
        "playstoredf['Size'].unique()"
      ],
      "metadata": {
        "id": "DeIM1xCJYgH1"
      },
      "execution_count": null,
      "outputs": []
    },
    {
      "cell_type": "code",
      "source": [
        "#Remove these Characters ('Varies with device',',','+','k') from the Size Columns\n",
        "playstoredf['Size'] = playstoredf['Size'].apply(lambda x: str(x).replace('Varies with device', 'NaN') if 'Varies with device' in str(x) else x)\n",
        "playstoredf['Size'] = playstoredf['Size'].apply(lambda x: str(x).replace('M', '') if 'M' in str(x) else x)\n",
        "playstoredf['Size'] = playstoredf['Size'].apply(lambda x: str(x).replace(',', '') if 'M' in str(x) else x)\n",
        "playstoredf['Size'] = playstoredf['Size'].apply(lambda x:float(str(x).replace('k', '')) / 1024 if 'k' in str(x) else x) #convert KB to MB"
      ],
      "metadata": {
        "id": "ePzPlSCZgveo"
      },
      "execution_count": null,
      "outputs": []
    },
    {
      "cell_type": "code",
      "source": [
        "playstoredf['Size'].dtype"
      ],
      "metadata": {
        "id": "uVKwMG_qiZyn"
      },
      "execution_count": null,
      "outputs": []
    },
    {
      "cell_type": "markdown",
      "source": [
        "Price & Reviews"
      ],
      "metadata": {
        "id": "LTijJQi2X2tI"
      }
    },
    {
      "cell_type": "code",
      "source": [
        "playstoredf['Price'].unique()"
      ],
      "metadata": {
        "id": "CUYpX-d2YDYL"
      },
      "execution_count": null,
      "outputs": []
    },
    {
      "cell_type": "code",
      "source": [
        "#let's remove $ sign from the Price column\n",
        "playstoredf['Price'] = playstoredf['Price'].apply(lambda x: str(x).replace('$', '') if '$' in str(x) else x)"
      ],
      "metadata": {
        "id": "P7YncVjwZXfT"
      },
      "execution_count": null,
      "outputs": []
    },
    {
      "cell_type": "code",
      "source": [
        "# Convert the column types to numeric datatype\n",
        "playstoredf['Size'] = playstoredf['Size'].apply(lambda x: float(x))\n",
        "playstoredf['Installs'] = playstoredf['Installs'].apply(lambda x: float(x))\n",
        "playstoredf['Price'] = playstoredf['Price'].apply(lambda x: float(x))\n",
        "playstoredf['Reviews'] = playstoredf['Reviews'].apply(lambda x: int(x))"
      ],
      "metadata": {
        "id": "6zNiLISGaMB5"
      },
      "execution_count": null,
      "outputs": []
    },
    {
      "cell_type": "code",
      "source": [
        "playstoredf.dtypes"
      ],
      "metadata": {
        "id": "xX7ki9M1agJA"
      },
      "execution_count": null,
      "outputs": []
    },
    {
      "cell_type": "code",
      "source": [
        "playstoredf.describe(include = 'all')"
      ],
      "metadata": {
        "id": "gKsGkABfbHzr"
      },
      "execution_count": null,
      "outputs": []
    },
    {
      "cell_type": "markdown",
      "source": [
        "###Identifying the Statistics from the Dataset"
      ],
      "metadata": {
        "id": "XG6qmCu2chos"
      }
    },
    {
      "cell_type": "code",
      "source": [
        "# finding numerical data\n",
        "\n",
        "numeric_data = playstoredf.select_dtypes(include=np.number)\n",
        "numeric_col = numeric_data.columns\n",
        "\n",
        "\n",
        "# we will store the numeric features in a variable\n",
        "\n",
        "print(\"Numeric Features:\", numeric_data.shape)\n",
        "numeric_data.describe(include='all').T"
      ],
      "metadata": {
        "id": "46lXEGKIc4Js"
      },
      "execution_count": null,
      "outputs": []
    },
    {
      "cell_type": "code",
      "source": [
        "# Finding the Categorical data\n",
        "\n",
        "cat_data = playstoredf.select_dtypes(exclude=np.number) #selects data with non-numeric features\n",
        "cat_col = cat_data.columns\n",
        "\n",
        "# non-numeric features in a variable\n",
        "\n",
        "print(\"Non-Numeric Features:\", cat_data.shape)\n",
        "cat_data.describe(include='all').T"
      ],
      "metadata": {
        "id": "tAW0LMrQdeil"
      },
      "execution_count": null,
      "outputs": []
    },
    {
      "cell_type": "code",
      "source": [
        "playstoredf.to_csv('/content/drive/MyDrive/My_new_numpy.csv') #saved clean playstore data"
      ],
      "metadata": {
        "id": "bVPNK6lg7xUy"
      },
      "execution_count": null,
      "outputs": []
    },
    {
      "cell_type": "markdown",
      "source": [
        "### What all manipulations have you done and insights you found?"
      ],
      "metadata": {
        "id": "MSa1f5Uengrz"
      }
    },
    {
      "cell_type": "markdown",
      "source": [
        "In the Playstore dataset, our first step involves reading the data. Following that, we identify and address any null values present in the dataset. Specifically, we remove null values from the Rating column and replace them with the most common value, which is the mode, for the remaining columns. Subsequently, we eliminate duplicate entries based on the 'APP' column.\n",
        "\n",
        "Continuing the data cleaning process, we examine and handle potential outliers in the 'Rating' column, opting to remove them. Additionally, we proceed to replace any special characters found in the 'Installs', 'Price', and 'Size' columns. Furthermore, we convert the 'Size' metric from kilobytes (KB) to megabytes (MB) and verify the data types.\n",
        "\n",
        "This outlines the steps taken to clean the data effectively."
      ],
      "metadata": {
        "id": "LbyXE7I1olp8"
      }
    },
    {
      "cell_type": "markdown",
      "source": [
        "####Let's do some insights"
      ],
      "metadata": {
        "id": "Bg3ZecJ3fEJJ"
      }
    },
    {
      "cell_type": "markdown",
      "source": [
        "1. How many Unique Category in Playstore Data ?"
      ],
      "metadata": {
        "id": "3-4ggCsvfm1A"
      }
    },
    {
      "cell_type": "code",
      "source": [
        "playstoredf['Category'].nunique()"
      ],
      "metadata": {
        "id": "Y0L0rrJ-fJvA"
      },
      "execution_count": null,
      "outputs": []
    },
    {
      "cell_type": "markdown",
      "source": [
        "2. Which Category Getting the Highest Average Rating ?"
      ],
      "metadata": {
        "id": "uTpQvjVlfyk2"
      }
    },
    {
      "cell_type": "code",
      "source": [
        "playstoredf.groupby('Category')['Rating'].mean().sort_values(ascending = False).head()"
      ],
      "metadata": {
        "id": "wCWr2Wnvf77y"
      },
      "execution_count": null,
      "outputs": []
    },
    {
      "cell_type": "markdown",
      "source": [
        "3. Find Total Number of Apps 5 Star Rating ?"
      ],
      "metadata": {
        "id": "thUCrQ8UgO_v"
      }
    },
    {
      "cell_type": "code",
      "source": [
        "len(playstoredf[playstoredf['Rating']==5.0])"
      ],
      "metadata": {
        "id": "Yo7tE-1RgQ4E"
      },
      "execution_count": null,
      "outputs": []
    },
    {
      "cell_type": "markdown",
      "source": [
        "4. Find Average Value of Reviews ?"
      ],
      "metadata": {
        "id": "kaFjLYDFhAYv"
      }
    },
    {
      "cell_type": "code",
      "source": [
        "playstoredf['Reviews'] = playstoredf['Reviews'].astype(float)\n",
        "playstoredf['Reviews'].mean()"
      ],
      "metadata": {
        "id": "eAe5u9W7hG0x"
      },
      "execution_count": null,
      "outputs": []
    },
    {
      "cell_type": "markdown",
      "source": [
        "5. Total Number of Free and Paid Apps ?"
      ],
      "metadata": {
        "id": "cM4-fLqbhLzb"
      }
    },
    {
      "cell_type": "code",
      "source": [
        "playstoredf['Type'].value_counts()"
      ],
      "metadata": {
        "id": "mbhnsqWPhTiG"
      },
      "execution_count": null,
      "outputs": []
    },
    {
      "cell_type": "markdown",
      "source": [
        "6. Display Top 5 Apps having Highest Reviews ?"
      ],
      "metadata": {
        "id": "XYZJjl3fhoaM"
      }
    },
    {
      "cell_type": "code",
      "source": [
        "top_5= playstoredf.nlargest(5, 'Reviews')\n",
        "print(top_5[['App', 'Reviews']])\n"
      ],
      "metadata": {
        "id": "mWehMTg1hvew"
      },
      "execution_count": null,
      "outputs": []
    },
    {
      "cell_type": "markdown",
      "source": [
        "7. Average Rating Free and Paid apps ?"
      ],
      "metadata": {
        "id": "MN3Ok2PUh3lr"
      }
    },
    {
      "cell_type": "code",
      "source": [
        "playstoredf.groupby('Type')['Rating'].mean()"
      ],
      "metadata": {
        "id": "lVtvX7s4hz5R"
      },
      "execution_count": null,
      "outputs": []
    },
    {
      "cell_type": "markdown",
      "source": [
        " 8. is there any difference between the category column and genres?"
      ],
      "metadata": {
        "id": "XZOn-wp-iWmt"
      }
    },
    {
      "cell_type": "code",
      "source": [
        "playstoredf[[\"Category\",\"Genres\"]]"
      ],
      "metadata": {
        "id": "q4DAfgasibtJ"
      },
      "execution_count": null,
      "outputs": []
    },
    {
      "cell_type": "markdown",
      "source": [
        "There is no differnce between Genres and Category."
      ],
      "metadata": {
        "id": "ctPEutEYiklW"
      }
    },
    {
      "cell_type": "markdown",
      "source": [
        "#User Review Data"
      ],
      "metadata": {
        "id": "5CQKU18Xw2ux"
      }
    },
    {
      "cell_type": "code",
      "source": [
        "#fist view of the User review data\n",
        "userdf.head()"
      ],
      "metadata": {
        "id": "ce4oNHzJw5vF"
      },
      "execution_count": null,
      "outputs": []
    },
    {
      "cell_type": "code",
      "source": [
        "#total Row and columns in the dataset\n",
        "userdf.shape"
      ],
      "metadata": {
        "id": "gjkOmQNAw9HY"
      },
      "execution_count": null,
      "outputs": []
    },
    {
      "cell_type": "code",
      "source": [
        "#check is there is any null values in the dataset\n",
        "userdf.isna().sum()"
      ],
      "metadata": {
        "id": "mq3EoIMXw_rl"
      },
      "execution_count": null,
      "outputs": []
    },
    {
      "cell_type": "code",
      "source": [
        "#drop the given columns to appropriate analysis\n",
        "userdf.dropna(subset=['Translated_Review', 'Sentiment', 'Sentiment_Polarity', 'Sentiment_Subjectivity'], axis=0, inplace=True)"
      ],
      "metadata": {
        "id": "o3z3Spbw2VwS"
      },
      "execution_count": null,
      "outputs": []
    },
    {
      "cell_type": "code",
      "source": [
        "userdf.isnull().any() #again we check if there is any null value or not ?"
      ],
      "metadata": {
        "id": "zmz5f5PE28xW"
      },
      "execution_count": null,
      "outputs": []
    },
    {
      "cell_type": "code",
      "source": [
        "userdf.App.value_counts()"
      ],
      "metadata": {
        "id": "scr_YecO6iiQ"
      },
      "execution_count": null,
      "outputs": []
    },
    {
      "cell_type": "markdown",
      "source": [
        "Number of the Positivie and Negative sentiment in the APP ?"
      ],
      "metadata": {
        "id": "ru1Ry3mR4Dde"
      }
    },
    {
      "cell_type": "code",
      "source": [
        "userdf[(userdf['App']==\"10 Best Foods for You\") & (userdf['Sentiment']=='Positive')].reset_index()"
      ],
      "metadata": {
        "id": "Ii9UZFhu1wIm"
      },
      "execution_count": null,
      "outputs": []
    },
    {
      "cell_type": "code",
      "source": [
        "userdf[(userdf['App']==\"10 Best Foods for You\") & (userdf['Sentiment']=='Negative')].reset_index()"
      ],
      "metadata": {
        "id": "V3IWdDKf4flg"
      },
      "execution_count": null,
      "outputs": []
    },
    {
      "cell_type": "markdown",
      "source": [
        "Which comments within the ASUS SuperNote dataset have both a sentiment polarity and sentiment subjectivity score equal to 1?"
      ],
      "metadata": {
        "id": "xAXmlFwp5L8X"
      }
    },
    {
      "cell_type": "code",
      "source": [
        "userdf[(userdf['App']==\"ASUS SuperNote\") & (userdf['Sentiment_Polarity']==1) & (userdf['Sentiment_Subjectivity']==1)]\n"
      ],
      "metadata": {
        "id": "M1eOTz315B7p"
      },
      "execution_count": null,
      "outputs": []
    },
    {
      "cell_type": "markdown",
      "source": [
        "Find the netural Sentiment reviews for the app Abs Training-Burn belly fat."
      ],
      "metadata": {
        "id": "-mqB5pjw56sg"
      }
    },
    {
      "cell_type": "code",
      "source": [
        "userdf[(userdf['App']==\"Abs Training-Burn belly fat\") & (userdf['Sentiment']=='Neutral')]\n"
      ],
      "metadata": {
        "id": "uP_qyoFH6DD-"
      },
      "execution_count": null,
      "outputs": []
    },
    {
      "cell_type": "markdown",
      "source": [
        "Identify negative sentiment reviews for Adobe Acrobat Reader, including their associated sentiment polarity and sentiment subjectivity scores."
      ],
      "metadata": {
        "id": "JGPIXVS27Mhm"
      }
    },
    {
      "cell_type": "code",
      "source": [
        "userdf[(userdf['App'].str.contains(\"Adobe Acrobat Reader\")) & (userdf['Sentiment']=='Negative')]\n"
      ],
      "metadata": {
        "id": "FeZY7EV47Y38"
      },
      "execution_count": null,
      "outputs": []
    },
    {
      "cell_type": "code",
      "source": [
        "userdf.to_csv(\"/content/drive/MyDrive/My_new_numpy.csv\") #saved cleaned file"
      ],
      "metadata": {
        "id": "_P8kynDb8tLQ"
      },
      "execution_count": null,
      "outputs": []
    },
    {
      "cell_type": "markdown",
      "source": [
        "#Merge Both Datasets"
      ],
      "metadata": {
        "id": "Y_bz25gY9Tst"
      }
    },
    {
      "cell_type": "code",
      "source": [
        "mergedf = pd.merge(playstoredf, userdf, on='App', how = 'inner')\n",
        "mergedf.head(5)"
      ],
      "metadata": {
        "id": "etCAm0uX9S_e"
      },
      "execution_count": null,
      "outputs": []
    },
    {
      "cell_type": "markdown",
      "source": [
        "# ***4. Data Vizualization, Storytelling & Experimenting with charts : Understand the relationships between variables***"
      ],
      "metadata": {
        "id": "GF8Ens_Soomf"
      }
    },
    {
      "cell_type": "markdown",
      "source": [
        "#### Chart - 1 (PIE_CHART)"
      ],
      "metadata": {
        "id": "0wOQAZs5pc--"
      }
    },
    {
      "cell_type": "code",
      "source": [
        "# Count the occurrences of each sentiment value\n",
        "sentiment_counts = mergedf['Sentiment'].value_counts()\n",
        "\n",
        "# Create a color palette\n",
        "palette_color = sns.color_palette('bright')\n",
        "\n",
        "# Plot a pie chart\n",
        "plt.pie(sentiment_counts, labels=sentiment_counts.index, colors=palette_color, shadow=True, autopct='%.2f')\n",
        "\n",
        "# Add a title\n",
        "plt.title('Sentiment Distribution')\n",
        "\n",
        "# Display the pie chart\n",
        "plt.show()"
      ],
      "metadata": {
        "id": "7v_ESjsspbW7"
      },
      "execution_count": null,
      "outputs": []
    },
    {
      "cell_type": "markdown",
      "source": [
        "##### 1. Why did you pick the specific chart?"
      ],
      "metadata": {
        "id": "K5QZ13OEpz2H"
      }
    },
    {
      "cell_type": "markdown",
      "source": [
        "he pie chart was chosen to visualize the distribution of sentiment categories (Positive, Negative, Neutral). Pie charts are useful when you want to represent the parts of a whole and show the relative proportions of different categories."
      ],
      "metadata": {
        "id": "XESiWehPqBRc"
      }
    },
    {
      "cell_type": "markdown",
      "source": [
        "##### 2. What is/are the insight(s) found from the chart?"
      ],
      "metadata": {
        "id": "lQ7QKXXCp7Bj"
      }
    },
    {
      "cell_type": "markdown",
      "source": [
        "Without seeing the chart or the data it represents, I cannot provide specific insights. However, based on a typical sentiment distribution chart:\n",
        "\n",
        "You can quickly see the proportion of positive, negative, and neutral sentiments in the dataset.\n",
        "If one sentiment category dominates significantly, it might indicate a strong bias in the dataset towards that sentiment.\n",
        "The distribution might reveal patterns or imbalances that could be explored further. For instance, a high percentage of negative sentiment might indicate customer dissatisfaction."
      ],
      "metadata": {
        "id": "C_j1G7yiqdRP"
      }
    },
    {
      "cell_type": "markdown",
      "source": [
        "##### 3. Will the gained insights help creating a positive business impact?\n",
        "Are there any insights that lead to negative growth? Justify with specific reason."
      ],
      "metadata": {
        "id": "448CDAPjqfQr"
      }
    },
    {
      "cell_type": "markdown",
      "source": [
        "**Positive Impact:** Insights gained from the chart could help in several ways. If the majority of sentiments are positive, it indicates customer satisfaction, which can lead to positive business impacts like increased customer loyalty, word-of-mouth referrals, and potentially higher sales.\n",
        "\n",
        "**Negative Impact:** If negative sentiment dominates, this could lead to negative growth. High negative sentiment might indicate customer complaints, product issues, or service problems. Addressing these concerns promptly can prevent customer churn, negative reviews, and loss of business.\n",
        "\n",
        "**Neutral Sentiment:** A high proportion of neutral sentiment might indicate that customers are generally indifferent, which could potentially lead to stagnation. It might be important to understand why customers are not expressing stronger opinions, whether it's due to a lack of engagement or other reasons"
      ],
      "metadata": {
        "id": "3cspy4FjqxJW"
      }
    },
    {
      "cell_type": "markdown",
      "source": [
        "#### Chart - 2 BOX PLOT"
      ],
      "metadata": {
        "id": "KSlN3yHqYklG"
      }
    },
    {
      "cell_type": "code",
      "source": [
        "# Create a box plot using seaborn with groupby\n",
        "fig, ax = plt.subplots()\n",
        "fig.set_size_inches(12, 8)\n",
        "sns.boxplot(x='Type', y='Sentiment_Polarity', data=mergedf, ax=ax)\n",
        "\n",
        "# Set title and labels\n",
        "ax.set_title('Sentiment Polarity Distribution')\n",
        "ax.set_xlabel('App Type')\n",
        "ax.set_ylabel('Sentiment Polarity')\n",
        "\n",
        "# Show the plot\n",
        "plt.show()"
      ],
      "metadata": {
        "id": "R4YgtaqtYklH"
      },
      "execution_count": null,
      "outputs": []
    },
    {
      "cell_type": "markdown",
      "source": [
        "##### 1. Why did you pick the specific chart?"
      ],
      "metadata": {
        "id": "t6dVpIINYklI"
      }
    },
    {
      "cell_type": "markdown",
      "source": [
        " A box plot (also known as a box-and-whisker plot) is commonly used to visualize the distribution of a dataset. It provides insights into the median, quartiles, and potential outliers. This makes it useful for comparing the distribution of sentiment polarity between different categories (in this case, free and paid apps). It allows for quick comparison of central tendencies and spread of the sentiment polarity values."
      ],
      "metadata": {
        "id": "5aaW0BYyYklI"
      }
    },
    {
      "cell_type": "markdown",
      "source": [
        "##### 2. What is/are the insight(s) found from the chart?"
      ],
      "metadata": {
        "id": "ijmpgYnKYklI"
      }
    },
    {
      "cell_type": "markdown",
      "source": [
        "You can easily identify the median sentiment polarity for each app type. If one type consistently has a higher median polarity, it might suggest that users of that type of app tend to express more positive sentiments.\n",
        "\n",
        "You can observe the spread of sentiment polarity within each category. A larger spread could indicate more varied user opinions.\n",
        "\n",
        "Outliers, if present, might suggest extreme sentiment expressions that could be valuable for further investigation."
      ],
      "metadata": {
        "id": "PSx9atu2YklI"
      }
    },
    {
      "cell_type": "markdown",
      "source": [
        "##### 3. Will the gained insights help creating a positive business impact?\n",
        "Are there any insights that lead to negative growth? Justify with specific reason."
      ],
      "metadata": {
        "id": "-JiQyfWJYklI"
      }
    },
    {
      "cell_type": "markdown",
      "source": [
        "**Positive Impact:** If the sentiment polarity for paid apps is consistently higher than that for free apps, this could imply that users of paid apps are generally more satisfied or engaged. This might lead to positive business impacts such as increased revenue, user retention, and brand loyalty.\n",
        "\n",
        "**Negative Impact:** Conversely, if sentiment polarity for paid apps is consistently lower than that for free apps, this might indicate that users are not finding value in the paid offerings, potentially leading to negative growth. Additionally, if either free or paid apps show a wide range of sentiment polarities and a high number of negative outliers, it might indicate widespread dissatisfaction among users, which could lead to negative impacts on user retention and growth."
      ],
      "metadata": {
        "id": "BcBbebzrYklV"
      }
    },
    {
      "cell_type": "markdown",
      "source": [
        "#### Chart - 3(COUNT-PLOT)"
      ],
      "metadata": {
        "id": "EM7whBJCYoAo"
      }
    },
    {
      "cell_type": "code",
      "source": [
        "import seaborn as sns\n",
        "import matplotlib.pyplot as plt\n",
        "\n",
        "# Assuming you have a DataFrame named 'playstoredf' with a 'Category' column\n",
        "\n",
        "# Count the number of apps in each category\n",
        "app_categories = playstoredf['Category'].value_counts().sort_values()\n",
        "\n",
        "# Create a color palette\n",
        "palette_color = sns.color_palette('viridis')\n",
        "\n",
        "# Create a countplot using seaborn\n",
        "plt.figure(figsize=(14, 7))\n",
        "sns.countplot(data=playstoredf, x='Category', order=app_categories.index, palette=palette_color)\n",
        "\n",
        "# Rotate x-axis labels for better visibility\n",
        "plt.xticks(rotation=90)\n",
        "\n",
        "# Set labels and title\n",
        "plt.xlabel('App Category')\n",
        "plt.ylabel('Number of Apps')\n",
        "plt.title('App Distribution by Category')\n",
        "\n",
        "# Show the plot\n",
        "plt.show()\n"
      ],
      "metadata": {
        "id": "t6GMdE67YoAp"
      },
      "execution_count": null,
      "outputs": []
    },
    {
      "cell_type": "markdown",
      "source": [
        "##### 1. Why did you pick the specific chart?"
      ],
      "metadata": {
        "id": "fge-S5ZAYoAp"
      }
    },
    {
      "cell_type": "markdown",
      "source": [
        "The choice of using a countplot (bar plot) to visualize the distribution of app categories and their corresponding counts is appropriate. Countplots are suitable for displaying the frequency or count of categorical data, making them effective for showing how many apps fall into each category."
      ],
      "metadata": {
        "id": "5dBItgRVYoAp"
      }
    },
    {
      "cell_type": "markdown",
      "source": [
        "##### 2. What is/are the insight(s) found from the chart?"
      ],
      "metadata": {
        "id": "85gYPyotYoAp"
      }
    },
    {
      "cell_type": "markdown",
      "source": [
        "Category Popularity: You can easily identify which categories have the most apps. This information can help businesses understand which types of apps are more prevalent in the market.\n",
        "\n",
        "Market Saturation: If certain categories are significantly more populated than others, it might indicate a highly competitive market in those categories.\n",
        "\n",
        "Niche Opportunities: Categories with fewer apps might represent niche markets with less competition. This could be an opportunity for businesses to enter a less crowded space.\n",
        "\n",
        "Diversity: The chart can reveal the diversity of app offerings across different categories, giving insights into the range of user needs and interests."
      ],
      "metadata": {
        "id": "4jstXR6OYoAp"
      }
    },
    {
      "cell_type": "markdown",
      "source": [
        "##### 3. Will the gained insights help creating a positive business impact?\n",
        "Are there any insights that lead to negative growth? Justify with specific reason."
      ],
      "metadata": {
        "id": "RoGjAbkUYoAp"
      }
    },
    {
      "cell_type": "markdown",
      "source": [
        "Positive Impact:\n",
        "\n",
        "If certain categories are very popular and have a large number of apps, this might indicate high user demand. Developing apps in these categories could potentially lead to positive business impact if the apps meet users' needs effectively.\n",
        "Niche categories might offer growth opportunities with less competition. Developing unique apps in these categories could attract a dedicated user base.\n",
        "\n",
        "Negative Impact:\n",
        "\n",
        "Highly saturated categories might lead to increased competition, making it difficult for new apps to gain attention and users. This could potentially lead to negative growth for apps in these categories.\n",
        "If certain categories have very few apps, it might suggest a lack of demand or interest from users. Developing apps in such categories might not result in positive growth if there's limited user engagement."
      ],
      "metadata": {
        "id": "zfJ8IqMcYoAp"
      }
    },
    {
      "cell_type": "markdown",
      "source": [
        "#### Chart - 4 (BAR_CHART)"
      ],
      "metadata": {
        "id": "4Of9eVA-YrdM"
      }
    },
    {
      "cell_type": "code",
      "source": [
        "playstoredf['Installs'].unique()"
      ],
      "metadata": {
        "id": "CczQzFu0FOPm"
      },
      "execution_count": null,
      "outputs": []
    },
    {
      "cell_type": "code",
      "source": [
        "# Group by category and sum the installs\n",
        "app_category_installs = playstoredf.groupby('Category').sum().sort_values('Installs', ascending=False)\n",
        "\n",
        "# Create a barplot using seaborn\n",
        "plt.figure(figsize=(14, 7))\n",
        "sns.barplot(x=app_category_installs.index, y=app_category_installs['Installs'], palette='bright')\n",
        "\n",
        "# Rotate x-axis labels for better visibility\n",
        "plt.xticks(rotation=90)\n",
        "\n",
        "# Set labels and title\n",
        "plt.xlabel('App Category')\n",
        "plt.ylabel('Number of Installs')\n",
        "plt.title('App Category vs Number of Installs')\n",
        "\n",
        "# Show the plot\n",
        "plt.show()"
      ],
      "metadata": {
        "id": "irlUoxc8YrdO"
      },
      "execution_count": null,
      "outputs": []
    },
    {
      "cell_type": "markdown",
      "source": [
        "##### 1. Why did you pick the specific chart?"
      ],
      "metadata": {
        "id": "iky9q4vBYrdO"
      }
    },
    {
      "cell_type": "markdown",
      "source": [
        "The choice of using a bar plot (bar chart) is suitable for visualizing the relationship between categorical data (app categories) and their corresponding quantitative values (number of installs). Bar plots are effective for displaying comparisons between different categories."
      ],
      "metadata": {
        "id": "aJRCwT6DYrdO"
      }
    },
    {
      "cell_type": "markdown",
      "source": [
        "##### 2. What is/are the insight(s) found from the chart?"
      ],
      "metadata": {
        "id": "F6T5p64dYrdO"
      }
    },
    {
      "cell_type": "markdown",
      "source": [
        "Category Popularity: The chart likely shows the number of installs for different app categories. You can easily identify which categories have the highest number of installs. This information helps you understand which app categories are the most popular or widely used among users.\n",
        "\n",
        "Comparative Analysis: By comparing the heights of the bars, you can quickly determine which categories are performing better in terms of the number of installs. This comparison might reveal which categories have the highest user engagement.\n",
        "\n",
        "Identifying Trends: If certain categories consistently have high numbers of installs, it might indicate trends in user preferences. On the other hand, categories with lower installs could represent opportunities for growth or improvement."
      ],
      "metadata": {
        "id": "Xx8WAJvtYrdO"
      }
    },
    {
      "cell_type": "markdown",
      "source": [
        "##### 3. Will the gained insights help creating a positive business impact?\n",
        "Are there any insights that lead to negative growth? Justify with specific reason."
      ],
      "metadata": {
        "id": "y-Ehk30pYrdP"
      }
    },
    {
      "cell_type": "markdown",
      "source": [
        "Positive Impact: If a particular category (such as gaming) has a significantly higher number of installs compared to others, this suggests that it is popular among users. This insight can have a positive business impact, as it indicates a potential market with high user demand.\n",
        "\n",
        "Gaming Popularity: If the 'Gaming' category has a high number of installs, it indicates that gaming apps are indeed popular. This popularity could lead to various positive impacts, including revenue generation, user engagement, and brand recognition.\n",
        "\n",
        "Diversification: While the popularity of gaming apps might create positive impacts, it's also essential for businesses to consider diversification. Relying solely on one category might limit growth opportunities. Exploring other popular categories or niche markets could also lead to positive business outcomes."
      ],
      "metadata": {
        "id": "jLNxxz7MYrdP"
      }
    },
    {
      "cell_type": "markdown",
      "source": [
        "#### Chart - 5(HISTPLOT)"
      ],
      "metadata": {
        "id": "bamQiAODYuh1"
      }
    },
    {
      "cell_type": "code",
      "source": [
        "# Calculate the average rating for each category\n",
        "avg_rating = playstoredf.groupby('Category')['Rating'].mean()\n",
        "\n",
        "# Create a histogram using seaborn\n",
        "plt.figure(figsize=(14, 7))\n",
        "sns.histplot(data=avg_rating, color='green', kde=False)  # Use kde=True for kernel density estimation\n",
        "plt.axvline(playstoredf['Rating'].mean(), color='yellow', linestyle='--')\n",
        "\n",
        "# Set labels and title\n",
        "plt.xlabel('Average Rating')\n",
        "plt.ylabel('Number of App Categories')\n",
        "plt.title('Histogram of Average Rating')\n",
        "\n",
        "# Show the plot\n",
        "plt.show()"
      ],
      "metadata": {
        "id": "TIJwrbroYuh3"
      },
      "execution_count": null,
      "outputs": []
    },
    {
      "cell_type": "markdown",
      "source": [
        "##### 1. Why did you pick the specific chart?"
      ],
      "metadata": {
        "id": "QHF8YVU7Yuh3"
      }
    },
    {
      "cell_type": "markdown",
      "source": [
        "The choice of using a histogram is suitable for visualizing the distribution of a continuous variable (average ratings in this case). Histograms help identify patterns, concentrations, and outliers in the data."
      ],
      "metadata": {
        "id": "dcxuIMRPYuh3"
      }
    },
    {
      "cell_type": "markdown",
      "source": [
        "##### 2. What is/are the insight(s) found from the chart?"
      ],
      "metadata": {
        "id": "GwzvFGzlYuh3"
      }
    },
    {
      "cell_type": "markdown",
      "source": [
        "Rating Distribution: You can observe the distribution of average ratings across app categories. This can help you understand whether ratings are concentrated in a specific range or if they are spread out widely.\n",
        "\n",
        "Central Tendency: The central tendency of the average ratings can be identified, which might indicate the most common rating range.\n",
        "\n",
        "User Satisfaction: If the histogram is skewed towards higher ratings, it suggests that users are generally satisfied with the apps. If it's skewed towards lower ratings, it might signal user dissatisfaction.\n",
        "\n",
        "Quality Perception: Businesses can gauge how users perceive the quality of apps in different categories based on the ratings. High ratings may indicate a positive user experience and app quality."
      ],
      "metadata": {
        "id": "uyqkiB8YYuh3"
      }
    },
    {
      "cell_type": "markdown",
      "source": [
        "##### 3. Will the gained insights help creating a positive business impact?\n",
        "Are there any insights that lead to negative growth? Justify with specific reason."
      ],
      "metadata": {
        "id": "qYpmQ266Yuh3"
      }
    },
    {
      "cell_type": "markdown",
      "source": [
        "Positive Impact: Insights gained from the histogram can have a positive business impact. High average ratings across categories indicate satisfied users, which can lead to increased user retention, positive reviews, and improved brand reputation.\n",
        "\n",
        "Negative Impact: If the histogram shows a concentration of low ratings, it might indicate issues with app quality or user experience. This could lead to negative business impacts such as user churn, poor reviews, and potential revenue loss."
      ],
      "metadata": {
        "id": "_WtzZ_hCYuh4"
      }
    },
    {
      "cell_type": "markdown",
      "source": [
        "#### Chart - 6(JOINT-PLOT)"
      ],
      "metadata": {
        "id": "OH-pJp9IphqM"
      }
    },
    {
      "cell_type": "code",
      "source": [
        "# Create a joint plot using Seaborn\n",
        "sns.jointplot(x=playstoredf['Size'], y=playstoredf['Rating'], height=8, kind='hex')\n",
        "\n",
        "# Show the plot\n",
        "plt.show()"
      ],
      "metadata": {
        "id": "kuRf4wtuphqN"
      },
      "execution_count": null,
      "outputs": []
    },
    {
      "cell_type": "markdown",
      "source": [
        "##### 1. Why did you pick the specific chart?"
      ],
      "metadata": {
        "id": "bbFf2-_FphqN"
      }
    },
    {
      "cell_type": "markdown",
      "source": [
        "This plot provides insights into the relationship between the size of the apps and their ratings. Hexbin plots are useful when you have a large amount of data and you want to visualize the density of points."
      ],
      "metadata": {
        "id": "loh7H2nzphqN"
      }
    },
    {
      "cell_type": "markdown",
      "source": [
        "##### 2. What is/are the insight(s) found from the chart?"
      ],
      "metadata": {
        "id": "_ouA3fa0phqN"
      }
    },
    {
      "cell_type": "markdown",
      "source": [
        "App Size and Ratings: The hexbin plot helps you see how the distribution of app sizes relates to their ratings. You can observe whether apps with certain sizes tend to receive higher or lower ratings.\n",
        "\n",
        "Density: The density of points in different areas of the plot indicates where data points are more concentrated. This can show if there's a particular size range that is associated with higher or lower ratings.\n",
        "\n",
        "Outliers: Outliers or unusual patterns in the hexbins might indicate interesting cases where app size and ratings deviate from the norm.App Size and Ratings: The hexbin plot helps you see how the distribution of app sizes relates to their ratings. You can observe whether apps with certain sizes tend to receive higher or lower ratings.\n",
        "\n",
        "Density: The density of points in different areas of the plot indicates where data points are more concentrated. This can show if there's a particular size range that is associated with higher or lower ratings.\n",
        "Outliers: Outliers or unusual patterns in the hexbins might indicate interesting cases where app size and ratings deviate from the norm."
      ],
      "metadata": {
        "id": "VECbqPI7phqN"
      }
    },
    {
      "cell_type": "markdown",
      "source": [
        "##### 3. Will the gained insights help creating a positive business impact?\n",
        "Are there any insights that lead to negative growth? Justify with specific reason."
      ],
      "metadata": {
        "id": "Seke61FWphqN"
      }
    },
    {
      "cell_type": "markdown",
      "source": [
        "Optimal App Size: Insights from this plot could help businesses determine if there's an optimal size range that tends to result in higher ratings. Developing apps within this size range might lead to better user satisfaction and positive reviews.\n",
        "\n",
        "User Experience: Understanding how app size relates to ratings can guide decisions about optimizing app performance, download times, and user experience. Smaller and more efficient apps might lead to higher ratings.\n",
        "\n",
        "Resource Allocation: If larger apps tend to have lower ratings, businesses might prioritize optimizing app size to create a positive impact on user satisfaction."
      ],
      "metadata": {
        "id": "DW4_bGpfphqN"
      }
    },
    {
      "cell_type": "markdown",
      "source": [
        "#### Chart - 7(Scatter-Plot)"
      ],
      "metadata": {
        "id": "PIIx-8_IphqN"
      }
    },
    {
      "cell_type": "code",
      "source": [
        "# Create a scatter plot using Seaborn\n",
        "plt.figure(figsize=(14, 10))\n",
        "sns.scatterplot(data=playstoredf, x='Price', y='Category', alpha=0.5)\n",
        "\n",
        "# Set labels and title\n",
        "plt.xlabel('Price')\n",
        "plt.ylabel('App Category')\n",
        "plt.title('App Price vs Category')\n",
        "\n",
        "# Show the plot\n",
        "plt.show()"
      ],
      "metadata": {
        "id": "lqAIGUfyphqO"
      },
      "execution_count": null,
      "outputs": []
    },
    {
      "cell_type": "markdown",
      "source": [
        "##### 1. Why did you pick the specific chart?"
      ],
      "metadata": {
        "id": "t27r6nlMphqO"
      }
    },
    {
      "cell_type": "markdown",
      "source": [
        "The choice of using a scatter plot is suitable for visualizing the relationship between two continuous variables: app prices and categories. Scatter plots help identify patterns, trends, and potential outliers in the data."
      ],
      "metadata": {
        "id": "iv6ro40sphqO"
      }
    },
    {
      "cell_type": "markdown",
      "source": [
        "##### 2. What is/are the insight(s) found from the chart?"
      ],
      "metadata": {
        "id": "r2jJGEOYphqO"
      }
    },
    {
      "cell_type": "markdown",
      "source": [
        "Price Distribution: The scatter plot allows you to observe how app prices are distributed within each category. You can identify whether certain categories tend to have higher or lower prices.\n",
        "\n",
        "Outliers: Outlying points might indicate apps with unusual pricing within specific categories. These could be premium apps, free apps with in-app purchases, or apps with pricing strategies that deviate from the norm.\n",
        "\n",
        "Price Comparison: You can compare pricing patterns across different categories and identify any commonalities or differences in pricing strategies."
      ],
      "metadata": {
        "id": "Po6ZPi4hphqO"
      }
    },
    {
      "cell_type": "markdown",
      "source": [
        "##### 3. Will the gained insights help creating a positive business impact?\n",
        "Are there any insights that lead to negative growth? Justify with specific reason."
      ],
      "metadata": {
        "id": "b0JNsNcRphqO"
      }
    },
    {
      "cell_type": "markdown",
      "source": [
        "Pricing Strategy: Insights from the scatter plot can inform businesses about effective pricing strategies for different app categories. It might reveal whether users in certain categories are more willing to pay higher prices for apps.\n",
        "\n",
        "Competitive Analysis: By comparing app prices across categories, businesses can gain insights into how their pricing compares to competitors within each category.\n",
        "\n",
        "Revenue Optimization: Understanding pricing trends and patterns can help optimize revenue generation. It might lead to adjustments in pricing models, introduction of new pricing tiers, or special offers based on user preferences within specific categories.\n",
        "\n",
        "Negative Growth Insights:\n",
        "\n",
        "Overpriced Apps: If the scatter plot shows that most apps within a certain category have high prices and low user engagement (downloads, ratings), it might indicate that the category is overpriced relative to user expectations. This could lead to negative growth as users might avoid purchasing or engaging with such apps."
      ],
      "metadata": {
        "id": "xvSq8iUTphqO"
      }
    },
    {
      "cell_type": "markdown",
      "source": [
        "#### Chart - 8(PIE-CHART)"
      ],
      "metadata": {
        "id": "BZR9WyysphqO"
      }
    },
    {
      "cell_type": "code",
      "source": [
        "# Group by app type and count the number of apps\n",
        "freevspaid = playstoredf.groupby('Type').size()\n",
        "\n",
        "# Create a pie chart using matplotlib\n",
        "plt.figure(figsize=(12, 8))\n",
        "plt.pie(freevspaid, labels=['Free', 'Paid'], shadow=True, autopct='%.2f')\n",
        "\n",
        "# Add a title\n",
        "plt.title('Distribution of Free vs Paid Apps')\n",
        "\n",
        "# Show the pie chart\n",
        "plt.show()"
      ],
      "metadata": {
        "id": "TdPTWpAVphqO"
      },
      "execution_count": null,
      "outputs": []
    },
    {
      "cell_type": "markdown",
      "source": [
        "##### 1. Why did you pick the specific chart?"
      ],
      "metadata": {
        "id": "jj7wYXLtphqO"
      }
    },
    {
      "cell_type": "markdown",
      "source": [
        " A pie chart provides a clear visual comparison of the proportions of two categories (free and paid apps) within a whole (total number of apps). This makes it easy to understand the relative distribution at a glance."
      ],
      "metadata": {
        "id": "Ob8u6rCTphqO"
      }
    },
    {
      "cell_type": "markdown",
      "source": [
        "##### 2. What is/are the insight(s) found from the chart?"
      ],
      "metadata": {
        "id": "eZrbJ2SmphqO"
      }
    },
    {
      "cell_type": "markdown",
      "source": [
        "Proportion of Free vs. Paid Apps: The pie chart clearly displays the proportion of free and paid apps in your dataset. You can easily see what percentage of apps are offered for free and what percentage are paid.\n",
        "\n",
        "User Engagement and Adoption:\n",
        "\n",
        "Free Apps: If the majority of apps are free, it suggests that your focus might be on user engagement and reaching a wider audience. Free apps could attract more downloads and potentially lead to increased user adoption.\n",
        "Paid Apps: If a significant portion of apps are paid, it might indicate a focus on monetization strategies. Users who pay for apps might have higher engagement and commitment to the app's functionality.\n",
        "Monetization Strategy:\n",
        "\n",
        "Free Apps: A higher proportion of free apps could imply that your business is aiming to generate revenue through alternative means, such as in-app advertisements, microtransactions, or premium features within free apps.\n",
        "Paid Apps: A larger share of paid apps might indicate a direct revenue model, where users pay upfront for app access. This could lead to higher immediate revenue per download.\n",
        "User Expectations and Value Perception:\n",
        "\n",
        "Free Apps: Users typically expect free apps to be available for download. This can lead to wider adoption, but it might also require careful management of user expectations regarding in-app purchases or advertisements.\n",
        "Paid Apps: Users who pay for apps often have higher expectations of quality, features, and a premium experience. Paid apps need to deliver substantial value to justify the upfront cost.\n",
        "Market Dynamics and Competition:\n",
        "\n",
        "Free Apps: A higher proportion of free apps might indicate a strategy to capture a larger user base and compete in a market where free apps dominate.\n",
        "Paid Apps: A focus on paid apps could suggest targeting a niche market, offering unique features, or competing based on app quality rather than price."
      ],
      "metadata": {
        "id": "mZtgC_hjphqO"
      }
    },
    {
      "cell_type": "markdown",
      "source": [
        "##### 3. Will the gained insights help creating a positive business impact?\n",
        "Are there any insights that lead to negative growth? Justify with specific reason."
      ],
      "metadata": {
        "id": "rFu4xreNphqO"
      }
    },
    {
      "cell_type": "markdown",
      "source": [
        "Positive Impact: The insights gained can help tailor your business strategy. If free apps dominate, you may benefit from higher user engagement, broader brand recognition, and potential revenue from alternative sources. With more paid apps, your business might generate higher immediate revenue per download."
      ],
      "metadata": {
        "id": "ey_0qi68phqO"
      }
    },
    {
      "cell_type": "markdown",
      "source": [
        "#### Chart - 9(CATPLOT)"
      ],
      "metadata": {
        "id": "YJ55k-q6phqO"
      }
    },
    {
      "cell_type": "code",
      "source": [
        "# Select the top categories\n",
        "top_categories = playstoredf[playstoredf.Category.isin(['GAME', 'FAMILY', 'PHOTOGRAPHY', 'MEDICAL', 'TOOLS', 'FINANCE',\n",
        "                                                           'LIFESTYLE', 'BUSINESS', 'PRODUCTIVITY', 'PERSONALIZATION',\n",
        "                                                           'SPORTS', 'COMMUNICATION', 'HEALTH_AND_FITNESS',\n",
        "                                                           'NEWS_AND_MAGAZINES', 'SOCIAL'])]\n",
        "\n",
        "# Set the figure size and style\n",
        "plt.figure(figsize=(12, 6))\n",
        "sns.set(font_scale=1)\n",
        "sns.set_style(\"darkgrid\")\n",
        "\n",
        "# Create the swarm plot using catplot\n",
        "lets = sns.catplot(x=\"Price\", y=\"Category\", kind=\"swarm\", data=top_categories)\n",
        "\n",
        "# Customize the plot\n",
        "lets.set(xlabel='Price', ylabel='Category')\n",
        "plt.title('App Pricing Trend Across Categories', size=14)\n",
        "\n",
        "# Show the plot\n",
        "plt.show()"
      ],
      "metadata": {
        "id": "B2aS4O1ophqO"
      },
      "execution_count": null,
      "outputs": []
    },
    {
      "cell_type": "markdown",
      "source": [
        "##### 1. Why did you pick the specific chart?"
      ],
      "metadata": {
        "id": "gCFgpxoyphqP"
      }
    },
    {
      "cell_type": "markdown",
      "source": [
        "A categorical scatter plot (swarm plot) is often chosen when you want to visualize the distribution of a numeric variable (such as app prices) within different categories. It's particularly useful when you have discrete categories and want to see how the data points are distributed across these categories. The swarm plot places each data point along the categorical axis, avoiding overlap and providing a clear view of the data density."
      ],
      "metadata": {
        "id": "TVxDimi2phqP"
      }
    },
    {
      "cell_type": "markdown",
      "source": [
        "##### 2. What is/are the insight(s) found from the chart?"
      ],
      "metadata": {
        "id": "OVtJsKN_phqQ"
      }
    },
    {
      "cell_type": "markdown",
      "source": [
        "Potential Insights (Hypothetical):\n",
        "Since I can't see your specific chart, I'll provide hypothetical insights that could be derived from the analysis:\n",
        "\n",
        "Price Concentration: You might find that most apps in the \"Medical\" and \"Health and Fitness\" categories are priced relatively higher compared to other categories. This could suggest that users are willing to pay more for apps related to health and wellness.\n",
        "\n",
        "Free Dominance: You could observe that the \"Social\" and \"Communication\" categories have a larger concentration of free apps compared to other categories. This might indicate that competition is high in these categories, leading to a prevalence of free offerings.\n",
        "\n",
        "Price Disparity: There might be outliers in categories like \"Business\" and \"Productivity\" where some apps are priced significantly higher than others. This could signify specialized or premium offerings in these categories.\n",
        "Family and Lifestyle: The \"Family\" and \"Lifestyle\" categories might show a wide range of prices, suggesting diverse pricing strategies in these categories."
      ],
      "metadata": {
        "id": "ngGi97qjphqQ"
      }
    },
    {
      "cell_type": "markdown",
      "source": [
        "##### 3. Will the gained insights help creating a positive business impact?\n",
        "Are there any insights that lead to negative growth? Justify with specific reason."
      ],
      "metadata": {
        "id": "lssrdh5qphqQ"
      }
    },
    {
      "cell_type": "markdown",
      "source": [
        "Pricing Strategy: Businesses could adjust their pricing strategies based on the observed trends in each category. They might choose to align their prices with customer expectations or differentiate themselves through premium pricing.\\\n",
        "\n",
        "Monetization Opportunities: If a certain category (e.g., \"Medical\") demonstrates a higher willingness to pay, businesses could explore offering additional paid features or versions to increase revenue.\n",
        "\n",
        "Marketing Focus: Insights on the prevalence of free apps in certain categories could guide marketing efforts. For instance, businesses could emphasize value propositions or unique features to stand out from competitors.\n",
        "\n",
        "App Development: Understanding pricing trends can influence decisions about which categories to target for new app development or updates. It could also drive innovation in terms of features and pricing models."
      ],
      "metadata": {
        "id": "tBpY5ekJphqQ"
      }
    },
    {
      "cell_type": "markdown",
      "source": [
        "#### Chart - 10(PAIR-PLOT)"
      ],
      "metadata": {
        "id": "U2RJ9gkRphqQ"
      }
    },
    {
      "cell_type": "code",
      "source": [
        "#adding a pair plot for reviews,size,rating,price\n",
        "sns.pairplot(mergedf, vars=['Reviews', 'Size', 'Rating', 'Price'], kind='reg')\n",
        "\n",
        "#show the plot\n",
        "plt.show()\n",
        ""
      ],
      "metadata": {
        "id": "GM7a4YP4phqQ"
      },
      "execution_count": null,
      "outputs": []
    },
    {
      "cell_type": "markdown",
      "source": [
        "##### 1. Why did you pick the specific chart?"
      ],
      "metadata": {
        "id": "1M8mcRywphqQ"
      }
    },
    {
      "cell_type": "markdown",
      "source": [
        "The pair plot you've generated is a matrix of scatter plots with regression lines (kind='reg') that allows you to visualize the relationships and correlations between the selected variables: 'Reviews', 'Size', 'Rating', and 'Price'. This is a suitable choice when you want to explore how these numeric variables are interrelated."
      ],
      "metadata": {
        "id": "8agQvks0phqQ"
      }
    },
    {
      "cell_type": "markdown",
      "source": [
        "##### 2. What is/are the insight(s) found from the chart?"
      ],
      "metadata": {
        "id": "tgIPom80phqQ"
      }
    },
    {
      "cell_type": "markdown",
      "source": [
        "Reviews vs. Rating: You could observe whether apps with higher review counts tend to have higher ratings. A positive correlation between these variables could suggest that popular apps also tend to be well-rated.\n",
        "\n",
        "Size vs. Price: You might identify whether there's a relationship between the size of an app and its price. Apps with larger sizes might be priced differently compared to smaller apps.\n",
        "\n",
        "Rating vs. Price: This could reveal whether higher-priced apps tend to have better ratings, or if there's no clear relationship between price and user satisfaction.\n",
        "\n",
        "Correlations: You'll be able to visually assess the strength and direction of correlations between these variables. For example, a strong positive correlation between 'Reviews' and 'Size' might indicate that larger apps receive more review"
      ],
      "metadata": {
        "id": "Qp13pnNzphqQ"
      }
    },
    {
      "cell_type": "markdown",
      "source": [
        "##### 3. Will the gained insights help creating a positive business impact?\n",
        "Are there any insights that lead to negative growth? Justify with specific reason."
      ],
      "metadata": {
        "id": "JMzcOPDDphqR"
      }
    },
    {
      "cell_type": "markdown",
      "source": [
        "Pricing Strategy: If you observe that higher-priced apps tend to have better ratings, a business might consider adjusting their pricing strategy to reflect perceived value.\n",
        "\n",
        "Resource Allocation: Understanding the relationship between app size and reviews could guide resource allocation for app development and optimization.\n",
        "User Experience: Insights about correlations can help prioritize features for user satisfaction. For instance, if 'Size' is correlated with 'Reviews', focusing on optimizing app size could lead to better user engagement.\n",
        "\n",
        "Marketing Campaigns: The findings could inform targeted marketing strategies. For example, if high-priced apps tend to have high ratings, that could be a selling point in marketing materials."
      ],
      "metadata": {
        "id": "R4Ka1PC2phqR"
      }
    },
    {
      "cell_type": "markdown",
      "source": [
        "#### Chart - 11- Correlation Heatmap"
      ],
      "metadata": {
        "id": "NC_X3p0fY2L0"
      }
    },
    {
      "cell_type": "code",
      "source": [
        "#Heatmap for Merge dataframe\n",
        "sns.heatmap(data = mergedf.corr(), annot = True, cmap = \"coolwarm\")"
      ],
      "metadata": {
        "id": "68Mg3ID4VAPH"
      },
      "execution_count": null,
      "outputs": []
    },
    {
      "cell_type": "markdown",
      "source": [
        "##### 1. Why did you pick the specific chart?"
      ],
      "metadata": {
        "id": "UV0SzAkaZNRQ"
      }
    },
    {
      "cell_type": "markdown",
      "source": [
        "Correlation Overview: The heatmap provides a comprehensive view of the correlation between all pairs of numerical variables in your merged DataFrame. It's an effective way to quickly identify patterns and relationships.\n",
        "\n",
        "Color Representation: The color-coded representation of correlations makes it easy to spot strong and weak correlations. Warm colors (reds) indicate positive correlations, cool colors (blues) indicate negative correlations, and neutral colors (whites) indicate little to no correlation."
      ],
      "metadata": {
        "id": "DVPuT8LYZNRQ"
      }
    },
    {
      "cell_type": "markdown",
      "source": [
        "##### 2. What is/are the insight(s) found from the chart?"
      ],
      "metadata": {
        "id": "YPEH6qLeZNRQ"
      }
    },
    {
      "cell_type": "markdown",
      "source": [
        "Variable Relationships: You can identify which pairs of variables are positively correlated, negatively correlated, or not correlated at all. For example, if 'Reviews' and 'Rating' have a strong positive correlation, it suggests that apps with more reviews tend to have higher ratings.\n",
        "\n",
        "Multicollinearity: High correlations between variables could indicate multicollinearity, where two or more variables are closely related. This might impact the stability and interpretability of regression models.\n",
        "\n",
        "Feature Selection: The heatmap helps you prioritize variables for further analysis. Highly correlated variables might provide similar information, so you may choose to keep only one of them to simplify your analysis.\n",
        "\n",
        "Data Validation: Unexpected or counterintuitive correlations might indicate errors in the data or outliers that need further investigation."
      ],
      "metadata": {
        "id": "bfSqtnDqZNRR"
      }
    },
    {
      "cell_type": "markdown",
      "source": [
        "## **5. Solution to Business Objective**"
      ],
      "metadata": {
        "id": "JcMwzZxoAimU"
      }
    },
    {
      "cell_type": "markdown",
      "source": [
        "#### What do you suggest the client to achieve Business Objective ?\n",
        "Explain Briefly."
      ],
      "metadata": {
        "id": "8G2x9gOozGDZ"
      }
    },
    {
      "cell_type": "markdown",
      "source": [
        "To provide meaningful suggestions for analyzing Play Store review data and achieving business objectives, it's essential to understand the specific goals of the client. However, here are some general steps and recommendations that the client could consider:\n",
        "\n",
        "1. Define Business Objectives:\n",
        "Clearly define the business objectives related to Play Store review data analysis. Are you aiming to improve app ratings, increase user engagement, optimize pricing, enhance app features, or something else? Identifying clear objectives will guide your analysis.\n",
        "\n",
        "2. Data Collection and Preprocessing:\n",
        "Ensure you have access to comprehensive and accurate Play Store review data. Collect data on reviews, ratings, app features, downloads, pricing, and any other relevant metrics. Preprocess the data by handling missing values, duplicates, and outliers.\n",
        "\n",
        "3. Sentiment Analysis:\n",
        "Perform sentiment analysis on reviews to gauge user sentiments—positive, negative, or neutral. This analysis can uncover areas where users are satisfied or dissatisfied with the app.\n",
        "\n",
        "4. Key Metrics Analysis:\n",
        "Analyze key metrics like average rating, review count, and download count over time. Identify trends, spikes, or dips that could indicate changes in user perception or app performance.\n",
        "\n",
        "5. Correlation Analysis:\n",
        "Investigate correlations between different variables such as ratings, reviews, pricing, and features. Identify which factors might be influencing app performance and user satisfaction.\n",
        "\n",
        "6. Feature Analysis:\n",
        "Analyze user reviews to identify common feature requests, complaints, or suggestions. Prioritize feature enhancements based on user feedback.\n",
        "\n",
        "7. Competitor Analysis:\n",
        "Compare your app's performance with competitors in terms of ratings, reviews, and features. Understand what makes your app unique and where improvements are needed.\n",
        "\n",
        "8. User Segmentation:\n",
        "Segment users based on demographics, usage patterns, or behavior. Tailor your strategies to different user groups for more targeted marketing and feature development.\n",
        "\n",
        "9. Pricing Strategy Optimization:\n",
        "Analyze the relationship between app pricing, ratings, and reviews. Determine if adjusting the pricing strategy could lead to higher user satisfaction and revenue.\n",
        "\n",
        "10. Review Response Strategy:\n",
        "Develop a strategy for responding to user reviews. Address negative reviews promptly, show appreciation for positive feedback, and communicate plans for addressing user concerns.\n",
        "\n",
        "11. A/B Testing:\n",
        "Implement A/B testing for app updates or feature changes to measure the impact on ratings, reviews, and user engagement.\n",
        "\n",
        "12. Continuous Monitoring:\n",
        "Regularly monitor app performance, reviews, and ratings to track the impact of changes and measure progress toward business objectives.\n",
        "\n",
        "13. User Engagement Initiatives:\n",
        "Implement initiatives to increase user engagement, such as in-app notifications, personalized recommendations, loyalty programs, or gamification.\n",
        "\n",
        "14. Marketing and Promotion:\n",
        "Utilize positive user reviews and high ratings in marketing materials. Highlight app features that users appreciate the most.\n",
        "\n",
        "15. User Experience Improvement:\n",
        "Continuously work on improving the user experience based on feedback. Enhance usability, navigation, and overall app functionality."
      ],
      "metadata": {
        "id": "pASKb0qOza21"
      }
    },
    {
      "cell_type": "code",
      "source": [
        "mergedf.describe()"
      ],
      "metadata": {
        "id": "vFOciLJyXR7t"
      },
      "execution_count": null,
      "outputs": []
    },
    {
      "cell_type": "markdown",
      "source": [
        "# **Conclusion**"
      ],
      "metadata": {
        "id": "gCX9965dhzqZ"
      }
    },
    {
      "cell_type": "markdown",
      "source": [
        "User Satisfaction: The majority of apps have a favorable average rating of 4.30, indicating a positive user sentiment and overall satisfaction with the app offerings.\n",
        "\n",
        "Wide User Engagement: Apps exhibit a broad range of review counts, suggesting diverse user engagement levels. Encouraging more reviews could enhance app visibility and user feedback.\n",
        "\n",
        "App Size Impact: App sizes vary widely, with a median of 20 MB. Optimizing app size may cater to users' storage constraints and contribute to a better user experience.\n",
        "\n",
        "Popular Install Range: The average number of installs stands at approximately 43.78 million, indicating a broad user base. Targeting app promotion and marketing toward achieving higher installs could be beneficial.\n",
        "\n",
        "Pricing Landscape: While the majority of apps are offered for free, a price range of up to $29.99 exists. Striking a balance between user value and pricing strategy is crucial for app monetization.\n",
        "\n",
        "Positive Sentiments: User reviews exhibit a generally positive sentiment polarity, with an average of 0.18. Addressing and amplifying positive sentiments can further enhance user satisfaction.\n",
        "\n",
        "Objective User Feedback: Most reviews reflect an objective sentiment subjectivity (0.49), indicating an opportunity to encourage users to provide more personalized and subjective feedback.\n",
        "\n",
        "Data-Driven Insights: By analyzing these metrics, app developers can make informed decisions, enhance user experience, and implement strategies to bolster app performance and engagement."
      ],
      "metadata": {
        "id": "Fjb1IsQkh3yE"
      }
    },
    {
      "cell_type": "markdown",
      "source": [
        "### ***Hurrah! You have successfully completed your EDA Capstone Project !!!***"
      ],
      "metadata": {
        "id": "gIfDvo9L0UH2"
      }
    }
  ]
}